{
 "cells": [
  {
   "cell_type": "markdown",
   "metadata": {},
   "source": [
    "# Setup"
   ]
  },
  {
   "cell_type": "code",
   "execution_count": 1,
   "metadata": {},
   "outputs": [
    {
     "name": "stderr",
     "output_type": "stream",
     "text": [
      "/home/fanpeng/miniconda3/envs/tf2/lib/python3.8/site-packages/scipy/__init__.py:146: UserWarning: A NumPy version >=1.16.5 and <1.23.0 is required for this version of SciPy (detected version 1.24.4\n",
      "  warnings.warn(f\"A NumPy version >={np_minversion} and <{np_maxversion}\"\n"
     ]
    }
   ],
   "source": [
    "# Python ≥3.5 is required\n",
    "import sys\n",
    "assert sys.version_info >= (3, 5)\n",
    "\n",
    "# Scikit-Learn ≥0.20 is required\n",
    "import sklearn\n",
    "assert sklearn.__version__ >= \"0.20\"\n",
    "\n",
    "try:\n",
    "    # %tensorflow_version only exists in Colab.\n",
    "    %tensorflow_version 2.x\n",
    "except Exception:\n",
    "    pass\n",
    "\n",
    "# TensorFlow ≥2.0 is required\n",
    "import tensorflow as tf\n",
    "from tensorflow import keras\n",
    "assert tf.__version__ >= \"2.0\"\n",
    "\n",
    "%load_ext tensorboard\n",
    "\n",
    "# Common imports\n",
    "import numpy as np\n",
    "import os\n",
    "\n",
    "# to make this notebook's output stable across runs\n",
    "np.random.seed(42)\n",
    "\n",
    "# To plot pretty figures\n",
    "%matplotlib inline\n",
    "import matplotlib as mpl\n",
    "import matplotlib.pyplot as plt\n",
    "mpl.rc('axes', labelsize=14)\n",
    "mpl.rc('xtick', labelsize=12)\n",
    "mpl.rc('ytick', labelsize=12)\n",
    "\n",
    "# Where to save the figures\n",
    "PROJECT_ROOT_DIR = \".\"\n",
    "CHAPTER_ID = \"deep\"\n",
    "IMAGES_PATH = os.path.join(PROJECT_ROOT_DIR, \"images\", CHAPTER_ID)\n",
    "os.makedirs(IMAGES_PATH, exist_ok=True)\n",
    "\n",
    "def save_fig(fig_id, tight_layout=True, fig_extension=\"png\", resolution=300):\n",
    "    path = os.path.join(IMAGES_PATH, fig_id + \".\" + fig_extension)\n",
    "    print(\"Saving figure\", fig_id)\n",
    "    if tight_layout:\n",
    "        plt.tight_layout()\n",
    "    plt.savefig(path, format=fig_extension, dpi=resolution)"
   ]
  },
  {
   "cell_type": "markdown",
   "metadata": {},
   "source": [
    "# Questions"
   ]
  },
  {
   "cell_type": "markdown",
   "metadata": {},
   "source": [
    "## 1. \n",
    "*Is it OK to initialize all the weights to the same value as long as that value is selected randomly using He initialization?*\n"
   ]
  },
  {
   "cell_type": "markdown",
   "metadata": {},
   "source": [
    "No, all weights should be sampled independently; they should not all have the\n",
    "same initial value. One important goal of sampling weights randomly is to break\n",
    "symmetry: if all the weights have the same initial value, even if that value is not\n",
    "zero, then symmetry is not broken (i.e., all neurons in a given layer are equiva‐\n",
    "lent), and backpropagation will be unable to break it. Concretely, this means that\n",
    "all the neurons in any given layer will always have the same weights. It’s like hav‐\n",
    "ing just one neuron per layer, and much slower. It is virtually impossible for such\n",
    "a configuration to converge to a good solution."
   ]
  },
  {
   "cell_type": "markdown",
   "metadata": {},
   "source": [
    "## 2. \n",
    "*Is it OK to initialize the bias terms to 0?*\n"
   ]
  },
  {
   "cell_type": "markdown",
   "metadata": {},
   "source": [
    "It is perfectly fine to initialize the bias terms to zero. Some people like to initialize\n",
    "them just like weights, and that’s okay too; it does not make much difference."
   ]
  },
  {
   "cell_type": "markdown",
   "metadata": {},
   "source": [
    "## 3. \n",
    "*Name three advantages of the SELU activation function over ReLU.*\n"
   ]
  },
  {
   "cell_type": "markdown",
   "metadata": {},
   "source": [
    "* It can take on negative values, so the average output of the neurons in any\n",
    "given layer is typically closer to zero than when using the ReLU activation\n",
    "function (which never outputs negative values). This helps alleviate the vanish‐\n",
    "ing gradients problem.\n",
    "\n",
    "* It always has a nonzero derivative, which avoids the dying units issue that can\n",
    "affect ReLU units.\n",
    "\n",
    "* When the conditions are right (i.e., if the model is sequential, and the weights\n",
    "are initialized using LeCun initialization, and the inputs are standardized, and\n",
    "there’s no incompatible layer or regularization, such as dropout or ℓ1 regulari‐\n",
    "zation), then the SELU activation function ensures the model is self-\n",
    "normalized, which solves the exploding/vanishing gradients problems."
   ]
  },
  {
   "cell_type": "markdown",
   "metadata": {},
   "source": [
    "## 4. \n",
    "*In which cases would you want to use each of the following activation functions: SELU, leaky ReLU (and its variants), ReLU, tanh, logistic, and softmax?*\n"
   ]
  },
  {
   "cell_type": "markdown",
   "metadata": {},
   "source": [
    "The SELU activation function is a good default. If you need the neural network to\n",
    "be as fast as possible, you can use one of the leaky ReLU variants instead (e.g., a\n",
    "simple leaky ReLU using the default hyperparameter value). The simplicity of the\n",
    "ReLU activation function makes it many people’s preferred option, despite the\n",
    "fact that it is generally outperformed by SELU and leaky ReLU. However, the\n",
    "ReLU activation function’s ability to output precisely zero can be useful in some\n",
    "cases (e.g., see Chapter 17). Moreover, it can sometimes benefit from optimized\n",
    "implementation as well as from hardware acceleration. The hyperbolic tangent\n",
    "(tanh) can be useful in the output layer if you need to output a number between\n",
    "–1 and 1, but nowadays it is not used much in hidden layers (except in recurrent\n",
    "nets). The logistic activation function is also useful in the output layer when you\n",
    "need to estimate a probability (e.g., for binary classification), but is rarely used in\n",
    "hidden layers (there are exceptions—for example, for the coding layer of varia‐\n",
    "tional autoencoders; see Chapter 17). Finally, the softmax activation function is\n",
    "useful in the output layer to output probabilities for mutually exclusive classes,\n",
    "but it is rarely (if ever) used in hidden layers."
   ]
  },
  {
   "cell_type": "markdown",
   "metadata": {},
   "source": [
    "## 5. \n",
    "*What may happen if you set the momentum hyperparameter too close to 1 (e.g., 0.99999) when using an SGD optimizer?*\n"
   ]
  },
  {
   "cell_type": "markdown",
   "metadata": {},
   "source": [
    "If you set the momentum hyperparameter too close to 1 (e.g., 0.99999) when using\n",
    "an SGD optimizer, then the algorithm will likely pick up a lot of speed, hopefully\n",
    "moving roughly toward the global minimum, but its momentum will carry it\n",
    "right past the minimum. Then it will slow down and come back, accelerate again,\n",
    "overshoot again, and so on. It may oscillate this way many times before converg‐\n",
    "ing, so overall it will take much longer to converge than with a smaller momentum\n",
    "value."
   ]
  },
  {
   "cell_type": "markdown",
   "metadata": {},
   "source": [
    "## 6. \n",
    "*Name three ways you can produce a sparse model.*"
   ]
  },
  {
   "cell_type": "markdown",
   "metadata": {},
   "source": [
    "One way to produce a sparse model (i.e., with most weights equal to zero) is to\n",
    "train the model normally, then zero out tiny weights. For more sparsity, you can\n",
    "apply ℓ1 regularization during training, which pushes the optimizer toward spar‐\n",
    "sity. A third option is to use the TensorFlow Model Optimization Toolkit."
   ]
  },
  {
   "cell_type": "markdown",
   "metadata": {},
   "source": [
    "## 7. \n",
    "*Does dropout slow down training? Does it slow down inference (i.e., making predictions on new instances)? What about MC Dropout?*"
   ]
  },
  {
   "cell_type": "markdown",
   "metadata": {},
   "source": [
    "Yes, dropout does slow down training, in general roughly by a factor of two.\n",
    "However, it has no impact on inference speed since it is only turned on during\n",
    "training. MC Dropout is exactly like dropout during training, but it is still active\n",
    "during inference, so each inference is slowed down slightly. More importantly,\n",
    "when using MC Dropout you generally want to run inference 10 times or more\n",
    "to get better predictions. This means that making predictions is slowed down by\n",
    "a factor of 10 or more."
   ]
  },
  {
   "cell_type": "markdown",
   "metadata": {},
   "source": [
    "## 8.\n",
    "Practice training a deep neural network on the CIFAR10 image dataset:\n"
   ]
  },
  {
   "cell_type": "markdown",
   "metadata": {},
   "source": [
    "*a. Build a DNN with 20 hidden layers of 100 neurons each (that’s too many, but\n",
    "it’s the point of this exercise). Use He initialization and the ELU activation\n",
    "function.*\n"
   ]
  },
  {
   "cell_type": "code",
   "execution_count": 2,
   "metadata": {},
   "outputs": [
    {
     "name": "stderr",
     "output_type": "stream",
     "text": [
      "2024-02-06 21:41:32.511223: I tensorflow/stream_executor/cuda/cuda_gpu_executor.cc:936] successful NUMA node read from SysFS had negative value (-1), but there must be at least one NUMA node, so returning NUMA node zero\n",
      "2024-02-06 21:41:32.615660: I tensorflow/stream_executor/cuda/cuda_gpu_executor.cc:936] successful NUMA node read from SysFS had negative value (-1), but there must be at least one NUMA node, so returning NUMA node zero\n",
      "2024-02-06 21:41:32.616158: I tensorflow/stream_executor/cuda/cuda_gpu_executor.cc:936] successful NUMA node read from SysFS had negative value (-1), but there must be at least one NUMA node, so returning NUMA node zero\n",
      "2024-02-06 21:41:32.619361: I tensorflow/core/platform/cpu_feature_guard.cc:151] This TensorFlow binary is optimized with oneAPI Deep Neural Network Library (oneDNN) to use the following CPU instructions in performance-critical operations:  AVX2 FMA\n",
      "To enable them in other operations, rebuild TensorFlow with the appropriate compiler flags.\n",
      "2024-02-06 21:41:32.621097: I tensorflow/stream_executor/cuda/cuda_gpu_executor.cc:936] successful NUMA node read from SysFS had negative value (-1), but there must be at least one NUMA node, so returning NUMA node zero\n",
      "2024-02-06 21:41:32.621558: I tensorflow/stream_executor/cuda/cuda_gpu_executor.cc:936] successful NUMA node read from SysFS had negative value (-1), but there must be at least one NUMA node, so returning NUMA node zero\n",
      "2024-02-06 21:41:32.621855: I tensorflow/stream_executor/cuda/cuda_gpu_executor.cc:936] successful NUMA node read from SysFS had negative value (-1), but there must be at least one NUMA node, so returning NUMA node zero\n",
      "2024-02-06 21:41:33.808797: I tensorflow/stream_executor/cuda/cuda_gpu_executor.cc:936] successful NUMA node read from SysFS had negative value (-1), but there must be at least one NUMA node, so returning NUMA node zero\n",
      "2024-02-06 21:41:33.809353: I tensorflow/stream_executor/cuda/cuda_gpu_executor.cc:936] successful NUMA node read from SysFS had negative value (-1), but there must be at least one NUMA node, so returning NUMA node zero\n",
      "2024-02-06 21:41:33.809666: I tensorflow/stream_executor/cuda/cuda_gpu_executor.cc:936] successful NUMA node read from SysFS had negative value (-1), but there must be at least one NUMA node, so returning NUMA node zero\n",
      "2024-02-06 21:41:33.810453: I tensorflow/core/common_runtime/gpu/gpu_device.cc:1525] Created device /job:localhost/replica:0/task:0/device:GPU:0 with 1810 MB memory:  -> device: 0, name: NVIDIA GeForce GTX 1050 Ti with Max-Q Design, pci bus id: 0000:01:00.0, compute capability: 6.1\n"
     ]
    }
   ],
   "source": [
    "keras.backend.clear_session()\n",
    "tf.random.set_seed(42)\n",
    "np.random.seed(42)\n",
    "\n",
    "model = keras.models.Sequential()\n",
    "model.add(keras.layers.Flatten(input_shape=[32, 32, 3]))\n",
    "for _ in range(20):\n",
    "    model.add(keras.layers.Dense(100,\n",
    "                                 activation='elu',\n",
    "                                 kernel_initializer='he_normal'))"
   ]
  },
  {
   "cell_type": "markdown",
   "metadata": {},
   "source": [
    "*b. Using Nadam optimization and early stopping, train the network on the\n",
    "CIFAR10 dataset. You can load it with keras.datasets.cifar10.load_\n",
    "data(). The dataset is composed of 60,000 32 × 32–pixel color images (50,000\n",
    "for training, 10,000 for testing) with 10 classes, so you’ll need a softmax out‐\n",
    "put layer with 10 neurons. Remember to search for the right learning rate each\n",
    "time you change the model’s architecture or hyperparameters.*\n"
   ]
  },
  {
   "cell_type": "code",
   "execution_count": 3,
   "metadata": {},
   "outputs": [],
   "source": [
    "model.add(keras.layers.Dense(10, activation='softmax'))"
   ]
  },
  {
   "cell_type": "code",
   "execution_count": 4,
   "metadata": {},
   "outputs": [],
   "source": [
    "optimizer = keras.optimizers.Nadam(learning_rate=5e-5)\n",
    "model.compile(loss='sparse_categorical_crossentropy',\n",
    "              optimizer=optimizer,\n",
    "              metrics=['accuracy'])"
   ]
  },
  {
   "cell_type": "code",
   "execution_count": 5,
   "metadata": {},
   "outputs": [],
   "source": [
    "(X_train_full, y_train_full), (X_test, y_test) = keras.datasets.cifar10.load_data()\n",
    "\n",
    "X_train = X_train_full[5000:]\n",
    "y_train = y_train_full[5000:]\n",
    "X_valid = X_train_full[:5000]\n",
    "y_valid = y_train_full[:5000]"
   ]
  },
  {
   "cell_type": "code",
   "execution_count": 6,
   "metadata": {},
   "outputs": [],
   "source": [
    "early_stopping_cb = keras.callbacks.EarlyStopping(patience=20)\n",
    "model_checkpoint_cb = keras.callbacks.ModelCheckpoint('my_cifar10_model.h5', save_best_only=True)\n",
    "run_index = 1\n",
    "run_logdir = os.path.join(os.curdir, 'my_cifar10_logs', 'run_{:03d}'.format(run_index))\n",
    "tensorboard_cb = keras.callbacks.TensorBoard(run_logdir)\n",
    "callbacks = [early_stopping_cb, model_checkpoint_cb, tensorboard_cb]"
   ]
  },
  {
   "cell_type": "code",
   "execution_count": 8,
   "metadata": {},
   "outputs": [
    {
     "name": "stdout",
     "output_type": "stream",
     "text": [
      "The tensorboard extension is already loaded. To reload it, use:\n",
      "  %reload_ext tensorboard\n"
     ]
    },
    {
     "data": {
      "text/html": [
       "\n",
       "      <iframe id=\"tensorboard-frame-5a46c4c4e5d38c52\" width=\"100%\" height=\"800\" frameborder=\"0\">\n",
       "      </iframe>\n",
       "      <script>\n",
       "        (function() {\n",
       "          const frame = document.getElementById(\"tensorboard-frame-5a46c4c4e5d38c52\");\n",
       "          const url = new URL(\"/\", window.location);\n",
       "          const port = 6006;\n",
       "          if (port) {\n",
       "            url.port = port;\n",
       "          }\n",
       "          frame.src = url;\n",
       "        })();\n",
       "      </script>\n",
       "    "
      ],
      "text/plain": [
       "<IPython.core.display.HTML object>"
      ]
     },
     "metadata": {},
     "output_type": "display_data"
    }
   ],
   "source": [
    "%load_ext tensorboard\n",
    "%tensorboard --logdir=./my_cifar10_logs --port=6006"
   ]
  },
  {
   "cell_type": "code",
   "execution_count": 9,
   "metadata": {},
   "outputs": [
    {
     "name": "stdout",
     "output_type": "stream",
     "text": [
      "Epoch 1/100\n",
      "1407/1407 [==============================] - 24s 14ms/step - loss: 4.1806 - accuracy: 0.1608 - val_loss: 2.1614 - val_accuracy: 0.2166\n",
      "Epoch 2/100\n",
      "1407/1407 [==============================] - 22s 16ms/step - loss: 2.0797 - accuracy: 0.2466 - val_loss: 2.1769 - val_accuracy: 0.2202\n",
      "Epoch 3/100\n",
      "1407/1407 [==============================] - 23s 16ms/step - loss: 1.9436 - accuracy: 0.2895 - val_loss: 2.1861 - val_accuracy: 0.2178\n",
      "Epoch 4/100\n",
      "1407/1407 [==============================] - 23s 17ms/step - loss: 1.8564 - accuracy: 0.3224 - val_loss: 1.8606 - val_accuracy: 0.3248\n",
      "Epoch 5/100\n",
      "1407/1407 [==============================] - 24s 17ms/step - loss: 1.7880 - accuracy: 0.3516 - val_loss: 1.8212 - val_accuracy: 0.3320\n",
      "Epoch 6/100\n",
      "1407/1407 [==============================] - 24s 17ms/step - loss: 1.7348 - accuracy: 0.3717 - val_loss: 1.7786 - val_accuracy: 0.3562\n",
      "Epoch 7/100\n",
      "1407/1407 [==============================] - 24s 17ms/step - loss: 1.6930 - accuracy: 0.3882 - val_loss: 1.6910 - val_accuracy: 0.3818\n",
      "Epoch 8/100\n",
      "1407/1407 [==============================] - 26s 19ms/step - loss: 1.6548 - accuracy: 0.4047 - val_loss: 1.6705 - val_accuracy: 0.4000\n",
      "Epoch 9/100\n",
      "1407/1407 [==============================] - 24s 17ms/step - loss: 1.6243 - accuracy: 0.4168 - val_loss: 1.6656 - val_accuracy: 0.4000\n",
      "Epoch 10/100\n",
      "1407/1407 [==============================] - 25s 18ms/step - loss: 1.6034 - accuracy: 0.4227 - val_loss: 1.7232 - val_accuracy: 0.3684\n",
      "Epoch 11/100\n",
      "1407/1407 [==============================] - 25s 18ms/step - loss: 1.5779 - accuracy: 0.4306 - val_loss: 1.6600 - val_accuracy: 0.4016\n",
      "Epoch 12/100\n",
      "1407/1407 [==============================] - 27s 19ms/step - loss: 1.5581 - accuracy: 0.4399 - val_loss: 1.6275 - val_accuracy: 0.4104\n",
      "Epoch 13/100\n",
      "1407/1407 [==============================] - 24s 17ms/step - loss: 1.5377 - accuracy: 0.4462 - val_loss: 1.6206 - val_accuracy: 0.4174\n",
      "Epoch 14/100\n",
      "1407/1407 [==============================] - 26s 18ms/step - loss: 1.5259 - accuracy: 0.4520 - val_loss: 1.5838 - val_accuracy: 0.4242\n",
      "Epoch 15/100\n",
      "1407/1407 [==============================] - 25s 18ms/step - loss: 1.5095 - accuracy: 0.4578 - val_loss: 1.5694 - val_accuracy: 0.4366\n",
      "Epoch 16/100\n",
      "1407/1407 [==============================] - 26s 19ms/step - loss: 1.4934 - accuracy: 0.4615 - val_loss: 1.5813 - val_accuracy: 0.4330\n",
      "Epoch 17/100\n",
      "1407/1407 [==============================] - 29s 21ms/step - loss: 1.4791 - accuracy: 0.4688 - val_loss: 1.5955 - val_accuracy: 0.4370\n",
      "Epoch 18/100\n",
      "1407/1407 [==============================] - 23s 16ms/step - loss: 1.4689 - accuracy: 0.4713 - val_loss: 1.5854 - val_accuracy: 0.4386\n",
      "Epoch 19/100\n",
      "1407/1407 [==============================] - 28s 20ms/step - loss: 1.4556 - accuracy: 0.4749 - val_loss: 1.6104 - val_accuracy: 0.4254\n",
      "Epoch 20/100\n",
      "1407/1407 [==============================] - 26s 18ms/step - loss: 1.4460 - accuracy: 0.4799 - val_loss: 1.5805 - val_accuracy: 0.4424\n",
      "Epoch 21/100\n",
      "1407/1407 [==============================] - 22s 16ms/step - loss: 1.4342 - accuracy: 0.4864 - val_loss: 1.5758 - val_accuracy: 0.4384\n",
      "Epoch 22/100\n",
      "1407/1407 [==============================] - 23s 16ms/step - loss: 1.4229 - accuracy: 0.4882 - val_loss: 1.5373 - val_accuracy: 0.4454\n",
      "Epoch 23/100\n",
      "1407/1407 [==============================] - 23s 16ms/step - loss: 1.4089 - accuracy: 0.4931 - val_loss: 1.5447 - val_accuracy: 0.4476\n",
      "Epoch 24/100\n",
      "1407/1407 [==============================] - 23s 16ms/step - loss: 1.4017 - accuracy: 0.4961 - val_loss: 1.5588 - val_accuracy: 0.4490\n",
      "Epoch 25/100\n",
      "1407/1407 [==============================] - 26s 18ms/step - loss: 1.3901 - accuracy: 0.4996 - val_loss: 1.5645 - val_accuracy: 0.4480\n",
      "Epoch 26/100\n",
      "1407/1407 [==============================] - 23s 16ms/step - loss: 1.3792 - accuracy: 0.5050 - val_loss: 1.5688 - val_accuracy: 0.4398\n",
      "Epoch 27/100\n",
      "1407/1407 [==============================] - 23s 16ms/step - loss: 1.3681 - accuracy: 0.5077 - val_loss: 1.5790 - val_accuracy: 0.4412\n",
      "Epoch 28/100\n",
      "1407/1407 [==============================] - 27s 19ms/step - loss: 1.3614 - accuracy: 0.5084 - val_loss: 1.5590 - val_accuracy: 0.4432\n",
      "Epoch 29/100\n",
      "1407/1407 [==============================] - 26s 18ms/step - loss: 1.3541 - accuracy: 0.5122 - val_loss: 1.5377 - val_accuracy: 0.4522\n",
      "Epoch 30/100\n",
      "1407/1407 [==============================] - 24s 17ms/step - loss: 1.3410 - accuracy: 0.5162 - val_loss: 1.5418 - val_accuracy: 0.4620\n",
      "Epoch 31/100\n",
      "1407/1407 [==============================] - 23s 16ms/step - loss: 1.3324 - accuracy: 0.5216 - val_loss: 1.5866 - val_accuracy: 0.4398\n",
      "Epoch 32/100\n",
      "1407/1407 [==============================] - 24s 17ms/step - loss: 1.3234 - accuracy: 0.5235 - val_loss: 1.5250 - val_accuracy: 0.4548\n",
      "Epoch 33/100\n",
      "1407/1407 [==============================] - 23s 16ms/step - loss: 1.3162 - accuracy: 0.5265 - val_loss: 1.6261 - val_accuracy: 0.4404\n",
      "Epoch 34/100\n",
      "1407/1407 [==============================] - 22s 16ms/step - loss: 1.3111 - accuracy: 0.5297 - val_loss: 1.5724 - val_accuracy: 0.4568\n",
      "Epoch 35/100\n",
      "1407/1407 [==============================] - 23s 16ms/step - loss: 1.3012 - accuracy: 0.5313 - val_loss: 1.5430 - val_accuracy: 0.4620\n",
      "Epoch 36/100\n",
      "1407/1407 [==============================] - 24s 17ms/step - loss: 1.2926 - accuracy: 0.5364 - val_loss: 1.5476 - val_accuracy: 0.4594\n",
      "Epoch 37/100\n",
      "1407/1407 [==============================] - 22s 16ms/step - loss: 1.2830 - accuracy: 0.5374 - val_loss: 1.5590 - val_accuracy: 0.4602\n",
      "Epoch 38/100\n",
      "1407/1407 [==============================] - 25s 18ms/step - loss: 1.2771 - accuracy: 0.5417 - val_loss: 1.5573 - val_accuracy: 0.4640\n",
      "Epoch 39/100\n",
      "1407/1407 [==============================] - 27s 19ms/step - loss: 1.2685 - accuracy: 0.5420 - val_loss: 1.5765 - val_accuracy: 0.4550\n",
      "Epoch 40/100\n",
      "1407/1407 [==============================] - 25s 18ms/step - loss: 1.2601 - accuracy: 0.5481 - val_loss: 1.5949 - val_accuracy: 0.4516\n",
      "Epoch 41/100\n",
      "1407/1407 [==============================] - 25s 18ms/step - loss: 1.2531 - accuracy: 0.5490 - val_loss: 1.5276 - val_accuracy: 0.4722\n",
      "Epoch 42/100\n",
      "1407/1407 [==============================] - 25s 18ms/step - loss: 1.2471 - accuracy: 0.5514 - val_loss: 1.5629 - val_accuracy: 0.4648\n",
      "Epoch 43/100\n",
      "1407/1407 [==============================] - 25s 18ms/step - loss: 1.2393 - accuracy: 0.5538 - val_loss: 1.5712 - val_accuracy: 0.4578\n",
      "Epoch 44/100\n",
      "1407/1407 [==============================] - 24s 17ms/step - loss: 1.2294 - accuracy: 0.5573 - val_loss: 1.6174 - val_accuracy: 0.4450\n",
      "Epoch 45/100\n",
      "1407/1407 [==============================] - 24s 17ms/step - loss: 1.2265 - accuracy: 0.5600 - val_loss: 1.5702 - val_accuracy: 0.4704\n",
      "Epoch 46/100\n",
      "1407/1407 [==============================] - 24s 17ms/step - loss: 1.2190 - accuracy: 0.5607 - val_loss: 1.5404 - val_accuracy: 0.4788\n",
      "Epoch 47/100\n",
      "1407/1407 [==============================] - 24s 17ms/step - loss: 1.2099 - accuracy: 0.5651 - val_loss: 1.6093 - val_accuracy: 0.4550\n",
      "Epoch 48/100\n",
      "1407/1407 [==============================] - 24s 17ms/step - loss: 1.2021 - accuracy: 0.5664 - val_loss: 1.5556 - val_accuracy: 0.4640\n",
      "Epoch 49/100\n",
      "1407/1407 [==============================] - 25s 18ms/step - loss: 1.1930 - accuracy: 0.5718 - val_loss: 1.5634 - val_accuracy: 0.4674\n",
      "Epoch 50/100\n",
      "1407/1407 [==============================] - 25s 18ms/step - loss: 1.1867 - accuracy: 0.5735 - val_loss: 1.6202 - val_accuracy: 0.4546\n",
      "Epoch 51/100\n",
      "1407/1407 [==============================] - 24s 17ms/step - loss: 1.1836 - accuracy: 0.5729 - val_loss: 1.6167 - val_accuracy: 0.4526\n",
      "Epoch 52/100\n",
      "1407/1407 [==============================] - 24s 17ms/step - loss: 1.1719 - accuracy: 0.5790 - val_loss: 1.5638 - val_accuracy: 0.4680\n"
     ]
    },
    {
     "data": {
      "text/plain": [
       "<keras.callbacks.History at 0x7f7d480d91f0>"
      ]
     },
     "execution_count": 9,
     "metadata": {},
     "output_type": "execute_result"
    }
   ],
   "source": [
    "model.fit(X_train, y_train, epochs=100,\n",
    "          validation_data=(X_valid, y_valid),\n",
    "          callbacks=callbacks)"
   ]
  },
  {
   "cell_type": "code",
   "execution_count": 10,
   "metadata": {},
   "outputs": [
    {
     "name": "stdout",
     "output_type": "stream",
     "text": [
      "157/157 [==============================] - 1s 3ms/step - loss: 1.5250 - accuracy: 0.4548\n"
     ]
    },
    {
     "data": {
      "text/plain": [
       "[1.5249603986740112, 0.454800009727478]"
      ]
     },
     "execution_count": 10,
     "metadata": {},
     "output_type": "execute_result"
    }
   ],
   "source": [
    "model = keras.models.load_model('my_cifar10_model.h5')\n",
    "model.evaluate(X_valid, y_valid)"
   ]
  },
  {
   "cell_type": "markdown",
   "metadata": {},
   "source": [
    "*c. Now try adding Batch Normalization and compare the learning curves: Is it\n",
    "converging faster than before? Does it produce a better model? How does it\n",
    "affect training speed?*"
   ]
  },
  {
   "cell_type": "code",
   "execution_count": 11,
   "metadata": {},
   "outputs": [
    {
     "name": "stdout",
     "output_type": "stream",
     "text": [
      "Epoch 1/100\n",
      "1407/1407 [==============================] - 56s 33ms/step - loss: 1.8425 - accuracy: 0.3395 - val_loss: 1.6721 - val_accuracy: 0.4078\n",
      "Epoch 2/100\n",
      "1407/1407 [==============================] - 51s 36ms/step - loss: 1.6712 - accuracy: 0.4025 - val_loss: 1.5720 - val_accuracy: 0.4352\n",
      "Epoch 3/100\n",
      "1407/1407 [==============================] - 53s 37ms/step - loss: 1.5979 - accuracy: 0.4318 - val_loss: 1.5345 - val_accuracy: 0.4482\n",
      "Epoch 4/100\n",
      "1407/1407 [==============================] - 53s 38ms/step - loss: 1.5467 - accuracy: 0.4484 - val_loss: 1.4814 - val_accuracy: 0.4720\n",
      "Epoch 5/100\n",
      "1407/1407 [==============================] - 54s 38ms/step - loss: 1.5025 - accuracy: 0.4669 - val_loss: 1.4358 - val_accuracy: 0.4880\n",
      "Epoch 6/100\n",
      "1407/1407 [==============================] - 54s 39ms/step - loss: 1.4639 - accuracy: 0.4790 - val_loss: 1.4410 - val_accuracy: 0.4816\n",
      "Epoch 7/100\n",
      "1407/1407 [==============================] - 55s 39ms/step - loss: 1.4328 - accuracy: 0.4916 - val_loss: 1.3999 - val_accuracy: 0.4982\n",
      "Epoch 8/100\n",
      "1407/1407 [==============================] - 55s 39ms/step - loss: 1.4019 - accuracy: 0.5026 - val_loss: 1.3954 - val_accuracy: 0.5084\n",
      "Epoch 9/100\n",
      "1407/1407 [==============================] - 53s 38ms/step - loss: 1.3767 - accuracy: 0.5118 - val_loss: 1.3897 - val_accuracy: 0.5080\n",
      "Epoch 10/100\n",
      "1407/1407 [==============================] - 54s 39ms/step - loss: 1.3553 - accuracy: 0.5197 - val_loss: 1.3544 - val_accuracy: 0.5226\n",
      "Epoch 11/100\n",
      "1407/1407 [==============================] - 55s 39ms/step - loss: 1.3393 - accuracy: 0.5240 - val_loss: 1.3558 - val_accuracy: 0.5172\n",
      "Epoch 12/100\n",
      "1407/1407 [==============================] - 55s 39ms/step - loss: 1.3172 - accuracy: 0.5360 - val_loss: 1.3851 - val_accuracy: 0.5166\n",
      "Epoch 13/100\n",
      "1407/1407 [==============================] - 56s 40ms/step - loss: 1.2963 - accuracy: 0.5404 - val_loss: 1.3599 - val_accuracy: 0.5144\n",
      "Epoch 14/100\n",
      "1407/1407 [==============================] - 55s 39ms/step - loss: 1.2790 - accuracy: 0.5462 - val_loss: 1.3497 - val_accuracy: 0.5326\n",
      "Epoch 15/100\n",
      "1407/1407 [==============================] - 55s 39ms/step - loss: 1.2603 - accuracy: 0.5553 - val_loss: 1.3673 - val_accuracy: 0.5268\n",
      "Epoch 16/100\n",
      "1407/1407 [==============================] - 56s 40ms/step - loss: 1.2509 - accuracy: 0.5558 - val_loss: 1.3685 - val_accuracy: 0.5218\n",
      "Epoch 17/100\n",
      "1407/1407 [==============================] - 57s 41ms/step - loss: 1.2295 - accuracy: 0.5637 - val_loss: 1.3270 - val_accuracy: 0.5318\n",
      "Epoch 18/100\n",
      "1407/1407 [==============================] - 49s 35ms/step - loss: 1.2160 - accuracy: 0.5709 - val_loss: 1.3646 - val_accuracy: 0.5276\n",
      "Epoch 19/100\n",
      "1407/1407 [==============================] - 41s 29ms/step - loss: 1.1995 - accuracy: 0.5773 - val_loss: 1.3466 - val_accuracy: 0.5278\n",
      "Epoch 20/100\n",
      "1407/1407 [==============================] - 40s 28ms/step - loss: 1.1931 - accuracy: 0.5789 - val_loss: 1.3766 - val_accuracy: 0.5200\n",
      "Epoch 21/100\n",
      "1407/1407 [==============================] - 39s 28ms/step - loss: 1.1768 - accuracy: 0.5832 - val_loss: 1.3807 - val_accuracy: 0.5220\n",
      "Epoch 22/100\n",
      "1407/1407 [==============================] - 39s 28ms/step - loss: 1.1591 - accuracy: 0.5898 - val_loss: 1.3296 - val_accuracy: 0.5272\n",
      "Epoch 23/100\n",
      "1407/1407 [==============================] - 38s 27ms/step - loss: 1.1527 - accuracy: 0.5944 - val_loss: 1.3253 - val_accuracy: 0.5428\n",
      "Epoch 24/100\n",
      "1407/1407 [==============================] - 38s 27ms/step - loss: 1.1413 - accuracy: 0.5958 - val_loss: 1.3206 - val_accuracy: 0.5442\n",
      "Epoch 25/100\n",
      "1407/1407 [==============================] - 38s 27ms/step - loss: 1.1232 - accuracy: 0.6024 - val_loss: 1.3389 - val_accuracy: 0.5392\n",
      "Epoch 26/100\n",
      "1407/1407 [==============================] - 38s 27ms/step - loss: 1.1123 - accuracy: 0.6075 - val_loss: 1.3574 - val_accuracy: 0.5354\n",
      "Epoch 27/100\n",
      "1407/1407 [==============================] - 38s 27ms/step - loss: 1.0986 - accuracy: 0.6129 - val_loss: 1.3394 - val_accuracy: 0.5390\n",
      "Epoch 28/100\n",
      "1407/1407 [==============================] - 37s 26ms/step - loss: 1.0942 - accuracy: 0.6110 - val_loss: 1.3402 - val_accuracy: 0.5356\n",
      "Epoch 29/100\n",
      "1407/1407 [==============================] - 38s 27ms/step - loss: 1.0821 - accuracy: 0.6176 - val_loss: 1.3344 - val_accuracy: 0.5410\n",
      "Epoch 30/100\n",
      "1407/1407 [==============================] - 38s 27ms/step - loss: 1.0690 - accuracy: 0.6221 - val_loss: 1.3398 - val_accuracy: 0.5370\n",
      "Epoch 31/100\n",
      "1407/1407 [==============================] - 38s 27ms/step - loss: 1.0614 - accuracy: 0.6244 - val_loss: 1.3588 - val_accuracy: 0.5372\n",
      "Epoch 32/100\n",
      "1407/1407 [==============================] - 35s 25ms/step - loss: 1.0505 - accuracy: 0.6289 - val_loss: 1.3698 - val_accuracy: 0.5330\n",
      "Epoch 33/100\n",
      "1407/1407 [==============================] - 41s 29ms/step - loss: 1.0369 - accuracy: 0.6332 - val_loss: 1.3592 - val_accuracy: 0.5426\n",
      "Epoch 34/100\n",
      "1407/1407 [==============================] - 34s 24ms/step - loss: 1.0339 - accuracy: 0.6353 - val_loss: 1.3500 - val_accuracy: 0.5486\n",
      "Epoch 35/100\n",
      "1407/1407 [==============================] - 38s 27ms/step - loss: 1.0220 - accuracy: 0.6377 - val_loss: 1.3718 - val_accuracy: 0.5362\n",
      "Epoch 36/100\n",
      "1407/1407 [==============================] - 37s 27ms/step - loss: 1.0132 - accuracy: 0.6437 - val_loss: 1.3616 - val_accuracy: 0.5408\n",
      "Epoch 37/100\n",
      "1407/1407 [==============================] - 38s 27ms/step - loss: 0.9981 - accuracy: 0.6472 - val_loss: 1.3538 - val_accuracy: 0.5450\n",
      "Epoch 38/100\n",
      "1407/1407 [==============================] - 37s 26ms/step - loss: 0.9960 - accuracy: 0.6486 - val_loss: 1.3731 - val_accuracy: 0.5462\n",
      "Epoch 39/100\n",
      "1407/1407 [==============================] - 34s 24ms/step - loss: 0.9839 - accuracy: 0.6516 - val_loss: 1.3851 - val_accuracy: 0.5380\n",
      "Epoch 40/100\n",
      "1407/1407 [==============================] - 39s 28ms/step - loss: 0.9760 - accuracy: 0.6562 - val_loss: 1.3791 - val_accuracy: 0.5406\n",
      "Epoch 41/100\n",
      "1407/1407 [==============================] - 38s 27ms/step - loss: 0.9669 - accuracy: 0.6599 - val_loss: 1.3728 - val_accuracy: 0.5432\n",
      "Epoch 42/100\n",
      "1407/1407 [==============================] - 35s 25ms/step - loss: 0.9559 - accuracy: 0.6624 - val_loss: 1.3844 - val_accuracy: 0.5416\n",
      "Epoch 43/100\n",
      "1407/1407 [==============================] - 37s 26ms/step - loss: 0.9537 - accuracy: 0.6654 - val_loss: 1.3699 - val_accuracy: 0.5442\n",
      "Epoch 44/100\n",
      "1407/1407 [==============================] - 37s 27ms/step - loss: 0.9400 - accuracy: 0.6672 - val_loss: 1.4311 - val_accuracy: 0.5288\n",
      "157/157 [==============================] - 1s 4ms/step - loss: 1.3206 - accuracy: 0.5442\n"
     ]
    },
    {
     "data": {
      "text/plain": [
       "[1.3205736875534058, 0.5442000031471252]"
      ]
     },
     "execution_count": 11,
     "metadata": {},
     "output_type": "execute_result"
    }
   ],
   "source": [
    "keras.backend.clear_session()\n",
    "tf.random.set_seed(42)\n",
    "np.random.seed(42)\n",
    "\n",
    "model = keras.models.Sequential()\n",
    "model.add(keras.layers.Flatten(input_shape=[32, 32, 3]))\n",
    "model.add(keras.layers.BatchNormalization())\n",
    "for _ in range(20):\n",
    "    model.add(keras.layers.Dense(100, kernel_initializer='he_normal'))\n",
    "    model.add(keras.layers.BatchNormalization())\n",
    "    model.add(keras.layers.Activation('elu'))\n",
    "model.add(keras.layers.Dense(10, activation='softmax'))\n",
    "\n",
    "optimizer = keras.optimizers.Nadam(learning_rate=5e-4)\n",
    "model.compile(loss=\"sparse_categorical_crossentropy\",\n",
    "              optimizer=optimizer,\n",
    "              metrics=[\"accuracy\"])\n",
    "\n",
    "early_stopping_cb = keras.callbacks.EarlyStopping(patience=20)\n",
    "model_checkpoint_cb = keras.callbacks.ModelCheckpoint(\"my_cifar10_bn_model.h5\", save_best_only=True)\n",
    "run_index = 1 # increment every time you train the model\n",
    "run_logdir = os.path.join(os.curdir, \"my_cifar10_logs\", \"run_bn_{:03d}\".format(run_index))\n",
    "tensorboard_cb = keras.callbacks.TensorBoard(run_logdir)\n",
    "callbacks = [early_stopping_cb, model_checkpoint_cb, tensorboard_cb]\n",
    "\n",
    "model.fit(X_train, y_train, epochs=100,\n",
    "          validation_data=(X_valid, y_valid),\n",
    "          callbacks=callbacks)\n",
    "\n",
    "model = keras.models.load_model(\"my_cifar10_bn_model.h5\")\n",
    "model.evaluate(X_valid, y_valid)"
   ]
  },
  {
   "cell_type": "markdown",
   "metadata": {},
   "source": [
    "*d. Try replacing Batch Normalization with SELU, and make the necessary adjust‐\n",
    "ements to ensure the network self-normalizes (i.e., standardize the input fea‐\n",
    "tures, use LeCun normal initialization, make sure the DNN contains only a\n",
    "sequence of dense layers, etc.).*"
   ]
  },
  {
   "cell_type": "code",
   "execution_count": 12,
   "metadata": {},
   "outputs": [
    {
     "name": "stdout",
     "output_type": "stream",
     "text": [
      "Epoch 1/100\n",
      "1407/1407 [==============================] - 34s 22ms/step - loss: 1.9415 - accuracy: 0.3041 - val_loss: 1.8389 - val_accuracy: 0.3416\n",
      "Epoch 2/100\n",
      "1407/1407 [==============================] - 31s 22ms/step - loss: 1.7172 - accuracy: 0.3894 - val_loss: 1.7813 - val_accuracy: 0.3446\n",
      "Epoch 3/100\n",
      "1407/1407 [==============================] - 31s 22ms/step - loss: 1.6204 - accuracy: 0.4284 - val_loss: 1.6473 - val_accuracy: 0.4196\n",
      "Epoch 4/100\n",
      "1407/1407 [==============================] - 30s 21ms/step - loss: 1.5495 - accuracy: 0.4554 - val_loss: 1.6194 - val_accuracy: 0.4412\n",
      "Epoch 5/100\n",
      "1407/1407 [==============================] - 29s 21ms/step - loss: 1.4962 - accuracy: 0.4772 - val_loss: 1.5726 - val_accuracy: 0.4472\n",
      "Epoch 6/100\n",
      "1407/1407 [==============================] - 29s 21ms/step - loss: 1.4496 - accuracy: 0.4920 - val_loss: 1.5565 - val_accuracy: 0.4498\n",
      "Epoch 7/100\n",
      "1407/1407 [==============================] - 30s 21ms/step - loss: 1.4067 - accuracy: 0.5084 - val_loss: 1.5269 - val_accuracy: 0.4648\n",
      "Epoch 8/100\n",
      "1407/1407 [==============================] - 31s 22ms/step - loss: 1.3666 - accuracy: 0.5207 - val_loss: 1.4675 - val_accuracy: 0.4978\n",
      "Epoch 9/100\n",
      "1407/1407 [==============================] - 31s 22ms/step - loss: 1.3273 - accuracy: 0.5355 - val_loss: 1.4972 - val_accuracy: 0.4774\n",
      "Epoch 10/100\n",
      "1407/1407 [==============================] - 32s 23ms/step - loss: 1.3018 - accuracy: 0.5479 - val_loss: 1.5078 - val_accuracy: 0.4832\n",
      "Epoch 11/100\n",
      "1407/1407 [==============================] - 31s 22ms/step - loss: 1.2653 - accuracy: 0.5624 - val_loss: 1.5159 - val_accuracy: 0.4938\n",
      "Epoch 12/100\n",
      "1407/1407 [==============================] - 31s 22ms/step - loss: 1.2426 - accuracy: 0.5700 - val_loss: 1.4870 - val_accuracy: 0.4980\n",
      "Epoch 13/100\n",
      "1407/1407 [==============================] - 31s 22ms/step - loss: 1.2166 - accuracy: 0.5805 - val_loss: 1.5203 - val_accuracy: 0.4992\n",
      "Epoch 14/100\n",
      "1407/1407 [==============================] - 30s 21ms/step - loss: 1.1969 - accuracy: 0.5887 - val_loss: 1.4599 - val_accuracy: 0.5160\n",
      "Epoch 15/100\n",
      "1407/1407 [==============================] - 32s 23ms/step - loss: 1.1643 - accuracy: 0.5982 - val_loss: 1.4998 - val_accuracy: 0.4988\n",
      "Epoch 16/100\n",
      "1407/1407 [==============================] - 32s 23ms/step - loss: 1.1476 - accuracy: 0.6064 - val_loss: 1.5295 - val_accuracy: 0.5078\n",
      "Epoch 17/100\n",
      "1407/1407 [==============================] - 30s 22ms/step - loss: 1.1336 - accuracy: 0.6113 - val_loss: 1.5077 - val_accuracy: 0.5020\n",
      "Epoch 18/100\n",
      "1407/1407 [==============================] - 31s 22ms/step - loss: 1.0975 - accuracy: 0.6252 - val_loss: 1.4971 - val_accuracy: 0.5120\n",
      "Epoch 19/100\n",
      "1407/1407 [==============================] - 32s 22ms/step - loss: 1.0765 - accuracy: 0.6325 - val_loss: 1.5312 - val_accuracy: 0.5032\n",
      "Epoch 20/100\n",
      "1407/1407 [==============================] - 33s 23ms/step - loss: 1.0612 - accuracy: 0.6373 - val_loss: 1.5394 - val_accuracy: 0.5000\n",
      "Epoch 21/100\n",
      "1407/1407 [==============================] - 34s 24ms/step - loss: 1.0503 - accuracy: 0.6451 - val_loss: 1.5725 - val_accuracy: 0.5082\n",
      "Epoch 22/100\n",
      "1407/1407 [==============================] - 33s 23ms/step - loss: 5.6843 - accuracy: 0.5642 - val_loss: 1.6343 - val_accuracy: 0.4602\n",
      "Epoch 23/100\n",
      "1407/1407 [==============================] - 30s 22ms/step - loss: 1.2618 - accuracy: 0.5622 - val_loss: 1.5374 - val_accuracy: 0.4688\n",
      "Epoch 24/100\n",
      "1407/1407 [==============================] - 30s 21ms/step - loss: 1.1720 - accuracy: 0.5942 - val_loss: 1.5027 - val_accuracy: 0.5036\n",
      "Epoch 25/100\n",
      "1407/1407 [==============================] - 31s 22ms/step - loss: 1.1251 - accuracy: 0.6126 - val_loss: 1.5234 - val_accuracy: 0.5000\n",
      "Epoch 26/100\n",
      "1407/1407 [==============================] - 31s 22ms/step - loss: 1.0935 - accuracy: 0.6244 - val_loss: 1.5357 - val_accuracy: 0.4966\n",
      "Epoch 27/100\n",
      "1407/1407 [==============================] - 31s 22ms/step - loss: 1.0704 - accuracy: 0.6320 - val_loss: 1.5211 - val_accuracy: 0.4966\n",
      "Epoch 28/100\n",
      "1407/1407 [==============================] - 32s 23ms/step - loss: 1.0464 - accuracy: 0.6419 - val_loss: 1.5113 - val_accuracy: 0.4936\n",
      "Epoch 29/100\n",
      "1407/1407 [==============================] - 32s 23ms/step - loss: 1.0251 - accuracy: 0.6498 - val_loss: 1.5290 - val_accuracy: 0.5150\n",
      "Epoch 30/100\n",
      "1407/1407 [==============================] - 32s 22ms/step - loss: 1.0051 - accuracy: 0.6578 - val_loss: 1.5473 - val_accuracy: 0.5074\n",
      "Epoch 31/100\n",
      "1407/1407 [==============================] - 34s 24ms/step - loss: 0.9862 - accuracy: 0.6628 - val_loss: 1.5424 - val_accuracy: 0.5132\n",
      "Epoch 32/100\n",
      "1407/1407 [==============================] - 32s 23ms/step - loss: 0.9716 - accuracy: 0.6691 - val_loss: 1.5809 - val_accuracy: 0.5052\n",
      "Epoch 33/100\n",
      "1407/1407 [==============================] - 30s 21ms/step - loss: 0.9558 - accuracy: 0.6770 - val_loss: 1.6381 - val_accuracy: 0.5020\n",
      "Epoch 34/100\n",
      "1407/1407 [==============================] - 30s 21ms/step - loss: 0.9489 - accuracy: 0.6776 - val_loss: 1.5475 - val_accuracy: 0.5120\n",
      "157/157 [==============================] - 1s 7ms/step - loss: 1.4599 - accuracy: 0.5160\n"
     ]
    },
    {
     "data": {
      "text/plain": [
       "[1.459917426109314, 0.515999972820282]"
      ]
     },
     "execution_count": 12,
     "metadata": {},
     "output_type": "execute_result"
    }
   ],
   "source": [
    "keras.backend.clear_session()\n",
    "tf.random.set_seed(42)\n",
    "np.random.seed(42)\n",
    "\n",
    "model = keras.models.Sequential()\n",
    "model.add(keras.layers.Flatten(input_shape=[32, 32, 3]))\n",
    "for _ in range(20):\n",
    "    model.add(keras.layers.Dense(100, \n",
    "                                 kernel_initializer='lecun_normal',\n",
    "                                 activation='selu'))\n",
    "model.add(keras.layers.Dense(10, activation='softmax'))\n",
    "\n",
    "optimizer = keras.optimizers.Nadam(learning_rate=7e-4)\n",
    "model.compile(loss=\"sparse_categorical_crossentropy\",\n",
    "              optimizer=optimizer,\n",
    "              metrics=[\"accuracy\"])\n",
    "\n",
    "early_stopping_cb = keras.callbacks.EarlyStopping(patience=20)\n",
    "model_checkpoint_cb = keras.callbacks.ModelCheckpoint(\"my_cifar10_selu_model.h5\", save_best_only=True)\n",
    "run_index = 1 # increment every time you train the model\n",
    "run_logdir = os.path.join(os.curdir, \"my_cifar10_logs\", \"run_selu_{:03d}\".format(run_index))\n",
    "tensorboard_cb = keras.callbacks.TensorBoard(run_logdir)\n",
    "callbacks = [early_stopping_cb, model_checkpoint_cb, tensorboard_cb]\n",
    "\n",
    "X_means = X_train.mean(axis=0)\n",
    "X_stds = X_train.std(axis=0)\n",
    "X_train_scaled = (X_train - X_means) / X_stds\n",
    "X_valid_scaled = (X_valid - X_means) / X_stds\n",
    "X_test_scaled = (X_test - X_means) / X_stds\n",
    "\n",
    "model.fit(X_train_scaled, y_train, epochs=100,\n",
    "          validation_data=(X_valid_scaled, y_valid),\n",
    "          callbacks=callbacks)\n",
    "\n",
    "model = keras.models.load_model(\"my_cifar10_selu_model.h5\")\n",
    "model.evaluate(X_valid_scaled, y_valid)"
   ]
  },
  {
   "cell_type": "markdown",
   "metadata": {},
   "source": [
    "*e. Try regularizing the model with alpha dropout. Then, without retraining your\n",
    "model, see if you can achieve better accuracy using MC Dropout.*"
   ]
  },
  {
   "cell_type": "code",
   "execution_count": 13,
   "metadata": {},
   "outputs": [
    {
     "name": "stdout",
     "output_type": "stream",
     "text": [
      "Epoch 1/100\n",
      "1407/1407 [==============================] - 32s 20ms/step - loss: 1.8903 - accuracy: 0.3285 - val_loss: 1.7161 - val_accuracy: 0.4006\n",
      "Epoch 2/100\n",
      "1407/1407 [==============================] - 26s 18ms/step - loss: 1.6582 - accuracy: 0.4135 - val_loss: 1.6372 - val_accuracy: 0.4164\n",
      "Epoch 3/100\n",
      "1407/1407 [==============================] - 35s 25ms/step - loss: 1.5671 - accuracy: 0.4477 - val_loss: 1.6060 - val_accuracy: 0.4336\n",
      "Epoch 4/100\n",
      "1407/1407 [==============================] - 33s 23ms/step - loss: 1.4998 - accuracy: 0.4745 - val_loss: 1.5823 - val_accuracy: 0.4560\n",
      "Epoch 5/100\n",
      "1407/1407 [==============================] - 30s 21ms/step - loss: 1.4437 - accuracy: 0.4974 - val_loss: 1.5551 - val_accuracy: 0.4670\n",
      "Epoch 6/100\n",
      "1407/1407 [==============================] - 30s 22ms/step - loss: 1.3959 - accuracy: 0.5129 - val_loss: 1.5611 - val_accuracy: 0.4550\n",
      "Epoch 7/100\n",
      "1407/1407 [==============================] - 33s 24ms/step - loss: 1.3549 - accuracy: 0.5285 - val_loss: 1.5532 - val_accuracy: 0.4812\n",
      "Epoch 8/100\n",
      "1407/1407 [==============================] - 35s 25ms/step - loss: 1.3116 - accuracy: 0.5442 - val_loss: 1.4977 - val_accuracy: 0.4850\n",
      "Epoch 9/100\n",
      "1407/1407 [==============================] - 33s 24ms/step - loss: 1.2783 - accuracy: 0.5548 - val_loss: 1.5238 - val_accuracy: 0.4852\n",
      "Epoch 10/100\n",
      "1407/1407 [==============================] - 35s 25ms/step - loss: 1.2447 - accuracy: 0.5666 - val_loss: 1.5608 - val_accuracy: 0.4920\n",
      "Epoch 11/100\n",
      "1407/1407 [==============================] - 37s 27ms/step - loss: 1.2145 - accuracy: 0.5791 - val_loss: 1.6309 - val_accuracy: 0.4956\n",
      "Epoch 12/100\n",
      "1407/1407 [==============================] - 37s 26ms/step - loss: 1.1851 - accuracy: 0.5900 - val_loss: 1.6075 - val_accuracy: 0.4810\n",
      "Epoch 13/100\n",
      "1407/1407 [==============================] - 31s 22ms/step - loss: 1.1549 - accuracy: 0.6020 - val_loss: 1.5785 - val_accuracy: 0.4990\n",
      "Epoch 14/100\n",
      "1407/1407 [==============================] - 30s 21ms/step - loss: 1.1319 - accuracy: 0.6090 - val_loss: 1.5584 - val_accuracy: 0.5050\n",
      "Epoch 15/100\n",
      "1407/1407 [==============================] - 32s 23ms/step - loss: 1.1031 - accuracy: 0.6188 - val_loss: 1.6596 - val_accuracy: 0.5108\n",
      "Epoch 16/100\n",
      "1407/1407 [==============================] - 33s 23ms/step - loss: 1.0814 - accuracy: 0.6274 - val_loss: 1.6529 - val_accuracy: 0.5056\n",
      "Epoch 17/100\n",
      "1407/1407 [==============================] - 34s 24ms/step - loss: 1.0536 - accuracy: 0.6368 - val_loss: 1.6457 - val_accuracy: 0.5122\n",
      "Epoch 18/100\n",
      "1407/1407 [==============================] - 35s 25ms/step - loss: 1.0343 - accuracy: 0.6443 - val_loss: 1.6647 - val_accuracy: 0.5186\n",
      "Epoch 19/100\n",
      "1407/1407 [==============================] - 34s 25ms/step - loss: 1.0127 - accuracy: 0.6548 - val_loss: 1.7907 - val_accuracy: 0.5084\n",
      "Epoch 20/100\n",
      "1407/1407 [==============================] - 34s 24ms/step - loss: 0.9915 - accuracy: 0.6616 - val_loss: 1.8256 - val_accuracy: 0.4956\n",
      "Epoch 21/100\n",
      "1407/1407 [==============================] - 35s 25ms/step - loss: 0.9721 - accuracy: 0.6672 - val_loss: 1.7493 - val_accuracy: 0.5094\n",
      "Epoch 22/100\n",
      "1407/1407 [==============================] - 32s 23ms/step - loss: 0.9522 - accuracy: 0.6732 - val_loss: 1.7836 - val_accuracy: 0.5104\n",
      "Epoch 23/100\n",
      "1407/1407 [==============================] - 30s 22ms/step - loss: 0.9362 - accuracy: 0.6807 - val_loss: 1.6934 - val_accuracy: 0.5066\n",
      "Epoch 24/100\n",
      "1407/1407 [==============================] - 32s 22ms/step - loss: 0.9207 - accuracy: 0.6830 - val_loss: 1.8009 - val_accuracy: 0.5118\n",
      "Epoch 25/100\n",
      "1407/1407 [==============================] - 33s 23ms/step - loss: 0.8941 - accuracy: 0.6952 - val_loss: 1.8588 - val_accuracy: 0.5172\n",
      "Epoch 26/100\n",
      "1407/1407 [==============================] - 33s 24ms/step - loss: 0.8797 - accuracy: 0.7031 - val_loss: 1.7897 - val_accuracy: 0.4874\n",
      "Epoch 27/100\n",
      "1407/1407 [==============================] - 34s 24ms/step - loss: 0.8610 - accuracy: 0.7092 - val_loss: 1.7873 - val_accuracy: 0.5064\n",
      "Epoch 28/100\n",
      "1407/1407 [==============================] - 35s 25ms/step - loss: 0.8585 - accuracy: 0.7109 - val_loss: 1.8238 - val_accuracy: 0.5134\n",
      "157/157 [==============================] - 2s 7ms/step - loss: 1.4977 - accuracy: 0.4850\n"
     ]
    },
    {
     "data": {
      "text/plain": [
       "[1.4977052211761475, 0.48500001430511475]"
      ]
     },
     "execution_count": 13,
     "metadata": {},
     "output_type": "execute_result"
    }
   ],
   "source": [
    "keras.backend.clear_session()\n",
    "tf.random.set_seed(42)\n",
    "np.random.seed(42)\n",
    "\n",
    "model = keras.models.Sequential()\n",
    "model.add(keras.layers.Flatten(input_shape=[32, 32, 3]))\n",
    "for _ in range(20):\n",
    "    model.add(keras.layers.Dense(100,\n",
    "                                 kernel_initializer=\"lecun_normal\",\n",
    "                                 activation=\"selu\"))\n",
    "\n",
    "model.add(keras.layers.AlphaDropout(rate=0.1))\n",
    "model.add(keras.layers.Dense(10, activation=\"softmax\"))\n",
    "\n",
    "optimizer = keras.optimizers.Nadam(learning_rate=5e-4)\n",
    "model.compile(loss=\"sparse_categorical_crossentropy\",\n",
    "              optimizer=optimizer,\n",
    "              metrics=[\"accuracy\"])\n",
    "\n",
    "early_stopping_cb = keras.callbacks.EarlyStopping(patience=20)\n",
    "model_checkpoint_cb = keras.callbacks.ModelCheckpoint(\"my_cifar10_alpha_dropout_model.h5\", save_best_only=True)\n",
    "run_index = 1 # increment every time you train the model\n",
    "run_logdir = os.path.join(os.curdir, \"my_cifar10_logs\", \"run_alpha_dropout_{:03d}\".format(run_index))\n",
    "tensorboard_cb = keras.callbacks.TensorBoard(run_logdir)\n",
    "callbacks = [early_stopping_cb, model_checkpoint_cb, tensorboard_cb]\n",
    "\n",
    "X_means = X_train.mean(axis=0)\n",
    "X_stds = X_train.std(axis=0)\n",
    "X_train_scaled = (X_train - X_means) / X_stds\n",
    "X_valid_scaled = (X_valid - X_means) / X_stds\n",
    "X_test_scaled = (X_test - X_means) / X_stds\n",
    "\n",
    "model.fit(X_train_scaled, y_train, epochs=100,\n",
    "          validation_data=(X_valid_scaled, y_valid),\n",
    "          callbacks=callbacks)\n",
    "\n",
    "model = keras.models.load_model(\"my_cifar10_alpha_dropout_model.h5\")\n",
    "model.evaluate(X_valid_scaled, y_valid)"
   ]
  },
  {
   "cell_type": "markdown",
   "metadata": {},
   "source": [
    "The model reaches 48.9% accuracy on the validation set. That's very slightly better than without dropout (47.6%). With an extensive hyperparameter search, it might be possible to do better (I tried dropout rates of 5%, 10%, 20% and 40%, and learning rates 1e-4, 3e-4, 5e-4, and 1e-3), but probably not much better in this case."
   ]
  },
  {
   "cell_type": "markdown",
   "metadata": {},
   "source": [
    "Let's use MC Dropout now. We will need the `MCAlphaDropout` class we used earlier, so let's just copy it here for convenience:"
   ]
  },
  {
   "cell_type": "code",
   "execution_count": 14,
   "metadata": {},
   "outputs": [],
   "source": [
    "class MCAlphaDropout(keras.layers.AlphaDropout):\n",
    "    def call(self, inputs):\n",
    "        return super().call(inputs, training=True)"
   ]
  },
  {
   "cell_type": "markdown",
   "metadata": {},
   "source": [
    "Now let's create a new model, identical to the one we just trained (with the same weights), but with `MCAlphaDropout` dropout layers instead of `AlphaDropout` layers:"
   ]
  },
  {
   "cell_type": "code",
   "execution_count": 15,
   "metadata": {},
   "outputs": [],
   "source": [
    "mc_model = keras.models.Sequential([\n",
    "    MCAlphaDropout(layer.rate) if isinstance(layer, keras.layers.AlphaDropout) else layer\n",
    "    for layer in model.layers\n",
    "])"
   ]
  },
  {
   "cell_type": "markdown",
   "metadata": {},
   "source": [
    "Then let's add a couple utility functions. The first will run the model many times (10 by default) and it will return the mean predicted class probabilities. The second will use these mean probabilities to predict the most likely class for each instance:"
   ]
  },
  {
   "cell_type": "code",
   "execution_count": 16,
   "metadata": {},
   "outputs": [],
   "source": [
    "def mc_dropout_predict_probas(mc_model, X, n_samples=10):\n",
    "    Y_probas = [mc_model.predict(X) for sample in range(n_samples)]\n",
    "    return np.mean(Y_probas, axis=0)\n",
    "\n",
    "def mc_dropout_predict_classes(mc_model, X, n_samples=10):\n",
    "    Y_probas = mc_dropout_predict_probas(mc_model, X, n_samples)\n",
    "    return np.argmax(Y_probas, axis=1)"
   ]
  },
  {
   "cell_type": "markdown",
   "metadata": {},
   "source": [
    "Now let's make predictions for all the instances in the validation set, and compute the accuracy:"
   ]
  },
  {
   "cell_type": "code",
   "execution_count": 17,
   "metadata": {},
   "outputs": [
    {
     "data": {
      "text/plain": [
       "0.4842"
      ]
     },
     "execution_count": 17,
     "metadata": {},
     "output_type": "execute_result"
    }
   ],
   "source": [
    "keras.backend.clear_session()\n",
    "tf.random.set_seed(42)\n",
    "np.random.seed(42)\n",
    "\n",
    "y_pred = mc_dropout_predict_classes(mc_model, X_valid_scaled)\n",
    "accuracy = np.mean(y_pred == y_valid[:, 0])\n",
    "accuracy"
   ]
  },
  {
   "cell_type": "markdown",
   "metadata": {},
   "source": [
    "We get no accuracy improvement in this case (we're still at 48.9% accuracy).\n",
    "\n",
    "So the best model we got in this exercise is the Batch Normalization model."
   ]
  },
  {
   "cell_type": "markdown",
   "metadata": {},
   "source": [
    "*f. Retrain your model using 1cycle scheduling and see if it improves training\n",
    "speed and model accuracy.*"
   ]
  },
  {
   "cell_type": "code",
   "execution_count": 21,
   "metadata": {},
   "outputs": [],
   "source": [
    "import math"
   ]
  },
  {
   "cell_type": "code",
   "execution_count": 22,
   "metadata": {},
   "outputs": [],
   "source": [
    "K = keras.backend\n",
    "\n",
    "class ExponentialLearningRate(keras.callbacks.Callback):\n",
    "    def __init__(self, factor):\n",
    "        self.factor = factor\n",
    "        self.rates = []\n",
    "        self.losses = []\n",
    "    def on_batch_end(self, batch, logs):\n",
    "        self.rates.append(K.get_value(self.model.optimizer.learning_rate))\n",
    "        self.losses.append(logs[\"loss\"])\n",
    "        K.set_value(self.model.optimizer.learning_rate, self.model.optimizer.learning_rate * self.factor)\n",
    "\n",
    "def find_learning_rate(model, X, y, epochs=1, batch_size=32, min_rate=10**-5, max_rate=10):\n",
    "    init_weights = model.get_weights()\n",
    "    iterations = math.ceil(len(X) / batch_size) * epochs\n",
    "    factor = np.exp(np.log(max_rate / min_rate) / iterations)\n",
    "    init_lr = K.get_value(model.optimizer.learning_rate)\n",
    "    K.set_value(model.optimizer.learning_rate, min_rate)\n",
    "    exp_lr = ExponentialLearningRate(factor)\n",
    "    history = model.fit(X, y, epochs=epochs, batch_size=batch_size,\n",
    "                        callbacks=[exp_lr])\n",
    "    K.set_value(model.optimizer.learning_rate, init_lr)\n",
    "    model.set_weights(init_weights)\n",
    "    return exp_lr.rates, exp_lr.losses\n",
    "\n",
    "def plot_lr_vs_loss(rates, losses):\n",
    "    plt.plot(rates, losses)\n",
    "    plt.gca().set_xscale('log')\n",
    "    plt.hlines(min(losses), min(rates), max(rates))\n",
    "    plt.axis([min(rates), max(rates), min(losses), (losses[0] + min(losses)) / 2])\n",
    "    plt.xlabel(\"Learning rate\")\n",
    "    plt.ylabel(\"Loss\")"
   ]
  },
  {
   "cell_type": "code",
   "execution_count": 25,
   "metadata": {},
   "outputs": [],
   "source": [
    "class OneCycleScheduler(keras.callbacks.Callback):\n",
    "    def __init__(self, iterations, max_rate, start_rate=None,\n",
    "                 last_iterations=None, last_rate=None):\n",
    "        self.iterations = iterations\n",
    "        self.max_rate = max_rate\n",
    "        self.start_rate = start_rate or max_rate / 10\n",
    "        self.last_iterations = last_iterations or iterations // 10 + 1\n",
    "        self.half_iteration = (iterations - self.last_iterations) // 2\n",
    "        self.last_rate = last_rate or self.start_rate / 1000\n",
    "        self.iteration = 0\n",
    "    def _interpolate(self, iter1, iter2, rate1, rate2):\n",
    "        return ((rate2 - rate1) * (self.iteration - iter1)\n",
    "                / (iter2 - iter1) + rate1)\n",
    "    def on_batch_begin(self, batch, logs):\n",
    "        if self.iteration < self.half_iteration:\n",
    "            rate = self._interpolate(0, self.half_iteration, self.start_rate, self.max_rate)\n",
    "        elif self.iteration < 2 * self.half_iteration:\n",
    "            rate = self._interpolate(self.half_iteration, 2 * self.half_iteration,\n",
    "                                     self.max_rate, self.start_rate)\n",
    "        else:\n",
    "            rate = self._interpolate(2 * self.half_iteration, self.iterations,\n",
    "                                     self.start_rate, self.last_rate)\n",
    "        self.iteration += 1\n",
    "        K.set_value(self.model.optimizer.learning_rate, rate)"
   ]
  },
  {
   "cell_type": "code",
   "execution_count": 23,
   "metadata": {},
   "outputs": [],
   "source": [
    "keras.backend.clear_session()\n",
    "tf.random.set_seed(42)\n",
    "np.random.seed(42)\n",
    "\n",
    "model = keras.models.Sequential()\n",
    "model.add(keras.layers.Flatten(input_shape=[32, 32, 3]))\n",
    "for _ in range(20):\n",
    "    model.add(keras.layers.Dense(100,\n",
    "                                 kernel_initializer=\"lecun_normal\",\n",
    "                                 activation=\"selu\"))\n",
    "\n",
    "model.add(keras.layers.AlphaDropout(rate=0.1))\n",
    "model.add(keras.layers.Dense(10, activation=\"softmax\"))\n",
    "\n",
    "optimizer = keras.optimizers.SGD(learning_rate=1e-3)\n",
    "model.compile(loss=\"sparse_categorical_crossentropy\",\n",
    "              optimizer=optimizer,\n",
    "              metrics=[\"accuracy\"])"
   ]
  },
  {
   "cell_type": "code",
   "execution_count": 24,
   "metadata": {},
   "outputs": [
    {
     "name": "stdout",
     "output_type": "stream",
     "text": [
      "352/352 [==============================] - 5s 12ms/step - loss: nan - accuracy: 0.1381\n"
     ]
    },
    {
     "data": {
      "text/plain": [
       "(9.999999747378752e-06,\n",
       " 9.615227699279785,\n",
       " 2.6116039752960205,\n",
       " 4.002283300672259)"
      ]
     },
     "execution_count": 24,
     "metadata": {},
     "output_type": "execute_result"
    },
    {
     "data": {
      "image/png": "[encoded data removed]",
      "text/plain": [
       "<Figure size 640x480 with 1 Axes>"
      ]
     },
     "metadata": {},
     "output_type": "display_data"
    }
   ],
   "source": [
    "batch_size = 128\n",
    "rates, losses = find_learning_rate(model, X_train_scaled, y_train, epochs=1, batch_size=batch_size)\n",
    "plot_lr_vs_loss(rates, losses)\n",
    "plt.axis([min(rates), max(rates), min(losses), (losses[0] + min(losses)) / 1.4])"
   ]
  },
  {
   "cell_type": "code",
   "execution_count": 26,
   "metadata": {},
   "outputs": [],
   "source": [
    "keras.backend.clear_session()\n",
    "tf.random.set_seed(42)\n",
    "np.random.seed(42)\n",
    "\n",
    "model = keras.models.Sequential()\n",
    "model.add(keras.layers.Flatten(input_shape=[32, 32, 3]))\n",
    "for _ in range(20):\n",
    "    model.add(keras.layers.Dense(100,\n",
    "                                 kernel_initializer=\"lecun_normal\",\n",
    "                                 activation=\"selu\"))\n",
    "\n",
    "model.add(keras.layers.AlphaDropout(rate=0.1))\n",
    "model.add(keras.layers.Dense(10, activation=\"softmax\"))\n",
    "\n",
    "optimizer = keras.optimizers.SGD(learning_rate=1e-2)\n",
    "model.compile(loss=\"sparse_categorical_crossentropy\",\n",
    "              optimizer=optimizer,\n",
    "              metrics=[\"accuracy\"])"
   ]
  },
  {
   "cell_type": "code",
   "execution_count": 27,
   "metadata": {},
   "outputs": [],
   "source": [
    "n_epochs = 15\n",
    "onecycle = OneCycleScheduler(math.ceil(len(X_train_scaled) / batch_size) * n_epochs, max_rate=0.05)\n",
    "history = model.fit(X_train_scaled, y_train, epochs=n_epochs, batch_size=batch_size,\n",
    "                    validation_data=(X_valid_scaled, y_valid),\n",
    "                    callbacks=[onecycle])"
   ]
  },
  {
   "cell_type": "markdown",
   "metadata": {},
   "source": [
    "One cycle allowed us to train the model in just 15 epochs, each taking only 2 seconds (thanks to the larger batch size). This is several times faster than the fastest model we trained so far. Moreover, we improved the model's performance (from 47.6% to 52.0%). The batch normalized model reaches a slightly better performance (54%), but it's much slower to train."
   ]
  }
 ],
 "metadata": {
  "interpreter": {
   "hash": "4c01faa304b067634e6649e845c90d29a28bbb084674f774f8c946c047d774b2"
  },
  "kernelspec": {
   "display_name": "Python 3.8.15 ('tf2')",
   "language": "python",
   "name": "python3"
  },
  "language_info": {
   "codemirror_mode": {
    "name": "ipython",
    "version": 3
   },
   "file_extension": ".py",
   "mimetype": "text/x-python",
   "name": "python",
   "nbconvert_exporter": "python",
   "pygments_lexer": "ipython3",
   "version": "3.8.15"
  },
  "orig_nbformat": 4
 },
 "nbformat": 4,
 "nbformat_minor": 2
}
