{
 "cells": [
  {
   "cell_type": "markdown",
   "metadata": {},
   "source": [
    "# Setup"
   ]
  },
  {
   "cell_type": "code",
   "execution_count": 1,
   "metadata": {},
   "outputs": [
    {
     "name": "stderr",
     "output_type": "stream",
     "text": [
      "/home/fanpeng/miniconda3/envs/tf2/lib/python3.8/site-packages/scipy/__init__.py:146: UserWarning: A NumPy version >=1.16.5 and <1.23.0 is required for this version of SciPy (detected version 1.24.4\n",
      "  warnings.warn(f\"A NumPy version >={np_minversion} and <{np_maxversion}\"\n"
     ]
    }
   ],
   "source": [
    "# Python ≥3.5 is required\n",
    "import sys\n",
    "assert sys.version_info >= (3, 5)\n",
    "\n",
    "# Scikit-Learn ≥0.20 is required\n",
    "import sklearn\n",
    "assert sklearn.__version__ >= \"0.20\"\n",
    "\n",
    "try:\n",
    "    # %tensorflow_version only exists in Colab.\n",
    "    %tensorflow_version 2.x\n",
    "except Exception:\n",
    "    pass\n",
    "\n",
    "# TensorFlow ≥2.0 is required\n",
    "import tensorflow as tf\n",
    "assert tf.__version__ >= \"2.0\"\n",
    "\n",
    "# Common imports\n",
    "import numpy as np\n",
    "import os\n",
    "\n",
    "# to make this notebook's output stable across runs\n",
    "np.random.seed(42)\n",
    "\n",
    "# To plot pretty figures\n",
    "%matplotlib inline\n",
    "import matplotlib as mpl\n",
    "import matplotlib.pyplot as plt\n",
    "mpl.rc('axes', labelsize=14)\n",
    "mpl.rc('xtick', labelsize=12)\n",
    "mpl.rc('ytick', labelsize=12)\n",
    "\n",
    "# Where to save the figures\n",
    "PROJECT_ROOT_DIR = \".\"\n",
    "CHAPTER_ID = \"ann\"\n",
    "IMAGES_PATH = os.path.join(PROJECT_ROOT_DIR, \"images\", CHAPTER_ID)\n",
    "os.makedirs(IMAGES_PATH, exist_ok=True)\n",
    "\n",
    "def save_fig(fig_id, tight_layout=True, fig_extension=\"png\", resolution=300):\n",
    "    path = os.path.join(IMAGES_PATH, fig_id + \".\" + fig_extension)\n",
    "    print(\"Saving figure\", fig_id)\n",
    "    if tight_layout:\n",
    "        plt.tight_layout()\n",
    "    plt.savefig(path, format=fig_extension, dpi=resolution)\n"
   ]
  },
  {
   "cell_type": "markdown",
   "metadata": {},
   "source": [
    "# Questions"
   ]
  },
  {
   "cell_type": "markdown",
   "metadata": {},
   "source": [
    "## 1. \n",
    "The TensorFlow Playground is a handy neural network simulator built by the\n",
    "TensorFlow team. In this exercise, you will train several binary classifiers in just a\n",
    "few clicks, and tweak the model’s architecture and its hyperparameters to gain\n",
    "some intuition on how neural networks work and what their hyperparameters\n",
    "do. Take some time to explore the following:\n",
    "\n",
    "* a. The patterns learned by a neural net. Try training the default neural network\n",
    "by clicking the Run button (top left). Notice how it quickly finds a good solu‐\n",
    "tion for the classification task. The neurons in the first hidden layer have\n",
    "learned simple patterns, while the neurons in the second hidden layer have\n",
    "learned to combine the simple patterns of the first hidden layer into more\n",
    "complex patterns. In general, the more layers there are, the more complex the\n",
    "patterns can be.\n",
    "\n",
    "* b. Activation functions. Try replacing the tanh activation function with a ReLU\n",
    "activation function, and train the network again. Notice that it finds a solution\n",
    "even faster, but this time the boundaries are linear. This is due to the shape of\n",
    "the ReLU function.\n",
    "\n",
    "* c. The risk of local minima. Modify the network architecture to have just one\n",
    "hidden layer with three neurons. Train it multiple times (to reset the network\n",
    "weights, click the Reset button next to the Play button). Notice that the train‐\n",
    "ing time varies a lot, and sometimes it even gets stuck in a local minimum.\n",
    "\n",
    "* d. What happens when neural nets are too small. Remove one neuron to keep\n",
    "just two. Notice that the neural network is now incapable of finding a good\n",
    "solution, even if you try multiple times. The model has too few parameters\n",
    "and systematically underfits the training set.\n",
    "\n",
    "* e. What happens when neural nets are large enough. Set the number of neurons\n",
    "to eight, and train the network several times. Notice that it is now consistently\n",
    "fast and never gets stuck. This highlights an important finding in neural net‐\n",
    "work theory: large neural networks almost never get stuck in local minima,\n",
    "and even when they do these local optima are almost as good as the global\n",
    "optimum. However, they can still get stuck on long plateaus for a long time.\n",
    "\n",
    "* f. The risk of vanishing gradients in deep networks. Select the spiral dataset (the\n",
    "bottom-right dataset under “DATA”), and change the network architecture to\n",
    "have four hidden layers with eight neurons each. Notice that training takes\n",
    "much longer and often gets stuck on plateaus for long periods of time. Also\n",
    "notice that the neurons in the highest layers (on the right) tend to evolve\n",
    "faster than the neurons in the lowest layers (on the left). This problem, called\n",
    "the “vanishing gradients” problem, can be alleviated with better weight initial‐\n",
    "ization and other techniques, better optimizers (such as AdaGrad or Adam),\n",
    "or Batch Normalization (discussed in Chapter 11).\n",
    "\n",
    "* g. Go further. Take an hour or so to play around with other parameters and get a\n",
    "feel for what they do, to build an intuitive understanding about neural\n",
    "networks."
   ]
  },
  {
   "cell_type": "markdown",
   "metadata": {},
   "source": [
    "## 2. \n",
    "*Draw an ANN using the original artificial neurons (like the ones in Figure 10-3)\n",
    "that computes A ⊕ B (where ⊕ represents the XOR operation). Hint: A ⊕ B =\n",
    "(A ∧ ¬ B ∨ (¬ A ∧ B).*"
   ]
  },
  {
   "cell_type": "markdown",
   "metadata": {},
   "source": [
    "## 3. \n",
    "*Why is it generally preferable to use a Logistic Regression classifier rather than a\n",
    "classical Perceptron (i.e., a single layer of threshold logic units trained using the\n",
    "Perceptron training algorithm)? How can you tweak a Perceptron to make it\n",
    "equivalent to a Logistic Regression classifier?*\n"
   ]
  },
  {
   "cell_type": "markdown",
   "metadata": {},
   "source": [
    "A classical Perceptron will converge only if the dataset is linearly separable, and it\n",
    "won’t be able to estimate class probabilities. In contrast, a Logistic Regression\n",
    "classifier will converge to a good solution even if the dataset is not linearly sepa‐\n",
    "rable, and it will output class probabilities. If you change the Perceptron’s activa‐\n",
    "tion function to the logistic activation function (or the softmax activation\n",
    "function if there are multiple neurons), and if you train it using Gradient Descent\n",
    "(or some other optimization algorithm minimizing the cost function, typically\n",
    "cross entropy), then it becomes equivalent to a Logistic Regression classifier."
   ]
  },
  {
   "cell_type": "markdown",
   "metadata": {},
   "source": [
    "## 4. \n",
    "*Why was the logistic activation function a key ingredient in training the first\n",
    "MLPs?*\n"
   ]
  },
  {
   "cell_type": "markdown",
   "metadata": {},
   "source": [
    "The logistic activation function was a key ingredient in training the first MLPs\n",
    "because its derivative is always nonzero, so Gradient Descent can always roll\n",
    "down the slope. When the activation function is a step function, Gradient\n",
    "Descent cannot move, as there is no slope at all."
   ]
  },
  {
   "cell_type": "markdown",
   "metadata": {},
   "source": [
    "## 5. \n",
    "*Name three popular activation functions. Can you draw them?*\n"
   ]
  },
  {
   "cell_type": "markdown",
   "metadata": {},
   "source": [
    "Popular activation functions include the step function, the logistic (sigmoid)\n",
    "function, the hyperbolic tangent (tanh) function, and the Rectified Linear Unit\n",
    "(ReLU) function (see Figure 10-8). See Chapter 11 for other examples, such as\n",
    "ELU and variants of the ReLU function."
   ]
  },
  {
   "cell_type": "markdown",
   "metadata": {},
   "source": [
    "## 6. \n",
    "*Suppose you have an MLP composed of one input layer with 10 passthrough\n",
    "neurons, followed by one hidden layer with 50 artificial neurons, and finally one\n",
    "output layer with 3 artificial neurons. All artificial neurons use the ReLU activa‐\n",
    "tion function.*\n",
    "\n",
    "- *What is the shape of the input matrix X?*\n",
    "\n",
    "- *What are the shapes of the hidden layer’s weight vector Wh and its bias vector bh?*\n",
    "\n",
    "- *What are the shapes of the output layer’s weight vector Wo and its bias vector bo?*\n",
    "\n",
    "- *What is the shape of the network’s output matrix Y?*\n",
    "\n",
    "- *Write the equation that computes the network’s output matrix Y as a function of X, Wh, bh, Wo, and bo.*"
   ]
  },
  {
   "cell_type": "markdown",
   "metadata": {},
   "source": [
    "The shape of the input matrix X is m × 10, where m represents the training batch size.\n",
    "\n",
    "* a. The shape of the hidden layer’s weight vector Wh is 10 × 50, and the length of\n",
    "its bias vector bh is 50.\n",
    "\n",
    "* b. The shape of the output layer’s weight vector Wo is 50 × 3, and the length of its\n",
    "bias vector bo is 3.\n",
    "\n",
    "* c. The shape of the network’s output matrix Y is m × 3.\n",
    "\n",
    "* d. Y* = ReLU(ReLU(X Wh + bh) Wo + bo). Recall that the ReLU function just sets\n",
    "every negative number in the matrix to zero. Also note that when you are\n",
    "adding a bias vector to a matrix, it is added to every single row in the matrix,\n",
    "which is called broadcasting."
   ]
  },
  {
   "cell_type": "markdown",
   "metadata": {},
   "source": [
    "## 7. \n",
    "*How many neurons do you need in the output layer if you want to classify email\n",
    "into spam or ham? What activation function should you use in the output layer?\n",
    "If instead you want to tackle MNIST, how many neurons do you need in the out‐\n",
    "put layer, and which activation function should you use? What about for getting\n",
    "your network to predict housing prices, as in Chapter 2?*\n"
   ]
  },
  {
   "cell_type": "markdown",
   "metadata": {},
   "source": [
    "To classify email into spam or ham, you just need one neuron in the output layer\n",
    "of a neural network—for example, indicating the probability that the email is\n",
    "spam. You would typically use the logistic activation function in the output layer\n",
    "when estimating a probability. If instead you want to tackle MNIST, you need 10\n",
    "neurons in the output layer, and you must replace the logistic function with the\n",
    "softmax activation function, which can handle multiple classes, outputting one\n",
    "probability per class. If you want your neural network to predict housing prices\n",
    "like in Chapter 2, then you need one output neuron, using no activation function\n",
    "at all in the output layer.3"
   ]
  },
  {
   "cell_type": "markdown",
   "metadata": {},
   "source": [
    "## 8. \n",
    "*What is backpropagation and how does it work? What is the difference between\n",
    "backpropagation and reverse-mode autodiff?*\n"
   ]
  },
  {
   "cell_type": "markdown",
   "metadata": {},
   "source": [
    "Backpropagation is a technique used to train artificial neural networks. It first\n",
    "computes the gradients of the cost function with regard to every model parame‐\n",
    "ter (all the weights and biases), then it performs a Gradient Descent step using\n",
    "these gradients. This backpropagation step is typically performed thousands or\n",
    "millions of times, using many training batches, until the model parameters con‐\n",
    "verge to values that (hopefully) minimize the cost function. To compute the gra‐\n",
    "dients, backpropagation uses reverse-mode autodiff (although it wasn’t called\n",
    "that when backpropagation was invented, and it has been reinvented several\n",
    "times). Reverse-mode autodiff performs a forward pass through a computation\n",
    "graph, computing every node’s value for the current training batch, and then it\n",
    "performs a reverse pass, computing all the gradients at once (see Appendix D for\n",
    "more details). So what’s the difference? Well, backpropagation refers to the whole\n",
    "process of training an artificial neural network using multiple backpropagation\n",
    "steps, each of which computes gradients and uses them to perform a Gradient\n",
    "Descent step. In contrast, reverse-mode autodiff is just a technique to compute\n",
    "gradients efficiently, and it happens to be used by backpropagation."
   ]
  },
  {
   "cell_type": "markdown",
   "metadata": {},
   "source": [
    "## 9. \n",
    "*Can you list all the hyperparameters you can tweak in a basic MLP? If the MLP\n",
    "overfits the training data, how could you tweak these hyperparameters to try to\n",
    "solve the problem?*"
   ]
  },
  {
   "cell_type": "markdown",
   "metadata": {},
   "source": [
    "Here is a list of all the hyperparameters you can tweak in a basic MLP: the num‐\n",
    "ber of hidden layers, the number of neurons in each hidden layer, and the activa‐\n",
    "tion function used in each hidden layer and in the output layer.4 In general, the\n",
    "ReLU activation function (or one of its variants; see Chapter 11) is a good default\n",
    "for the hidden layers. For the output layer, in general you will want the logistic\n",
    "activation function for binary classification, the softmax activation function for\n",
    "multiclass classification, or no activation function for regression."
   ]
  },
  {
   "cell_type": "markdown",
   "metadata": {},
   "source": [
    "## 10.\n",
    "*Train a deep MLP on the MNIST dataset (you can load it using keras.data\n",
    "sets.mnist.load_data(). See if you can get over 98% precision. Try searching\n",
    "for the optimal learning rate by using the approach presented in this chapter (i.e.,\n",
    "by growing the learning rate exponentially, plotting the loss, and finding the\n",
    "point where the loss shoots up). Try adding all the bells and whistles—save\n",
    "checkpoints, use early stopping, and plot learning curves using TensorBoard.*"
   ]
  },
  {
   "cell_type": "code",
   "execution_count": 2,
   "metadata": {},
   "outputs": [],
   "source": [
    "from tensorflow import keras"
   ]
  },
  {
   "cell_type": "code",
   "execution_count": 3,
   "metadata": {},
   "outputs": [],
   "source": [
    "(X_train_full, y_train_full), (X_test, y_test) = keras.datasets.mnist.load_data()"
   ]
  },
  {
   "cell_type": "code",
   "execution_count": 4,
   "metadata": {},
   "outputs": [
    {
     "data": {
      "text/plain": [
       "(60000, 28, 28)"
      ]
     },
     "execution_count": 4,
     "metadata": {},
     "output_type": "execute_result"
    }
   ],
   "source": [
    "X_train_full.shape"
   ]
  },
  {
   "cell_type": "code",
   "execution_count": 5,
   "metadata": {},
   "outputs": [
    {
     "data": {
      "text/plain": [
       "dtype('uint8')"
      ]
     },
     "execution_count": 5,
     "metadata": {},
     "output_type": "execute_result"
    }
   ],
   "source": [
    "X_train_full.dtype"
   ]
  },
  {
   "cell_type": "code",
   "execution_count": 6,
   "metadata": {},
   "outputs": [],
   "source": [
    "X_valid, X_train = X_train_full[:5000] / 255., X_train_full[5000:] / 255.\n",
    "y_valid, y_train = y_train_full[:5000], y_train_full[5000:]\n",
    "X_test = X_test / 255."
   ]
  },
  {
   "cell_type": "code",
   "execution_count": 11,
   "metadata": {},
   "outputs": [
    {
     "data": {
      "image/png": "[encoded data removed]",
      "text/plain": [
       "<Figure size 640x480 with 1 Axes>"
      ]
     },
     "metadata": {},
     "output_type": "display_data"
    }
   ],
   "source": [
    "plt.imshow(X_train[0], cmap=\"binary\")\n",
    "plt.axis('off')\n",
    "plt.show()"
   ]
  },
  {
   "cell_type": "code",
   "execution_count": 12,
   "metadata": {},
   "outputs": [
    {
     "data": {
      "text/plain": [
       "array([7, 3, 4, ..., 5, 6, 8], dtype=uint8)"
      ]
     },
     "execution_count": 12,
     "metadata": {},
     "output_type": "execute_result"
    }
   ],
   "source": [
    "y_train"
   ]
  },
  {
   "cell_type": "code",
   "execution_count": 14,
   "metadata": {},
   "outputs": [
    {
     "data": {
      "image/png": "[encoded data removed]",
      "text/plain": [
       "<Figure size 1200x480 with 40 Axes>"
      ]
     },
     "metadata": {},
     "output_type": "display_data"
    }
   ],
   "source": [
    "n_rows = 4\n",
    "n_cols = 10\n",
    "plt.figure(figsize=(n_cols * 1.2, n_rows * 1.2))\n",
    "for row in range(n_rows):\n",
    "    for col in range(n_cols):\n",
    "        index = n_cols * row + col\n",
    "        plt.subplot(n_rows, n_cols, index+1)\n",
    "        plt.imshow(X_train[index], cmap='binary', interpolation='nearest')\n",
    "        plt.axis('off')\n",
    "        plt.title(y_train[index], fontsize=12)\n",
    "plt.subplots_adjust(wspace=0.2, hspace=0.5)\n",
    "plt.show()"
   ]
  },
  {
   "cell_type": "code",
   "execution_count": 15,
   "metadata": {},
   "outputs": [],
   "source": [
    "K = keras.backend\n",
    "\n",
    "class ExponentialLearningRate(keras.callbacks.Callback):\n",
    "    def __init__(self, factor):\n",
    "        self.factor = factor\n",
    "        self.rates = []\n",
    "        self.losses = []\n",
    "    def on_batch_end(self, batch, logs):\n",
    "        self.rates.append(K.get_value(self.model.optimizer.learning_rate))\n",
    "        self.losses.append(logs[\"loss\"])\n",
    "        K.set_value(self.model.optimizer.learning_rate, self.model.optimizer.learning_rate * self.factor)"
   ]
  },
  {
   "cell_type": "code",
   "execution_count": 16,
   "metadata": {},
   "outputs": [],
   "source": [
    "keras.backend.clear_session()\n",
    "np.random.seed(42)\n",
    "tf.random.set_seed(42)"
   ]
  },
  {
   "cell_type": "code",
   "execution_count": 17,
   "metadata": {},
   "outputs": [
    {
     "name": "stderr",
     "output_type": "stream",
     "text": [
      "2024-01-31 18:11:48.485975: I tensorflow/stream_executor/cuda/cuda_gpu_executor.cc:936] successful NUMA node read from SysFS had negative value (-1), but there must be at least one NUMA node, so returning NUMA node zero\n",
      "2024-01-31 18:11:48.541755: I tensorflow/stream_executor/cuda/cuda_gpu_executor.cc:936] successful NUMA node read from SysFS had negative value (-1), but there must be at least one NUMA node, so returning NUMA node zero\n",
      "2024-01-31 18:11:48.542030: I tensorflow/stream_executor/cuda/cuda_gpu_executor.cc:936] successful NUMA node read from SysFS had negative value (-1), but there must be at least one NUMA node, so returning NUMA node zero\n",
      "2024-01-31 18:11:48.544552: I tensorflow/core/platform/cpu_feature_guard.cc:151] This TensorFlow binary is optimized with oneAPI Deep Neural Network Library (oneDNN) to use the following CPU instructions in performance-critical operations:  AVX2 FMA\n",
      "To enable them in other operations, rebuild TensorFlow with the appropriate compiler flags.\n",
      "2024-01-31 18:11:48.545979: I tensorflow/stream_executor/cuda/cuda_gpu_executor.cc:936] successful NUMA node read from SysFS had negative value (-1), but there must be at least one NUMA node, so returning NUMA node zero\n",
      "2024-01-31 18:11:48.546345: I tensorflow/stream_executor/cuda/cuda_gpu_executor.cc:936] successful NUMA node read from SysFS had negative value (-1), but there must be at least one NUMA node, so returning NUMA node zero\n",
      "2024-01-31 18:11:48.546581: I tensorflow/stream_executor/cuda/cuda_gpu_executor.cc:936] successful NUMA node read from SysFS had negative value (-1), but there must be at least one NUMA node, so returning NUMA node zero\n",
      "2024-01-31 18:11:49.488459: I tensorflow/stream_executor/cuda/cuda_gpu_executor.cc:936] successful NUMA node read from SysFS had negative value (-1), but there must be at least one NUMA node, so returning NUMA node zero\n",
      "2024-01-31 18:11:49.488840: I tensorflow/stream_executor/cuda/cuda_gpu_executor.cc:936] successful NUMA node read from SysFS had negative value (-1), but there must be at least one NUMA node, so returning NUMA node zero\n",
      "2024-01-31 18:11:49.489186: I tensorflow/stream_executor/cuda/cuda_gpu_executor.cc:936] successful NUMA node read from SysFS had negative value (-1), but there must be at least one NUMA node, so returning NUMA node zero\n",
      "2024-01-31 18:11:49.489646: I tensorflow/core/common_runtime/gpu/gpu_device.cc:1525] Created device /job:localhost/replica:0/task:0/device:GPU:0 with 1154 MB memory:  -> device: 0, name: NVIDIA GeForce GTX 1050 Ti with Max-Q Design, pci bus id: 0000:01:00.0, compute capability: 6.1\n"
     ]
    }
   ],
   "source": [
    "model = keras.models.Sequential([\n",
    "    keras.layers.Flatten(input_shape=[28, 28]),\n",
    "    keras.layers.Dense(300, activation=\"relu\"),\n",
    "    keras.layers.Dense(100, activation=\"relu\"),\n",
    "    keras.layers.Dense(10, activation=\"softmax\") \n",
    "])"
   ]
  },
  {
   "cell_type": "code",
   "execution_count": 18,
   "metadata": {},
   "outputs": [],
   "source": [
    "model.compile(loss=\"sparse_categorical_crossentropy\",\n",
    "              optimizer=keras.optimizers.SGD(learning_rate=1e-3),\n",
    "              metrics=[\"accuracy\"])\n",
    "expon_lr = ExponentialLearningRate(factor=1.005)"
   ]
  },
  {
   "cell_type": "code",
   "execution_count": 19,
   "metadata": {},
   "outputs": [
    {
     "name": "stderr",
     "output_type": "stream",
     "text": [
      "2024-01-31 18:15:21.495387: W tensorflow/core/framework/cpu_allocator_impl.cc:82] Allocation of 172480000 exceeds 10% of free system memory.\n",
      "2024-01-31 18:15:21.738628: W tensorflow/core/framework/cpu_allocator_impl.cc:82] Allocation of 172480000 exceeds 10% of free system memory.\n"
     ]
    },
    {
     "name": "stdout",
     "output_type": "stream",
     "text": [
      "1719/1719 [==============================] - 13s 6ms/step - loss: 4135042304.0000 - accuracy: 0.5659 - val_loss: 2.3911 - val_accuracy: 0.1126\n"
     ]
    }
   ],
   "source": [
    "history = model.fit(X_train, y_train, epochs=1,\n",
    "                    validation_data=(X_valid, y_valid),\n",
    "                    callbacks=[expon_lr])"
   ]
  },
  {
   "cell_type": "code",
   "execution_count": 20,
   "metadata": {},
   "outputs": [
    {
     "data": {
      "text/plain": [
       "Text(0, 0.5, 'Loss')"
      ]
     },
     "execution_count": 20,
     "metadata": {},
     "output_type": "execute_result"
    },
    {
     "data": {
      "image/png": "[encoded data removed]",
      "text/plain": [
       "<Figure size 640x480 with 1 Axes>"
      ]
     },
     "metadata": {},
     "output_type": "display_data"
    }
   ],
   "source": [
    "plt.plot(expon_lr.rates, expon_lr.losses)\n",
    "plt.gca().set_xscale('log')\n",
    "plt.hlines(min(expon_lr.losses), min(expon_lr.rates), max(expon_lr.rates))\n",
    "plt.axis([min(expon_lr.rates), max(expon_lr.rates), 0, expon_lr.losses[0]])\n",
    "plt.grid()\n",
    "plt.xlabel(\"Learning rate\")\n",
    "plt.ylabel(\"Loss\")"
   ]
  },
  {
   "cell_type": "code",
   "execution_count": 21,
   "metadata": {},
   "outputs": [],
   "source": [
    "keras.backend.clear_session()\n",
    "np.random.seed(42)\n",
    "tf.random.set_seed(42)"
   ]
  },
  {
   "cell_type": "code",
   "execution_count": 22,
   "metadata": {},
   "outputs": [],
   "source": [
    "model = keras.models.Sequential([\n",
    "    keras.layers.Flatten(input_shape=[28, 28]),\n",
    "    keras.layers.Dense(300, activation=\"relu\"),\n",
    "    keras.layers.Dense(100, activation=\"relu\"),\n",
    "    keras.layers.Dense(10, activation=\"softmax\")\n",
    "])"
   ]
  },
  {
   "cell_type": "code",
   "execution_count": 23,
   "metadata": {},
   "outputs": [],
   "source": [
    "model.compile(loss=\"sparse_categorical_crossentropy\",\n",
    "              optimizer=keras.optimizers.SGD(learning_rate=3e-1),\n",
    "              metrics=[\"accuracy\"])"
   ]
  },
  {
   "cell_type": "code",
   "execution_count": 24,
   "metadata": {},
   "outputs": [
    {
     "data": {
      "text/plain": [
       "'./my_mnist_logs/run_001'"
      ]
     },
     "execution_count": 24,
     "metadata": {},
     "output_type": "execute_result"
    }
   ],
   "source": [
    "run_index = 1 # increment this at every run\n",
    "run_logdir = os.path.join(os.curdir, \"my_mnist_logs\", \"run_{:03d}\".format(run_index))\n",
    "run_logdir"
   ]
  },
  {
   "cell_type": "code",
   "execution_count": 25,
   "metadata": {},
   "outputs": [
    {
     "name": "stdout",
     "output_type": "stream",
     "text": [
      "Epoch 1/100\n"
     ]
    },
    {
     "name": "stderr",
     "output_type": "stream",
     "text": [
      "2024-01-31 18:22:47.871075: W tensorflow/core/framework/cpu_allocator_impl.cc:82] Allocation of 172480000 exceeds 10% of free system memory.\n",
      "2024-01-31 18:22:48.031546: W tensorflow/core/framework/cpu_allocator_impl.cc:82] Allocation of 172480000 exceeds 10% of free system memory.\n"
     ]
    },
    {
     "name": "stdout",
     "output_type": "stream",
     "text": [
      "1719/1719 [==============================] - 8s 5ms/step - loss: 0.2363 - accuracy: 0.9264 - val_loss: 0.1022 - val_accuracy: 0.9696\n",
      "Epoch 2/100\n",
      "1719/1719 [==============================] - 8s 4ms/step - loss: 0.0945 - accuracy: 0.9703 - val_loss: 0.0902 - val_accuracy: 0.9740\n",
      "Epoch 3/100\n",
      "1719/1719 [==============================] - 8s 5ms/step - loss: 0.0672 - accuracy: 0.9787 - val_loss: 0.0842 - val_accuracy: 0.9784\n",
      "Epoch 4/100\n",
      "1719/1719 [==============================] - 10s 6ms/step - loss: 0.0471 - accuracy: 0.9847 - val_loss: 0.0792 - val_accuracy: 0.9786\n",
      "Epoch 5/100\n",
      "1719/1719 [==============================] - 10s 6ms/step - loss: 0.0346 - accuracy: 0.9885 - val_loss: 0.0812 - val_accuracy: 0.9796\n",
      "Epoch 6/100\n",
      "1719/1719 [==============================] - 9s 5ms/step - loss: 0.0297 - accuracy: 0.9901 - val_loss: 0.0783 - val_accuracy: 0.9806\n",
      "Epoch 7/100\n",
      "1719/1719 [==============================] - 10s 6ms/step - loss: 0.0260 - accuracy: 0.9916 - val_loss: 0.0770 - val_accuracy: 0.9806\n",
      "Epoch 8/100\n",
      "1719/1719 [==============================] - 10s 6ms/step - loss: 0.0166 - accuracy: 0.9946 - val_loss: 0.0905 - val_accuracy: 0.9800\n",
      "Epoch 9/100\n",
      "1719/1719 [==============================] - 9s 5ms/step - loss: 0.0162 - accuracy: 0.9947 - val_loss: 0.0951 - val_accuracy: 0.9824\n",
      "Epoch 10/100\n",
      "1719/1719 [==============================] - 9s 5ms/step - loss: 0.0132 - accuracy: 0.9957 - val_loss: 0.0870 - val_accuracy: 0.9786\n",
      "Epoch 11/100\n",
      "1719/1719 [==============================] - 10s 6ms/step - loss: 0.0144 - accuracy: 0.9956 - val_loss: 0.1132 - val_accuracy: 0.9778\n",
      "Epoch 12/100\n",
      "1719/1719 [==============================] - 9s 5ms/step - loss: 0.0144 - accuracy: 0.9954 - val_loss: 0.0786 - val_accuracy: 0.9830\n",
      "Epoch 13/100\n",
      "1719/1719 [==============================] - 9s 5ms/step - loss: 0.0087 - accuracy: 0.9972 - val_loss: 0.0836 - val_accuracy: 0.9856\n",
      "Epoch 14/100\n",
      "1719/1719 [==============================] - 10s 6ms/step - loss: 0.0070 - accuracy: 0.9977 - val_loss: 0.0989 - val_accuracy: 0.9826\n",
      "Epoch 15/100\n",
      "1719/1719 [==============================] - 10s 6ms/step - loss: 0.0072 - accuracy: 0.9979 - val_loss: 0.1042 - val_accuracy: 0.9796\n",
      "Epoch 16/100\n",
      "1719/1719 [==============================] - 9s 5ms/step - loss: 0.0045 - accuracy: 0.9987 - val_loss: 0.1027 - val_accuracy: 0.9832\n",
      "Epoch 17/100\n",
      "1719/1719 [==============================] - 9s 5ms/step - loss: 0.0064 - accuracy: 0.9981 - val_loss: 0.0965 - val_accuracy: 0.9846\n",
      "Epoch 18/100\n",
      "1719/1719 [==============================] - 8s 5ms/step - loss: 0.0052 - accuracy: 0.9985 - val_loss: 0.0868 - val_accuracy: 0.9846\n",
      "Epoch 19/100\n",
      "1719/1719 [==============================] - 9s 5ms/step - loss: 0.0017 - accuracy: 0.9996 - val_loss: 0.0870 - val_accuracy: 0.9846\n",
      "Epoch 20/100\n",
      "1719/1719 [==============================] - 8s 5ms/step - loss: 0.0030 - accuracy: 0.9992 - val_loss: 0.1018 - val_accuracy: 0.9834\n",
      "Epoch 21/100\n",
      "1719/1719 [==============================] - 9s 5ms/step - loss: 0.0028 - accuracy: 0.9992 - val_loss: 0.0998 - val_accuracy: 0.9838\n",
      "Epoch 22/100\n",
      "1719/1719 [==============================] - 8s 5ms/step - loss: 0.0011 - accuracy: 0.9997 - val_loss: 0.0883 - val_accuracy: 0.9880\n",
      "Epoch 23/100\n",
      "1719/1719 [==============================] - 9s 5ms/step - loss: 1.4817e-04 - accuracy: 1.0000 - val_loss: 0.0889 - val_accuracy: 0.9882\n",
      "Epoch 24/100\n",
      "1719/1719 [==============================] - 9s 5ms/step - loss: 6.4097e-05 - accuracy: 1.0000 - val_loss: 0.0881 - val_accuracy: 0.9888\n",
      "Epoch 25/100\n",
      "1719/1719 [==============================] - 9s 5ms/step - loss: 4.9695e-05 - accuracy: 1.0000 - val_loss: 0.0884 - val_accuracy: 0.9888\n",
      "Epoch 26/100\n",
      "1719/1719 [==============================] - 8s 5ms/step - loss: 4.2923e-05 - accuracy: 1.0000 - val_loss: 0.0889 - val_accuracy: 0.9890\n",
      "Epoch 27/100\n",
      "1719/1719 [==============================] - 8s 5ms/step - loss: 3.8194e-05 - accuracy: 1.0000 - val_loss: 0.0893 - val_accuracy: 0.9890\n"
     ]
    }
   ],
   "source": [
    "early_stopping_cb = keras.callbacks.EarlyStopping(patience=20)\n",
    "checkpoint_cb = keras.callbacks.ModelCheckpoint(\"my_mnist_model.h5\", save_best_only=True)\n",
    "tensorboard_cb = keras.callbacks.TensorBoard(run_logdir)\n",
    "\n",
    "history = model.fit(X_train, y_train, epochs=100,\n",
    "                    validation_data=(X_valid, y_valid),\n",
    "                    callbacks=[checkpoint_cb, early_stopping_cb, tensorboard_cb])"
   ]
  },
  {
   "cell_type": "code",
   "execution_count": 27,
   "metadata": {},
   "outputs": [
    {
     "name": "stdout",
     "output_type": "stream",
     "text": [
      "313/313 [==============================] - 1s 3ms/step - loss: 0.0848 - accuracy: 0.9783\n"
     ]
    },
    {
     "data": {
      "text/plain": [
       "[0.08480130136013031, 0.9782999753952026]"
      ]
     },
     "execution_count": 27,
     "metadata": {},
     "output_type": "execute_result"
    }
   ],
   "source": [
    "model = keras.models.load_model(\"my_mnist_model.h5\")\n",
    "model.evaluate(X_test, y_test)"
   ]
  },
  {
   "cell_type": "code",
   "execution_count": 29,
   "metadata": {},
   "outputs": [
    {
     "data": {
      "text/html": [
       "\n",
       "      <iframe id=\"tensorboard-frame-ed7e9a5c438b4286\" width=\"100%\" height=\"800\" frameborder=\"0\">\n",
       "      </iframe>\n",
       "      <script>\n",
       "        (function() {\n",
       "          const frame = document.getElementById(\"tensorboard-frame-ed7e9a5c438b4286\");\n",
       "          const url = new URL(\"/\", window.location);\n",
       "          const port = 6006;\n",
       "          if (port) {\n",
       "            url.port = port;\n",
       "          }\n",
       "          frame.src = url;\n",
       "        })();\n",
       "      </script>\n",
       "    "
      ],
      "text/plain": [
       "<IPython.core.display.HTML object>"
      ]
     },
     "metadata": {},
     "output_type": "display_data"
    }
   ],
   "source": [
    "%load_ext tensorboard\n",
    "%tensorboard --logdir=./my_mnist_logs --port=6006"
   ]
  }
 ],
 "metadata": {
  "interpreter": {
   "hash": "4c01faa304b067634e6649e845c90d29a28bbb084674f774f8c946c047d774b2"
  },
  "kernelspec": {
   "display_name": "Python 3.8.15 ('tf2')",
   "language": "python",
   "name": "python3"
  },
  "language_info": {
   "codemirror_mode": {
    "name": "ipython",
    "version": 3
   },
   "file_extension": ".py",
   "mimetype": "text/x-python",
   "name": "python",
   "nbconvert_exporter": "python",
   "pygments_lexer": "ipython3",
   "version": "3.8.15"
  },
  "orig_nbformat": 4
 },
 "nbformat": 4,
 "nbformat_minor": 2
}
