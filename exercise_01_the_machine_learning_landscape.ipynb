{
 "cells": [
  {
   "cell_type": "markdown",
   "metadata": {},
   "source": [
    "## 1. How would you define Machine Learning\n",
    "\n",
    "Machine Learning is about building systems that can learn from data. Learning means getting better at some task, given some performance measure."
   ]
  },
  {
   "cell_type": "markdown",
   "metadata": {},
   "source": [
    "## 2. Can you name four types of problems where it shines?\n",
    "\n",
    "Machine Learning is great for complex problems for which we have no algorithmic solution, to replace long list of hand-tuned rules, to build systems that adapt to fluctuating environments, and finally to help human learn (e.g., data mining)."
   ]
  },
  {
   "cell_type": "markdown",
   "metadata": {},
   "source": [
    "## 3. What is a labeled training set?\n",
    "\n",
    "A labeled training set is a training set that contains the desired solution (a.k.a. a label) for each instance."
   ]
  },
  {
   "cell_type": "markdown",
   "metadata": {},
   "source": [
    "## 4. What are the two most common supervised tasks?\n",
    "\n",
    "Regression and classification."
   ]
  },
  {
   "cell_type": "markdown",
   "metadata": {},
   "source": [
    "## 5. Can you name four common unsupervised tasks?\n",
    "\n",
    "Common unsupervised tasks include clustering, visualisation, dimensionality reduction, and association rule learning."
   ]
  },
  {
   "cell_type": "markdown",
   "metadata": {},
   "source": [
    "## 6. What type of Machine Learning algorithm would you use to allow a robot to walk in various unknown terrains?\n",
    "\n",
    "Reinforced Learning, and might possibly use supervised or semisupervised learning."
   ]
  },
  {
   "cell_type": "markdown",
   "metadata": {},
   "source": [
    "## 7. What type of algorithm would you use to segment your customers into multiple groups?\n",
    "\n",
    "Clustering algorithms (unsupervised learning) or Classification algorithms (supervised learning) if we want to segment customers into known groups."
   ]
  },
  {
   "cell_type": "markdown",
   "metadata": {},
   "source": [
    "## 8. Would you frame the problem of spam detection as a supervised learning problem or an unsupervised learning problem?\n",
    "\n",
    "No, spam detection is a typical supervised learning problem which requires lables (spam or not spam)."
   ]
  },
  {
   "cell_type": "markdown",
   "metadata": {},
   "source": [
    "## 9. What is an online learning system?\n",
    "\n",
    "An online learning system can learn incrementally which makes it capable of adapting rapidly to both changing data and autonomous systems, and of training on very large datasets."
   ]
  },
  {
   "cell_type": "markdown",
   "metadata": {},
   "source": [
    "## 10. What is out-of-core learning?\n",
    "\n",
    "Out-of-core learning can handle vast quantities of data that cannot fit in a computer's main memory. An out-of-core learning algorithm chops data into mini-batches and uses online learning techniques to learn from these mini-batches."
   ]
  },
  {
   "cell_type": "markdown",
   "metadata": {},
   "source": [
    "## 11. What type of learning algorithm relies on a similarity measure to make predictions?\n",
    "\n",
    "Instance-based learning system."
   ]
  },
  {
   "cell_type": "markdown",
   "metadata": {},
   "source": [
    "## 12. What is the difference between a model parameter and a learning algorithm’s hyperparameter?\n",
    "\n",
    "A model has one or more model parameters that determin what it will predict given a new instance (e.g. the slope of a linear model). A learning algorithm tries to find optimal values for these parameters such that the model generalises well to new instances. A hyperparameter is a parameter of the learning algorithm itself, not of the model (e.g. the amount of regularisation to apply)."
   ]
  },
  {
   "cell_type": "markdown",
   "metadata": {},
   "source": [
    "## 13. What do model-based learning algorithms search for? What is the most common strategy they use to succeed? How do they make predictions?\n",
    "\n",
    "Model-based learning algorithms search for an optimal value for the model parameters such that the model will generalise well to new instances. We usually train such an system by minimising a cost function which measures how bad the system is at making predictions on the training data, plus a penalty for model complexity if the model is regularised. To make predictions, we feed the new instance's features into model's prediction function, using parameter values found by the learning algorithm."
   ]
  },
  {
   "cell_type": "markdown",
   "metadata": {},
   "source": [
    "## 14. Can you name four of the main challenges in Machine Learning?\n",
    "\n",
    "Some of the main challenges in ML are the lack of data, poor data quality, norepresentative data, uninformative features, excessively simple models that underfit the traing data, and excessively complex models that overfit the training data."
   ]
  },
  {
   "cell_type": "markdown",
   "metadata": {},
   "source": [
    "## 15. If your model performs great on the training data but generalizes poorly to new instances, what is happening? Can you name three possible solutions?\n",
    "\n",
    "The model is likely overfitting the training data. Possible solutions are getting more data, simplyfing the model (selecting a simpler algorithm, reducing the number of parameters or features used, or regularising the model), or reducing the noise in the training data."
   ]
  },
  {
   "cell_type": "markdown",
   "metadata": {},
   "source": [
    "## 16. What is a test set, and why would you want to use it?\n",
    "\n",
    "A test set is used to estimate the generalisation error that a model will make on new instances, before the model is launched in production."
   ]
  },
  {
   "cell_type": "markdown",
   "metadata": {},
   "source": [
    "## 17. What is the purpose of a validation set?\n",
    "\n",
    "A validation set is used to compare models. It makes it possible to select the best model and tune the hyperparameters."
   ]
  },
  {
   "cell_type": "markdown",
   "metadata": {},
   "source": [
    "## 18. What is the train-dev set, when do you need it, and how do you use it?\n",
    "\n",
    "The train-dev set is used when there is a risk of mismatch between the training data and the data used in validation and test datasets (which should always be as close as possible to the data used once the model is in production). The train-dev set is part of the training set that's held out (the model is not trained on it). The model is trained on the rest of the training set, and evaluated on both the train-dev and the validation set. If the model peforms well on the training set but not on the train-dev set, then the model is likely overfitting the training set. If the model performs well on both the training set and the train-dev set, but not on the validation set, then there is probably of significant data mismatch between the training data and the validation + test data, and you should try to improve the training data to make it look more like the validation + test data."
   ]
  },
  {
   "cell_type": "markdown",
   "metadata": {},
   "source": [
    "## 19. What can go wrong if you tune hyperparameters using the test set?\n",
    "\n",
    "If you tune hyperparameters using the test test, you risk overfitting the test set, and the generalisation error you measure will be optimistic (you may launch a model that performs worse than you expect)."
   ]
  }
 ],
 "metadata": {
  "language_info": {
   "name": "python"
  },
  "orig_nbformat": 4
 },
 "nbformat": 4,
 "nbformat_minor": 2
}
