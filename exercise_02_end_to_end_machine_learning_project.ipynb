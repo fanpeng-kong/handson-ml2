{
 "cells": [
  {
   "cell_type": "markdown",
   "metadata": {},
   "source": [
    "# Setup"
   ]
  },
  {
   "cell_type": "markdown",
   "metadata": {},
   "source": [
    "First, let's import a few common modules, ensure MatplotLib plots figures inline and prepare a function to save the figures. We also check that Python 3.5 or later is installed (although Python 2.x may work, it is deprecated so we strongly recommend you use Python 3 instead), as well as Scikit-Learn ≥0.20."
   ]
  },
  {
   "cell_type": "code",
   "execution_count": 1,
   "metadata": {},
   "outputs": [],
   "source": [
    "# Python ≥3.5 is required\n",
    "import sys\n",
    "assert sys.version_info >= (3, 5)\n",
    "\n",
    "# Scikit-Learn ≥0.20 is required\n",
    "import sklearn\n",
    "assert sklearn.__version__ >= \"0.20\"\n",
    "\n",
    "# Common imports\n",
    "import numpy as np\n",
    "import os\n",
    "\n",
    "# To plot pretty figures\n",
    "%matplotlib inline\n",
    "import matplotlib as mpl\n",
    "import matplotlib.pyplot as plt\n",
    "mpl.rc('axes', labelsize=14)\n",
    "mpl.rc('xtick', labelsize=12)\n",
    "mpl.rc('ytick', labelsize=12)\n",
    "\n",
    "# Where to save the figures\n",
    "PROJECT_ROOT_DIR = \".\"\n",
    "CHAPTER_ID = \"end_to_end_project\"\n",
    "IMAGES_PATH = os.path.join(PROJECT_ROOT_DIR, \"images\", CHAPTER_ID)\n",
    "os.makedirs(IMAGES_PATH, exist_ok=True)\n",
    "\n",
    "def save_fig(fig_id, tight_layout=True, fig_extension=\"png\", resolution=300):\n",
    "    path = os.path.join(IMAGES_PATH, fig_id + \".\" + fig_extension)\n",
    "    print(\"Saving figure\", fig_id)\n",
    "    if tight_layout:\n",
    "        plt.tight_layout()\n",
    "    plt.savefig(path, format=fig_extension, dpi=resolution)"
   ]
  },
  {
   "cell_type": "markdown",
   "metadata": {},
   "source": [
    "## Data Preparation"
   ]
  },
  {
   "cell_type": "code",
   "execution_count": 2,
   "metadata": {},
   "outputs": [
    {
     "data": {
      "text/html": [
       "<div>\n",
       "<style scoped>\n",
       "    .dataframe tbody tr th:only-of-type {\n",
       "        vertical-align: middle;\n",
       "    }\n",
       "\n",
       "    .dataframe tbody tr th {\n",
       "        vertical-align: top;\n",
       "    }\n",
       "\n",
       "    .dataframe thead th {\n",
       "        text-align: right;\n",
       "    }\n",
       "</style>\n",
       "<table border=\"1\" class=\"dataframe\">\n",
       "  <thead>\n",
       "    <tr style=\"text-align: right;\">\n",
       "      <th></th>\n",
       "      <th>longitude</th>\n",
       "      <th>latitude</th>\n",
       "      <th>housing_median_age</th>\n",
       "      <th>total_rooms</th>\n",
       "      <th>total_bedrooms</th>\n",
       "      <th>population</th>\n",
       "      <th>households</th>\n",
       "      <th>median_income</th>\n",
       "      <th>median_house_value</th>\n",
       "      <th>ocean_proximity</th>\n",
       "    </tr>\n",
       "  </thead>\n",
       "  <tbody>\n",
       "    <tr>\n",
       "      <th>0</th>\n",
       "      <td>-122.23</td>\n",
       "      <td>37.88</td>\n",
       "      <td>41.0</td>\n",
       "      <td>880.0</td>\n",
       "      <td>129.0</td>\n",
       "      <td>322.0</td>\n",
       "      <td>126.0</td>\n",
       "      <td>8.3252</td>\n",
       "      <td>452600.0</td>\n",
       "      <td>NEAR BAY</td>\n",
       "    </tr>\n",
       "    <tr>\n",
       "      <th>1</th>\n",
       "      <td>-122.22</td>\n",
       "      <td>37.86</td>\n",
       "      <td>21.0</td>\n",
       "      <td>7099.0</td>\n",
       "      <td>1106.0</td>\n",
       "      <td>2401.0</td>\n",
       "      <td>1138.0</td>\n",
       "      <td>8.3014</td>\n",
       "      <td>358500.0</td>\n",
       "      <td>NEAR BAY</td>\n",
       "    </tr>\n",
       "    <tr>\n",
       "      <th>2</th>\n",
       "      <td>-122.24</td>\n",
       "      <td>37.85</td>\n",
       "      <td>52.0</td>\n",
       "      <td>1467.0</td>\n",
       "      <td>190.0</td>\n",
       "      <td>496.0</td>\n",
       "      <td>177.0</td>\n",
       "      <td>7.2574</td>\n",
       "      <td>352100.0</td>\n",
       "      <td>NEAR BAY</td>\n",
       "    </tr>\n",
       "    <tr>\n",
       "      <th>3</th>\n",
       "      <td>-122.25</td>\n",
       "      <td>37.85</td>\n",
       "      <td>52.0</td>\n",
       "      <td>1274.0</td>\n",
       "      <td>235.0</td>\n",
       "      <td>558.0</td>\n",
       "      <td>219.0</td>\n",
       "      <td>5.6431</td>\n",
       "      <td>341300.0</td>\n",
       "      <td>NEAR BAY</td>\n",
       "    </tr>\n",
       "    <tr>\n",
       "      <th>4</th>\n",
       "      <td>-122.25</td>\n",
       "      <td>37.85</td>\n",
       "      <td>52.0</td>\n",
       "      <td>1627.0</td>\n",
       "      <td>280.0</td>\n",
       "      <td>565.0</td>\n",
       "      <td>259.0</td>\n",
       "      <td>3.8462</td>\n",
       "      <td>342200.0</td>\n",
       "      <td>NEAR BAY</td>\n",
       "    </tr>\n",
       "  </tbody>\n",
       "</table>\n",
       "</div>"
      ],
      "text/plain": [
       "   longitude  latitude  housing_median_age  total_rooms  total_bedrooms  \\\n",
       "0    -122.23     37.88                41.0        880.0           129.0   \n",
       "1    -122.22     37.86                21.0       7099.0          1106.0   \n",
       "2    -122.24     37.85                52.0       1467.0           190.0   \n",
       "3    -122.25     37.85                52.0       1274.0           235.0   \n",
       "4    -122.25     37.85                52.0       1627.0           280.0   \n",
       "\n",
       "   population  households  median_income  median_house_value ocean_proximity  \n",
       "0       322.0       126.0         8.3252            452600.0        NEAR BAY  \n",
       "1      2401.0      1138.0         8.3014            358500.0        NEAR BAY  \n",
       "2       496.0       177.0         7.2574            352100.0        NEAR BAY  \n",
       "3       558.0       219.0         5.6431            341300.0        NEAR BAY  \n",
       "4       565.0       259.0         3.8462            342200.0        NEAR BAY  "
      ]
     },
     "execution_count": 2,
     "metadata": {},
     "output_type": "execute_result"
    }
   ],
   "source": [
    "import os\n",
    "import pandas as pd\n",
    "\n",
    "HOUSING_PATH = os.path.join(\"datasets\", \"housing\")\n",
    "housing = pd.read_csv(os.path.join(HOUSING_PATH, \"housing.csv\"))\n",
    "housing.head()"
   ]
  },
  {
   "cell_type": "markdown",
   "metadata": {},
   "source": [
    "### Create Train and Test Data Sets"
   ]
  },
  {
   "cell_type": "code",
   "execution_count": 3,
   "metadata": {},
   "outputs": [],
   "source": [
    "housing['income_cat'] = pd.cut(housing['median_income'],\n",
    "                               bins=[0., 1.5, 3.0, 4.5, 6., np.inf],\n",
    "                               labels=[1, 2, 3, 4, 5])"
   ]
  },
  {
   "cell_type": "code",
   "execution_count": 4,
   "metadata": {},
   "outputs": [],
   "source": [
    "from sklearn.model_selection import StratifiedShuffleSplit\n",
    "\n",
    "split = StratifiedShuffleSplit(n_splits=1, test_size=0.2, random_state=42)\n",
    "for train_index, test_index in split.split(housing, housing['income_cat']):\n",
    "    strat_train_set = housing.loc[train_index]\n",
    "    strat_test_set = housing.loc[test_index]"
   ]
  },
  {
   "cell_type": "code",
   "execution_count": 5,
   "metadata": {},
   "outputs": [],
   "source": [
    "for set_ in (strat_train_set, strat_test_set):\n",
    "    set_.drop('income_cat', axis=1, inplace=True)"
   ]
  },
  {
   "cell_type": "markdown",
   "metadata": {},
   "source": [
    "### Preparing Data for ML Algorithms"
   ]
  },
  {
   "cell_type": "code",
   "execution_count": 6,
   "metadata": {},
   "outputs": [],
   "source": [
    "housing = strat_train_set.drop('median_house_value', axis=1)\n",
    "housing_labels = strat_train_set['median_house_value'].copy()"
   ]
  },
  {
   "cell_type": "code",
   "execution_count": 7,
   "metadata": {},
   "outputs": [],
   "source": [
    "housing_num = housing.drop('ocean_proximity', axis=1)\n",
    "housing_cat = housing[['ocean_proximity']]"
   ]
  },
  {
   "cell_type": "code",
   "execution_count": 9,
   "metadata": {},
   "outputs": [],
   "source": [
    "from sklearn.base import BaseEstimator, TransformerMixin\n",
    "\n",
    "# column index\n",
    "rooms_ix, bedrooms_ix, population_ix, households_ix = 3, 4, 5, 6\n",
    "\n",
    "class CombinedAttributesAdder(BaseEstimator, TransformerMixin):\n",
    "    def __init__(self, add_bedrooms_per_room=True): # no *args or **kargs\n",
    "        self.add_bedrooms_per_room = add_bedrooms_per_room\n",
    "    def fit(self, X, y=None):\n",
    "        return self  # nothing else to do\n",
    "    def transform(self, X):\n",
    "        rooms_per_household = X[:, rooms_ix] / X[:, households_ix]\n",
    "        population_per_household = X[:, population_ix] / X[:, households_ix]\n",
    "        if self.add_bedrooms_per_room:\n",
    "            bedrooms_per_room = X[:, bedrooms_ix] / X[:, rooms_ix]\n",
    "            return np.c_[X, rooms_per_household, population_per_household,\n",
    "                         bedrooms_per_room]\n",
    "        else:\n",
    "            return np.c_[X, rooms_per_household, population_per_household]\n",
    "\n",
    "attr_adder = CombinedAttributesAdder(add_bedrooms_per_room=False)\n",
    "housing_extra_attribs = attr_adder.transform(housing.values)"
   ]
  },
  {
   "cell_type": "code",
   "execution_count": 10,
   "metadata": {},
   "outputs": [],
   "source": [
    "from sklearn.pipeline import Pipeline\n",
    "from sklearn.preprocessing import StandardScaler\n",
    "from sklearn.impute import SimpleImputer\n",
    "\n",
    "num_pipeline = Pipeline([\n",
    "    ('imputer', SimpleImputer(strategy='median')),\n",
    "    ('attribs_adder', CombinedAttributesAdder()),\n",
    "    ('std_scaler', StandardScaler()),\n",
    "])"
   ]
  },
  {
   "cell_type": "code",
   "execution_count": 11,
   "metadata": {},
   "outputs": [],
   "source": [
    "from sklearn.compose import ColumnTransformer\n",
    "from sklearn.preprocessing import OneHotEncoder\n",
    "\n",
    "num_attribs = list(housing_num)\n",
    "cat_attribs = ['ocean_proximity']\n",
    "\n",
    "full_pipeline = ColumnTransformer([\n",
    "    ('num', num_pipeline, num_attribs),\n",
    "    ('cat', OneHotEncoder(), cat_attribs),\n",
    "])\n",
    "\n",
    "housing_prepared = full_pipeline.fit_transform(housing)"
   ]
  },
  {
   "cell_type": "markdown",
   "metadata": {},
   "source": [
    "## Select and Train a Model"
   ]
  },
  {
   "cell_type": "code",
   "execution_count": 19,
   "metadata": {},
   "outputs": [],
   "source": [
    "from sklearn.model_selection import cross_val_score\n",
    "from sklearn.linear_model import LinearRegression\n",
    "from sklearn.tree import DecisionTreeRegressor\n",
    "from sklearn.ensemble import RandomForestRegressor\n",
    "from sklearn.svm import SVR\n",
    "\n",
    "lin_reg = LinearRegression()\n",
    "tree_reg = DecisionTreeRegressor(random_state=42)\n",
    "forest_reg = RandomForestRegressor(n_estimators=100, random_state=42)\n",
    "svm_reg = SVR(kernel='linear')"
   ]
  },
  {
   "cell_type": "code",
   "execution_count": 17,
   "metadata": {},
   "outputs": [],
   "source": [
    "def display_scores(scores):\n",
    "    print(\"Scores:\", scores)\n",
    "    print(\"Mean:\", scores.mean())\n",
    "    print(\"Standard deviation:\", scores.std())"
   ]
  },
  {
   "cell_type": "code",
   "execution_count": 20,
   "metadata": {},
   "outputs": [
    {
     "name": "stdout",
     "output_type": "stream",
     "text": [
      "Evaluating model: lin_reg\n",
      "Scores: [71762.76364394 64114.99166359 67771.17124356 68635.19072082\n",
      " 66846.14089488 72528.03725385 73997.08050233 68802.33629334\n",
      " 66443.28836884 70139.79923956]\n",
      "Mean: 69104.07998247063\n",
      "Standard deviation: 2880.3282098180666\n",
      "\n",
      "\n",
      "\n",
      "Evaluating model: tree_reg\n",
      "Scores: [72831.45749112 69973.18438322 69528.56551415 72517.78229792\n",
      " 69145.50006909 79094.74123727 68960.045444   73344.50225684\n",
      " 69826.02473916 71077.09753998]\n",
      "Mean: 71629.89009727491\n",
      "Standard deviation: 2914.035468468928\n",
      "\n",
      "\n",
      "\n",
      "Evaluating model: forest_reg\n",
      "Scores: [51559.63379638 48737.57100062 47210.51269766 51875.21247297\n",
      " 47577.50470123 51863.27467888 52746.34645573 50065.1762751\n",
      " 48664.66818196 54055.90894609]\n",
      "Mean: 50435.58092066179\n",
      "Standard deviation: 2203.3381412764606\n",
      "\n",
      "\n",
      "\n",
      "Evaluating model: svm_reg\n",
      "Scores: [110518.40356474 112956.5486846  106998.56227015 113590.97575445\n",
      " 107782.52294955 116063.7781669  113279.08892636 111836.81295967\n",
      " 113168.96643781 111945.40954593]\n",
      "Mean: 111814.1069260169\n",
      "Standard deviation: 2600.8402690892553\n",
      "\n",
      "\n",
      "\n"
     ]
    }
   ],
   "source": [
    "models = {'lin_reg': lin_reg,\n",
    "          'tree_reg': tree_reg,\n",
    "          'forest_reg': forest_reg,\n",
    "          'svm_reg': svm_reg}\n",
    "\n",
    "for name, model in models.items():\n",
    "    print(\"Evaluating model: {}\".format(name))\n",
    "    scores = cross_val_score(model, housing_prepared, housing_labels,\n",
    "                             scoring='neg_mean_squared_error', cv=10)\n",
    "    rmse_scores = np.sqrt(-scores)\n",
    "    display_scores(rmse_scores)\n",
    "    print(\"\\n\\n\")"
   ]
  },
  {
   "cell_type": "markdown",
   "metadata": {},
   "source": [
    "## Fine-Tune Model"
   ]
  },
  {
   "cell_type": "code",
   "execution_count": 28,
   "metadata": {},
   "outputs": [
    {
     "data": {
      "text/html": [
       "<style>#sk-container-id-3 {color: black;}#sk-container-id-3 pre{padding: 0;}#sk-container-id-3 div.sk-toggleable {background-color: white;}#sk-container-id-3 label.sk-toggleable__label {cursor: pointer;display: block;width: 100%;margin-bottom: 0;padding: 0.3em;box-sizing: border-box;text-align: center;}#sk-container-id-3 label.sk-toggleable__label-arrow:before {content: \"▸\";float: left;margin-right: 0.25em;color: #696969;}#sk-container-id-3 label.sk-toggleable__label-arrow:hover:before {color: black;}#sk-container-id-3 div.sk-estimator:hover label.sk-toggleable__label-arrow:before {color: black;}#sk-container-id-3 div.sk-toggleable__content {max-height: 0;max-width: 0;overflow: hidden;text-align: left;background-color: #f0f8ff;}#sk-container-id-3 div.sk-toggleable__content pre {margin: 0.2em;color: black;border-radius: 0.25em;background-color: #f0f8ff;}#sk-container-id-3 input.sk-toggleable__control:checked~div.sk-toggleable__content {max-height: 200px;max-width: 100%;overflow: auto;}#sk-container-id-3 input.sk-toggleable__control:checked~label.sk-toggleable__label-arrow:before {content: \"▾\";}#sk-container-id-3 div.sk-estimator input.sk-toggleable__control:checked~label.sk-toggleable__label {background-color: #d4ebff;}#sk-container-id-3 div.sk-label input.sk-toggleable__control:checked~label.sk-toggleable__label {background-color: #d4ebff;}#sk-container-id-3 input.sk-hidden--visually {border: 0;clip: rect(1px 1px 1px 1px);clip: rect(1px, 1px, 1px, 1px);height: 1px;margin: -1px;overflow: hidden;padding: 0;position: absolute;width: 1px;}#sk-container-id-3 div.sk-estimator {font-family: monospace;background-color: #f0f8ff;border: 1px dotted black;border-radius: 0.25em;box-sizing: border-box;margin-bottom: 0.5em;}#sk-container-id-3 div.sk-estimator:hover {background-color: #d4ebff;}#sk-container-id-3 div.sk-parallel-item::after {content: \"\";width: 100%;border-bottom: 1px solid gray;flex-grow: 1;}#sk-container-id-3 div.sk-label:hover label.sk-toggleable__label {background-color: #d4ebff;}#sk-container-id-3 div.sk-serial::before {content: \"\";position: absolute;border-left: 1px solid gray;box-sizing: border-box;top: 0;bottom: 0;left: 50%;z-index: 0;}#sk-container-id-3 div.sk-serial {display: flex;flex-direction: column;align-items: center;background-color: white;padding-right: 0.2em;padding-left: 0.2em;position: relative;}#sk-container-id-3 div.sk-item {position: relative;z-index: 1;}#sk-container-id-3 div.sk-parallel {display: flex;align-items: stretch;justify-content: center;background-color: white;position: relative;}#sk-container-id-3 div.sk-item::before, #sk-container-id-3 div.sk-parallel-item::before {content: \"\";position: absolute;border-left: 1px solid gray;box-sizing: border-box;top: 0;bottom: 0;left: 50%;z-index: -1;}#sk-container-id-3 div.sk-parallel-item {display: flex;flex-direction: column;z-index: 1;position: relative;background-color: white;}#sk-container-id-3 div.sk-parallel-item:first-child::after {align-self: flex-end;width: 50%;}#sk-container-id-3 div.sk-parallel-item:last-child::after {align-self: flex-start;width: 50%;}#sk-container-id-3 div.sk-parallel-item:only-child::after {width: 0;}#sk-container-id-3 div.sk-dashed-wrapped {border: 1px dashed gray;margin: 0 0.4em 0.5em 0.4em;box-sizing: border-box;padding-bottom: 0.4em;background-color: white;}#sk-container-id-3 div.sk-label label {font-family: monospace;font-weight: bold;display: inline-block;line-height: 1.2em;}#sk-container-id-3 div.sk-label-container {text-align: center;}#sk-container-id-3 div.sk-container {/* jupyter's `normalize.less` sets `[hidden] { display: none; }` but bootstrap.min.css set `[hidden] { display: none !important; }` so we also need the `!important` here to be able to override the default hidden behavior on the sphinx rendered scikit-learn.org. See: https://github.com/scikit-learn/scikit-learn/issues/21755 */display: inline-block !important;position: relative;}#sk-container-id-3 div.sk-text-repr-fallback {display: none;}</style><div id=\"sk-container-id-3\" class=\"sk-top-container\"><div class=\"sk-text-repr-fallback\"><pre>GridSearchCV(cv=5, estimator=RandomForestRegressor(random_state=42),\n",
       "             param_grid=[{&#x27;max_features&#x27;: [2, 4, 6, 8],\n",
       "                          &#x27;n_estimators&#x27;: [3, 10, 30]},\n",
       "                         {&#x27;bootstrap&#x27;: [False], &#x27;max_features&#x27;: [2, 3, 4],\n",
       "                          &#x27;n_estimators&#x27;: [3, 10]}],\n",
       "             return_train_score=True, scoring=&#x27;neg_mean_squared_error&#x27;)</pre><b>In a Jupyter environment, please rerun this cell to show the HTML representation or trust the notebook. <br />On GitHub, the HTML representation is unable to render, please try loading this page with nbviewer.org.</b></div><div class=\"sk-container\" hidden><div class=\"sk-item sk-dashed-wrapped\"><div class=\"sk-label-container\"><div class=\"sk-label sk-toggleable\"><input class=\"sk-toggleable__control sk-hidden--visually\" id=\"sk-estimator-id-7\" type=\"checkbox\" ><label for=\"sk-estimator-id-7\" class=\"sk-toggleable__label sk-toggleable__label-arrow\">GridSearchCV</label><div class=\"sk-toggleable__content\"><pre>GridSearchCV(cv=5, estimator=RandomForestRegressor(random_state=42),\n",
       "             param_grid=[{&#x27;max_features&#x27;: [2, 4, 6, 8],\n",
       "                          &#x27;n_estimators&#x27;: [3, 10, 30]},\n",
       "                         {&#x27;bootstrap&#x27;: [False], &#x27;max_features&#x27;: [2, 3, 4],\n",
       "                          &#x27;n_estimators&#x27;: [3, 10]}],\n",
       "             return_train_score=True, scoring=&#x27;neg_mean_squared_error&#x27;)</pre></div></div></div><div class=\"sk-parallel\"><div class=\"sk-parallel-item\"><div class=\"sk-item\"><div class=\"sk-label-container\"><div class=\"sk-label sk-toggleable\"><input class=\"sk-toggleable__control sk-hidden--visually\" id=\"sk-estimator-id-8\" type=\"checkbox\" ><label for=\"sk-estimator-id-8\" class=\"sk-toggleable__label sk-toggleable__label-arrow\">estimator: RandomForestRegressor</label><div class=\"sk-toggleable__content\"><pre>RandomForestRegressor(random_state=42)</pre></div></div></div><div class=\"sk-serial\"><div class=\"sk-item\"><div class=\"sk-estimator sk-toggleable\"><input class=\"sk-toggleable__control sk-hidden--visually\" id=\"sk-estimator-id-9\" type=\"checkbox\" ><label for=\"sk-estimator-id-9\" class=\"sk-toggleable__label sk-toggleable__label-arrow\">RandomForestRegressor</label><div class=\"sk-toggleable__content\"><pre>RandomForestRegressor(random_state=42)</pre></div></div></div></div></div></div></div></div></div></div>"
      ],
      "text/plain": [
       "GridSearchCV(cv=5, estimator=RandomForestRegressor(random_state=42),\n",
       "             param_grid=[{'max_features': [2, 4, 6, 8],\n",
       "                          'n_estimators': [3, 10, 30]},\n",
       "                         {'bootstrap': [False], 'max_features': [2, 3, 4],\n",
       "                          'n_estimators': [3, 10]}],\n",
       "             return_train_score=True, scoring='neg_mean_squared_error')"
      ]
     },
     "execution_count": 28,
     "metadata": {},
     "output_type": "execute_result"
    }
   ],
   "source": [
    "from sklearn.model_selection import GridSearchCV\n",
    "\n",
    "param_grid = [\n",
    "    # try 12 (3×4) combinations of hyperparameters\n",
    "    {'n_estimators': [3, 10, 30], 'max_features': [2, 4, 6, 8]},\n",
    "    # then try 6 (2×3) combinations with bootstrap set as False\n",
    "    {'bootstrap': [False], 'n_estimators': [3, 10], 'max_features': [2, 3, 4]},\n",
    "  ]\n",
    "\n",
    "forest_reg = RandomForestRegressor(random_state=42)\n",
    "# train across 5 folds, that's a total of (12+6)*5=90 rounds of training \n",
    "grid_search = GridSearchCV(forest_reg, param_grid, cv=5,\n",
    "                           scoring='neg_mean_squared_error',\n",
    "                           return_train_score=True)\n",
    "grid_search.fit(housing_prepared, housing_labels)"
   ]
  },
  {
   "cell_type": "code",
   "execution_count": 29,
   "metadata": {},
   "outputs": [
    {
     "data": {
      "text/plain": [
       "{'max_features': 8, 'n_estimators': 30}"
      ]
     },
     "execution_count": 29,
     "metadata": {},
     "output_type": "execute_result"
    }
   ],
   "source": [
    "grid_search.best_params_"
   ]
  },
  {
   "cell_type": "code",
   "execution_count": 30,
   "metadata": {},
   "outputs": [
    {
     "data": {
      "text/html": [
       "<style>#sk-container-id-4 {color: black;}#sk-container-id-4 pre{padding: 0;}#sk-container-id-4 div.sk-toggleable {background-color: white;}#sk-container-id-4 label.sk-toggleable__label {cursor: pointer;display: block;width: 100%;margin-bottom: 0;padding: 0.3em;box-sizing: border-box;text-align: center;}#sk-container-id-4 label.sk-toggleable__label-arrow:before {content: \"▸\";float: left;margin-right: 0.25em;color: #696969;}#sk-container-id-4 label.sk-toggleable__label-arrow:hover:before {color: black;}#sk-container-id-4 div.sk-estimator:hover label.sk-toggleable__label-arrow:before {color: black;}#sk-container-id-4 div.sk-toggleable__content {max-height: 0;max-width: 0;overflow: hidden;text-align: left;background-color: #f0f8ff;}#sk-container-id-4 div.sk-toggleable__content pre {margin: 0.2em;color: black;border-radius: 0.25em;background-color: #f0f8ff;}#sk-container-id-4 input.sk-toggleable__control:checked~div.sk-toggleable__content {max-height: 200px;max-width: 100%;overflow: auto;}#sk-container-id-4 input.sk-toggleable__control:checked~label.sk-toggleable__label-arrow:before {content: \"▾\";}#sk-container-id-4 div.sk-estimator input.sk-toggleable__control:checked~label.sk-toggleable__label {background-color: #d4ebff;}#sk-container-id-4 div.sk-label input.sk-toggleable__control:checked~label.sk-toggleable__label {background-color: #d4ebff;}#sk-container-id-4 input.sk-hidden--visually {border: 0;clip: rect(1px 1px 1px 1px);clip: rect(1px, 1px, 1px, 1px);height: 1px;margin: -1px;overflow: hidden;padding: 0;position: absolute;width: 1px;}#sk-container-id-4 div.sk-estimator {font-family: monospace;background-color: #f0f8ff;border: 1px dotted black;border-radius: 0.25em;box-sizing: border-box;margin-bottom: 0.5em;}#sk-container-id-4 div.sk-estimator:hover {background-color: #d4ebff;}#sk-container-id-4 div.sk-parallel-item::after {content: \"\";width: 100%;border-bottom: 1px solid gray;flex-grow: 1;}#sk-container-id-4 div.sk-label:hover label.sk-toggleable__label {background-color: #d4ebff;}#sk-container-id-4 div.sk-serial::before {content: \"\";position: absolute;border-left: 1px solid gray;box-sizing: border-box;top: 0;bottom: 0;left: 50%;z-index: 0;}#sk-container-id-4 div.sk-serial {display: flex;flex-direction: column;align-items: center;background-color: white;padding-right: 0.2em;padding-left: 0.2em;position: relative;}#sk-container-id-4 div.sk-item {position: relative;z-index: 1;}#sk-container-id-4 div.sk-parallel {display: flex;align-items: stretch;justify-content: center;background-color: white;position: relative;}#sk-container-id-4 div.sk-item::before, #sk-container-id-4 div.sk-parallel-item::before {content: \"\";position: absolute;border-left: 1px solid gray;box-sizing: border-box;top: 0;bottom: 0;left: 50%;z-index: -1;}#sk-container-id-4 div.sk-parallel-item {display: flex;flex-direction: column;z-index: 1;position: relative;background-color: white;}#sk-container-id-4 div.sk-parallel-item:first-child::after {align-self: flex-end;width: 50%;}#sk-container-id-4 div.sk-parallel-item:last-child::after {align-self: flex-start;width: 50%;}#sk-container-id-4 div.sk-parallel-item:only-child::after {width: 0;}#sk-container-id-4 div.sk-dashed-wrapped {border: 1px dashed gray;margin: 0 0.4em 0.5em 0.4em;box-sizing: border-box;padding-bottom: 0.4em;background-color: white;}#sk-container-id-4 div.sk-label label {font-family: monospace;font-weight: bold;display: inline-block;line-height: 1.2em;}#sk-container-id-4 div.sk-label-container {text-align: center;}#sk-container-id-4 div.sk-container {/* jupyter's `normalize.less` sets `[hidden] { display: none; }` but bootstrap.min.css set `[hidden] { display: none !important; }` so we also need the `!important` here to be able to override the default hidden behavior on the sphinx rendered scikit-learn.org. See: https://github.com/scikit-learn/scikit-learn/issues/21755 */display: inline-block !important;position: relative;}#sk-container-id-4 div.sk-text-repr-fallback {display: none;}</style><div id=\"sk-container-id-4\" class=\"sk-top-container\"><div class=\"sk-text-repr-fallback\"><pre>RandomForestRegressor(max_features=8, n_estimators=30, random_state=42)</pre><b>In a Jupyter environment, please rerun this cell to show the HTML representation or trust the notebook. <br />On GitHub, the HTML representation is unable to render, please try loading this page with nbviewer.org.</b></div><div class=\"sk-container\" hidden><div class=\"sk-item\"><div class=\"sk-estimator sk-toggleable\"><input class=\"sk-toggleable__control sk-hidden--visually\" id=\"sk-estimator-id-10\" type=\"checkbox\" checked><label for=\"sk-estimator-id-10\" class=\"sk-toggleable__label sk-toggleable__label-arrow\">RandomForestRegressor</label><div class=\"sk-toggleable__content\"><pre>RandomForestRegressor(max_features=8, n_estimators=30, random_state=42)</pre></div></div></div></div></div>"
      ],
      "text/plain": [
       "RandomForestRegressor(max_features=8, n_estimators=30, random_state=42)"
      ]
     },
     "execution_count": 30,
     "metadata": {},
     "output_type": "execute_result"
    }
   ],
   "source": [
    "grid_search.best_estimator_"
   ]
  },
  {
   "cell_type": "code",
   "execution_count": 31,
   "metadata": {},
   "outputs": [
    {
     "data": {
      "text/plain": [
       "array([6.96542523e-02, 6.04213840e-02, 4.21882202e-02, 1.52450557e-02,\n",
       "       1.55545295e-02, 1.58491147e-02, 1.49346552e-02, 3.79009225e-01,\n",
       "       5.47789150e-02, 1.07031322e-01, 4.82031213e-02, 6.79266007e-03,\n",
       "       1.65706303e-01, 7.83480660e-05, 1.52473276e-03, 3.02816106e-03])"
      ]
     },
     "execution_count": 31,
     "metadata": {},
     "output_type": "execute_result"
    }
   ],
   "source": [
    "feature_importances = grid_search.best_estimator_.feature_importances_\n",
    "feature_importances"
   ]
  },
  {
   "cell_type": "code",
   "execution_count": 32,
   "metadata": {},
   "outputs": [
    {
     "data": {
      "text/plain": [
       "[(0.3790092248170967, 'median_income'),\n",
       " (0.16570630316895876, 'INLAND'),\n",
       " (0.10703132208204355, 'pop_per_hhold'),\n",
       " (0.06965425227942929, 'longitude'),\n",
       " (0.0604213840080722, 'latitude'),\n",
       " (0.054778915018283726, 'rooms_per_hhold'),\n",
       " (0.048203121338269206, 'bedrooms_per_room'),\n",
       " (0.04218822024391753, 'housing_median_age'),\n",
       " (0.015849114744428634, 'population'),\n",
       " (0.015554529490469328, 'total_bedrooms'),\n",
       " (0.01524505568840977, 'total_rooms'),\n",
       " (0.014934655161887772, 'households'),\n",
       " (0.006792660074259966, '<1H OCEAN'),\n",
       " (0.0030281610628962747, 'NEAR OCEAN'),\n",
       " (0.0015247327555504937, 'NEAR BAY'),\n",
       " (7.834806602687504e-05, 'ISLAND')]"
      ]
     },
     "execution_count": 32,
     "metadata": {},
     "output_type": "execute_result"
    }
   ],
   "source": [
    "extra_attribs = [\"rooms_per_hhold\", \"pop_per_hhold\", \"bedrooms_per_room\"]\n",
    "#cat_encoder = cat_pipeline.named_steps[\"cat_encoder\"] # old solution\n",
    "cat_encoder = full_pipeline.named_transformers_[\"cat\"]\n",
    "cat_one_hot_attribs = list(cat_encoder.categories_[0])\n",
    "attributes = num_attribs + extra_attribs + cat_one_hot_attribs\n",
    "sorted(zip(feature_importances, attributes), reverse=True)"
   ]
  },
  {
   "cell_type": "markdown",
   "metadata": {},
   "source": [
    "# Exercises"
   ]
  },
  {
   "cell_type": "markdown",
   "metadata": {},
   "source": [
    "## 1.\n",
    "\n",
    "Question: Try a Support Vector Machine regressor (`sklearn.svm.SVR`), with various hyperparameters such as `kernel=\"linear\"` (with various values for the `C` hyperparameter) or `kernel=\"rbf\"` (with various values for the `C` and `gamma` hyperparameters). Don't worry about what these hyperparameters mean for now. How does the best `SVR` predictor perform?"
   ]
  },
  {
   "cell_type": "markdown",
   "metadata": {},
   "source": [
    "**Warning**: the following cell may take close to 30 minutes to run, or more depending on your hardware."
   ]
  },
  {
   "cell_type": "code",
   "execution_count": 13,
   "metadata": {},
   "outputs": [
    {
     "name": "stdout",
     "output_type": "stream",
     "text": [
      "Fitting 5 folds for each of 50 candidates, totalling 250 fits\n",
      "[CV] END ..............................C=10.0, kernel=linear; total time=   4.2s\n",
      "[CV] END ..............................C=10.0, kernel=linear; total time=   4.0s\n",
      "[CV] END ..............................C=10.0, kernel=linear; total time=   4.1s\n",
      "[CV] END ..............................C=10.0, kernel=linear; total time=   4.3s\n",
      "[CV] END ..............................C=10.0, kernel=linear; total time=   4.1s\n",
      "[CV] END ..............................C=30.0, kernel=linear; total time=   4.1s\n",
      "[CV] END ..............................C=30.0, kernel=linear; total time=   4.2s\n",
      "[CV] END ..............................C=30.0, kernel=linear; total time=   4.1s\n",
      "[CV] END ..............................C=30.0, kernel=linear; total time=   4.1s\n",
      "[CV] END ..............................C=30.0, kernel=linear; total time=   4.1s\n",
      "[CV] END .............................C=100.0, kernel=linear; total time=   4.3s\n",
      "[CV] END .............................C=100.0, kernel=linear; total time=   4.1s\n",
      "[CV] END .............................C=100.0, kernel=linear; total time=   4.1s\n",
      "[CV] END .............................C=100.0, kernel=linear; total time=   4.1s\n",
      "[CV] END .............................C=100.0, kernel=linear; total time=   4.1s\n",
      "[CV] END .............................C=300.0, kernel=linear; total time=   4.1s\n",
      "[CV] END .............................C=300.0, kernel=linear; total time=   4.2s\n",
      "[CV] END .............................C=300.0, kernel=linear; total time=   4.2s\n",
      "[CV] END .............................C=300.0, kernel=linear; total time=   4.1s\n",
      "[CV] END .............................C=300.0, kernel=linear; total time=   4.1s\n",
      "[CV] END ............................C=1000.0, kernel=linear; total time=   4.2s\n",
      "[CV] END ............................C=1000.0, kernel=linear; total time=   4.3s\n",
      "[CV] END ............................C=1000.0, kernel=linear; total time=   4.3s\n",
      "[CV] END ............................C=1000.0, kernel=linear; total time=   4.6s\n",
      "[CV] END ............................C=1000.0, kernel=linear; total time=   5.0s\n",
      "[CV] END ............................C=3000.0, kernel=linear; total time=   5.2s\n",
      "[CV] END ............................C=3000.0, kernel=linear; total time=   4.8s\n",
      "[CV] END ............................C=3000.0, kernel=linear; total time=   4.7s\n",
      "[CV] END ............................C=3000.0, kernel=linear; total time=   5.0s\n",
      "[CV] END ............................C=3000.0, kernel=linear; total time=   5.2s\n",
      "[CV] END ...........................C=10000.0, kernel=linear; total time=   5.9s\n",
      "[CV] END ...........................C=10000.0, kernel=linear; total time=   6.0s\n",
      "[CV] END ...........................C=10000.0, kernel=linear; total time=   5.8s\n",
      "[CV] END ...........................C=10000.0, kernel=linear; total time=   5.8s\n",
      "[CV] END ...........................C=10000.0, kernel=linear; total time=   6.0s\n",
      "[CV] END ...........................C=30000.0, kernel=linear; total time=   8.9s\n",
      "[CV] END ...........................C=30000.0, kernel=linear; total time=   8.8s\n",
      "[CV] END ...........................C=30000.0, kernel=linear; total time=   7.7s\n",
      "[CV] END ...........................C=30000.0, kernel=linear; total time=   8.6s\n",
      "[CV] END ...........................C=30000.0, kernel=linear; total time=  10.4s\n",
      "[CV] END ......................C=1.0, gamma=0.01, kernel=rbf; total time=   8.6s\n",
      "[CV] END ......................C=1.0, gamma=0.01, kernel=rbf; total time=   8.7s\n",
      "[CV] END ......................C=1.0, gamma=0.01, kernel=rbf; total time=   8.6s\n",
      "[CV] END ......................C=1.0, gamma=0.01, kernel=rbf; total time=   8.8s\n",
      "[CV] END ......................C=1.0, gamma=0.01, kernel=rbf; total time=   8.4s\n",
      "[CV] END ......................C=1.0, gamma=0.03, kernel=rbf; total time=   8.1s\n",
      "[CV] END ......................C=1.0, gamma=0.03, kernel=rbf; total time=  13.7s\n",
      "[CV] END ......................C=1.0, gamma=0.03, kernel=rbf; total time=  18.5s\n",
      "[CV] END ......................C=1.0, gamma=0.03, kernel=rbf; total time=  18.2s\n",
      "[CV] END ......................C=1.0, gamma=0.03, kernel=rbf; total time=  18.0s\n",
      "[CV] END .......................C=1.0, gamma=0.1, kernel=rbf; total time=  18.6s\n",
      "[CV] END .......................C=1.0, gamma=0.1, kernel=rbf; total time=  17.7s\n",
      "[CV] END .......................C=1.0, gamma=0.1, kernel=rbf; total time=  17.9s\n",
      "[CV] END .......................C=1.0, gamma=0.1, kernel=rbf; total time=  17.4s\n",
      "[CV] END .......................C=1.0, gamma=0.1, kernel=rbf; total time=  18.0s\n",
      "[CV] END .......................C=1.0, gamma=0.3, kernel=rbf; total time=  17.3s\n",
      "[CV] END .......................C=1.0, gamma=0.3, kernel=rbf; total time=  18.7s\n",
      "[CV] END .......................C=1.0, gamma=0.3, kernel=rbf; total time=  17.8s\n",
      "[CV] END .......................C=1.0, gamma=0.3, kernel=rbf; total time=  17.3s\n",
      "[CV] END .......................C=1.0, gamma=0.3, kernel=rbf; total time=  18.7s\n",
      "[CV] END .......................C=1.0, gamma=1.0, kernel=rbf; total time=   8.1s\n",
      "[CV] END .......................C=1.0, gamma=1.0, kernel=rbf; total time=   9.7s\n",
      "[CV] END .......................C=1.0, gamma=1.0, kernel=rbf; total time=  16.6s\n",
      "[CV] END .......................C=1.0, gamma=1.0, kernel=rbf; total time=  16.8s\n",
      "[CV] END .......................C=1.0, gamma=1.0, kernel=rbf; total time=  16.8s\n",
      "[CV] END .......................C=1.0, gamma=3.0, kernel=rbf; total time=  16.6s\n",
      "[CV] END .......................C=1.0, gamma=3.0, kernel=rbf; total time=  16.8s\n",
      "[CV] END .......................C=1.0, gamma=3.0, kernel=rbf; total time=  16.5s\n",
      "[CV] END .......................C=1.0, gamma=3.0, kernel=rbf; total time=  17.1s\n",
      "[CV] END .......................C=1.0, gamma=3.0, kernel=rbf; total time=  16.6s\n",
      "[CV] END ......................C=3.0, gamma=0.01, kernel=rbf; total time=  17.9s\n",
      "[CV] END ......................C=3.0, gamma=0.01, kernel=rbf; total time=  18.9s\n",
      "[CV] END ......................C=3.0, gamma=0.01, kernel=rbf; total time=  17.8s\n",
      "[CV] END ......................C=3.0, gamma=0.01, kernel=rbf; total time=  17.7s\n",
      "[CV] END ......................C=3.0, gamma=0.01, kernel=rbf; total time=  17.9s\n",
      "[CV] END ......................C=3.0, gamma=0.03, kernel=rbf; total time=  19.1s\n",
      "[CV] END ......................C=3.0, gamma=0.03, kernel=rbf; total time=  17.7s\n",
      "[CV] END ......................C=3.0, gamma=0.03, kernel=rbf; total time=  17.8s\n",
      "[CV] END ......................C=3.0, gamma=0.03, kernel=rbf; total time=  18.8s\n",
      "[CV] END ......................C=3.0, gamma=0.03, kernel=rbf; total time=  17.9s\n",
      "[CV] END .......................C=3.0, gamma=0.1, kernel=rbf; total time=  17.4s\n",
      "[CV] END .......................C=3.0, gamma=0.1, kernel=rbf; total time=  17.6s\n",
      "[CV] END .......................C=3.0, gamma=0.1, kernel=rbf; total time=  17.9s\n",
      "[CV] END .......................C=3.0, gamma=0.1, kernel=rbf; total time=  17.7s\n",
      "[CV] END .......................C=3.0, gamma=0.1, kernel=rbf; total time=  17.4s\n",
      "[CV] END .......................C=3.0, gamma=0.3, kernel=rbf; total time=  17.5s\n",
      "[CV] END .......................C=3.0, gamma=0.3, kernel=rbf; total time=  17.4s\n",
      "[CV] END .......................C=3.0, gamma=0.3, kernel=rbf; total time=  16.9s\n",
      "[CV] END .......................C=3.0, gamma=0.3, kernel=rbf; total time=  18.5s\n",
      "[CV] END .......................C=3.0, gamma=0.3, kernel=rbf; total time=  19.7s\n",
      "[CV] END .......................C=3.0, gamma=1.0, kernel=rbf; total time=  22.5s\n",
      "[CV] END .......................C=3.0, gamma=1.0, kernel=rbf; total time=  20.9s\n",
      "[CV] END .......................C=3.0, gamma=1.0, kernel=rbf; total time=  17.6s\n",
      "[CV] END .......................C=3.0, gamma=1.0, kernel=rbf; total time=  17.1s\n",
      "[CV] END .......................C=3.0, gamma=1.0, kernel=rbf; total time=  16.7s\n",
      "[CV] END .......................C=3.0, gamma=3.0, kernel=rbf; total time=  17.4s\n",
      "[CV] END .......................C=3.0, gamma=3.0, kernel=rbf; total time=  16.4s\n",
      "[CV] END .......................C=3.0, gamma=3.0, kernel=rbf; total time=  16.6s\n",
      "[CV] END .......................C=3.0, gamma=3.0, kernel=rbf; total time=  16.3s\n",
      "[CV] END .......................C=3.0, gamma=3.0, kernel=rbf; total time=  17.0s\n",
      "[CV] END .....................C=10.0, gamma=0.01, kernel=rbf; total time=  17.4s\n",
      "[CV] END .....................C=10.0, gamma=0.01, kernel=rbf; total time=  18.2s\n",
      "[CV] END .....................C=10.0, gamma=0.01, kernel=rbf; total time=  18.0s\n",
      "[CV] END .....................C=10.0, gamma=0.01, kernel=rbf; total time=  17.6s\n",
      "[CV] END .....................C=10.0, gamma=0.01, kernel=rbf; total time=  17.4s\n",
      "[CV] END .....................C=10.0, gamma=0.03, kernel=rbf; total time=  17.5s\n",
      "[CV] END .....................C=10.0, gamma=0.03, kernel=rbf; total time=  18.0s\n",
      "[CV] END .....................C=10.0, gamma=0.03, kernel=rbf; total time=  17.4s\n",
      "[CV] END .....................C=10.0, gamma=0.03, kernel=rbf; total time=  17.6s\n",
      "[CV] END .....................C=10.0, gamma=0.03, kernel=rbf; total time=  17.9s\n",
      "[CV] END ......................C=10.0, gamma=0.1, kernel=rbf; total time=  17.4s\n",
      "[CV] END ......................C=10.0, gamma=0.1, kernel=rbf; total time=  17.3s\n",
      "[CV] END ......................C=10.0, gamma=0.1, kernel=rbf; total time=  17.7s\n",
      "[CV] END ......................C=10.0, gamma=0.1, kernel=rbf; total time=  15.4s\n",
      "[CV] END ......................C=10.0, gamma=0.1, kernel=rbf; total time=   7.8s\n",
      "[CV] END ......................C=10.0, gamma=0.3, kernel=rbf; total time=   7.8s\n",
      "[CV] END ......................C=10.0, gamma=0.3, kernel=rbf; total time=   7.7s\n",
      "[CV] END ......................C=10.0, gamma=0.3, kernel=rbf; total time=   7.8s\n",
      "[CV] END ......................C=10.0, gamma=0.3, kernel=rbf; total time=   7.7s\n",
      "[CV] END ......................C=10.0, gamma=0.3, kernel=rbf; total time=   7.8s\n",
      "[CV] END ......................C=10.0, gamma=1.0, kernel=rbf; total time=   7.5s\n",
      "[CV] END ......................C=10.0, gamma=1.0, kernel=rbf; total time=   7.5s\n",
      "[CV] END ......................C=10.0, gamma=1.0, kernel=rbf; total time=  13.8s\n",
      "[CV] END ......................C=10.0, gamma=1.0, kernel=rbf; total time=  17.4s\n",
      "[CV] END ......................C=10.0, gamma=1.0, kernel=rbf; total time=  17.1s\n",
      "[CV] END ......................C=10.0, gamma=3.0, kernel=rbf; total time=  17.6s\n",
      "[CV] END ......................C=10.0, gamma=3.0, kernel=rbf; total time=  15.2s\n",
      "[CV] END ......................C=10.0, gamma=3.0, kernel=rbf; total time=  14.7s\n",
      "[CV] END ......................C=10.0, gamma=3.0, kernel=rbf; total time=  15.3s\n",
      "[CV] END ......................C=10.0, gamma=3.0, kernel=rbf; total time=  14.7s\n",
      "[CV] END .....................C=30.0, gamma=0.01, kernel=rbf; total time=  15.9s\n",
      "[CV] END .....................C=30.0, gamma=0.01, kernel=rbf; total time=  16.0s\n",
      "[CV] END .....................C=30.0, gamma=0.01, kernel=rbf; total time=  15.8s\n",
      "[CV] END .....................C=30.0, gamma=0.01, kernel=rbf; total time=  15.8s\n",
      "[CV] END .....................C=30.0, gamma=0.01, kernel=rbf; total time=  17.3s\n",
      "[CV] END .....................C=30.0, gamma=0.03, kernel=rbf; total time=  16.3s\n",
      "[CV] END .....................C=30.0, gamma=0.03, kernel=rbf; total time=  15.9s\n",
      "[CV] END .....................C=30.0, gamma=0.03, kernel=rbf; total time=  15.9s\n",
      "[CV] END .....................C=30.0, gamma=0.03, kernel=rbf; total time=  15.9s\n",
      "[CV] END .....................C=30.0, gamma=0.03, kernel=rbf; total time=  17.4s\n",
      "[CV] END ......................C=30.0, gamma=0.1, kernel=rbf; total time=  17.3s\n",
      "[CV] END ......................C=30.0, gamma=0.1, kernel=rbf; total time=  17.3s\n",
      "[CV] END ......................C=30.0, gamma=0.1, kernel=rbf; total time=  18.1s\n",
      "[CV] END ......................C=30.0, gamma=0.1, kernel=rbf; total time=  17.9s\n",
      "[CV] END ......................C=30.0, gamma=0.1, kernel=rbf; total time=  17.5s\n",
      "[CV] END ......................C=30.0, gamma=0.3, kernel=rbf; total time=  17.4s\n",
      "[CV] END ......................C=30.0, gamma=0.3, kernel=rbf; total time=  17.0s\n",
      "[CV] END ......................C=30.0, gamma=0.3, kernel=rbf; total time=  18.1s\n",
      "[CV] END ......................C=30.0, gamma=0.3, kernel=rbf; total time=  17.8s\n",
      "[CV] END ......................C=30.0, gamma=0.3, kernel=rbf; total time=  10.0s\n",
      "[CV] END ......................C=30.0, gamma=1.0, kernel=rbf; total time=   7.5s\n",
      "[CV] END ......................C=30.0, gamma=1.0, kernel=rbf; total time=   7.5s\n",
      "[CV] END ......................C=30.0, gamma=1.0, kernel=rbf; total time=   7.8s\n",
      "[CV] END ......................C=30.0, gamma=1.0, kernel=rbf; total time=   7.6s\n",
      "[CV] END ......................C=30.0, gamma=1.0, kernel=rbf; total time=   8.3s\n",
      "[CV] END ......................C=30.0, gamma=3.0, kernel=rbf; total time=   8.0s\n",
      "[CV] END ......................C=30.0, gamma=3.0, kernel=rbf; total time=   8.7s\n",
      "[CV] END ......................C=30.0, gamma=3.0, kernel=rbf; total time=   8.2s\n",
      "[CV] END ......................C=30.0, gamma=3.0, kernel=rbf; total time=   8.2s\n",
      "[CV] END ......................C=30.0, gamma=3.0, kernel=rbf; total time=   8.2s\n",
      "[CV] END ....................C=100.0, gamma=0.01, kernel=rbf; total time=   8.6s\n",
      "[CV] END ....................C=100.0, gamma=0.01, kernel=rbf; total time=   8.8s\n",
      "[CV] END ....................C=100.0, gamma=0.01, kernel=rbf; total time=   8.5s\n",
      "[CV] END ....................C=100.0, gamma=0.01, kernel=rbf; total time=   8.1s\n",
      "[CV] END ....................C=100.0, gamma=0.01, kernel=rbf; total time=   8.6s\n",
      "[CV] END ....................C=100.0, gamma=0.03, kernel=rbf; total time=   8.0s\n",
      "[CV] END ....................C=100.0, gamma=0.03, kernel=rbf; total time=   7.9s\n",
      "[CV] END ....................C=100.0, gamma=0.03, kernel=rbf; total time=   7.8s\n",
      "[CV] END ....................C=100.0, gamma=0.03, kernel=rbf; total time=   7.8s\n",
      "[CV] END ....................C=100.0, gamma=0.03, kernel=rbf; total time=   7.8s\n",
      "[CV] END .....................C=100.0, gamma=0.1, kernel=rbf; total time=   7.7s\n",
      "[CV] END .....................C=100.0, gamma=0.1, kernel=rbf; total time=   7.9s\n",
      "[CV] END .....................C=100.0, gamma=0.1, kernel=rbf; total time=   7.7s\n",
      "[CV] END .....................C=100.0, gamma=0.1, kernel=rbf; total time=   7.7s\n",
      "[CV] END .....................C=100.0, gamma=0.1, kernel=rbf; total time=   7.7s\n",
      "[CV] END .....................C=100.0, gamma=0.3, kernel=rbf; total time=   7.5s\n",
      "[CV] END .....................C=100.0, gamma=0.3, kernel=rbf; total time=   7.7s\n",
      "[CV] END .....................C=100.0, gamma=0.3, kernel=rbf; total time=   7.6s\n",
      "[CV] END .....................C=100.0, gamma=0.3, kernel=rbf; total time=   7.6s\n",
      "[CV] END .....................C=100.0, gamma=0.3, kernel=rbf; total time=   7.6s\n",
      "[CV] END .....................C=100.0, gamma=1.0, kernel=rbf; total time=   7.4s\n",
      "[CV] END .....................C=100.0, gamma=1.0, kernel=rbf; total time=   7.3s\n",
      "[CV] END .....................C=100.0, gamma=1.0, kernel=rbf; total time=   7.4s\n",
      "[CV] END .....................C=100.0, gamma=1.0, kernel=rbf; total time=   7.4s\n",
      "[CV] END .....................C=100.0, gamma=1.0, kernel=rbf; total time=   7.3s\n",
      "[CV] END .....................C=100.0, gamma=3.0, kernel=rbf; total time=   7.4s\n",
      "[CV] END .....................C=100.0, gamma=3.0, kernel=rbf; total time=   7.3s\n",
      "[CV] END .....................C=100.0, gamma=3.0, kernel=rbf; total time=   7.4s\n",
      "[CV] END .....................C=100.0, gamma=3.0, kernel=rbf; total time=   7.4s\n",
      "[CV] END .....................C=100.0, gamma=3.0, kernel=rbf; total time=   7.4s\n",
      "[CV] END ....................C=300.0, gamma=0.01, kernel=rbf; total time=   7.8s\n",
      "[CV] END ....................C=300.0, gamma=0.01, kernel=rbf; total time=   7.8s\n",
      "[CV] END ....................C=300.0, gamma=0.01, kernel=rbf; total time=   7.8s\n",
      "[CV] END ....................C=300.0, gamma=0.01, kernel=rbf; total time=   7.7s\n",
      "[CV] END ....................C=300.0, gamma=0.01, kernel=rbf; total time=   7.7s\n",
      "[CV] END ....................C=300.0, gamma=0.03, kernel=rbf; total time=   7.7s\n",
      "[CV] END ....................C=300.0, gamma=0.03, kernel=rbf; total time=   7.6s\n",
      "[CV] END ....................C=300.0, gamma=0.03, kernel=rbf; total time=   7.8s\n",
      "[CV] END ....................C=300.0, gamma=0.03, kernel=rbf; total time=   7.6s\n",
      "[CV] END ....................C=300.0, gamma=0.03, kernel=rbf; total time=   7.7s\n",
      "[CV] END .....................C=300.0, gamma=0.1, kernel=rbf; total time=   8.1s\n",
      "[CV] END .....................C=300.0, gamma=0.1, kernel=rbf; total time=   7.6s\n",
      "[CV] END .....................C=300.0, gamma=0.1, kernel=rbf; total time=   7.6s\n",
      "[CV] END .....................C=300.0, gamma=0.1, kernel=rbf; total time=   7.6s\n",
      "[CV] END .....................C=300.0, gamma=0.1, kernel=rbf; total time=   7.6s\n",
      "[CV] END .....................C=300.0, gamma=0.3, kernel=rbf; total time=   7.5s\n",
      "[CV] END .....................C=300.0, gamma=0.3, kernel=rbf; total time=   7.5s\n",
      "[CV] END .....................C=300.0, gamma=0.3, kernel=rbf; total time=   7.5s\n",
      "[CV] END .....................C=300.0, gamma=0.3, kernel=rbf; total time=   7.5s\n",
      "[CV] END .....................C=300.0, gamma=0.3, kernel=rbf; total time=   7.5s\n",
      "[CV] END .....................C=300.0, gamma=1.0, kernel=rbf; total time=   7.5s\n",
      "[CV] END .....................C=300.0, gamma=1.0, kernel=rbf; total time=   7.4s\n",
      "[CV] END .....................C=300.0, gamma=1.0, kernel=rbf; total time=   7.3s\n",
      "[CV] END .....................C=300.0, gamma=1.0, kernel=rbf; total time=   7.4s\n",
      "[CV] END .....................C=300.0, gamma=1.0, kernel=rbf; total time=   7.4s\n",
      "[CV] END .....................C=300.0, gamma=3.0, kernel=rbf; total time=   7.4s\n",
      "[CV] END .....................C=300.0, gamma=3.0, kernel=rbf; total time=   7.4s\n",
      "[CV] END .....................C=300.0, gamma=3.0, kernel=rbf; total time=   7.4s\n",
      "[CV] END .....................C=300.0, gamma=3.0, kernel=rbf; total time=   8.2s\n",
      "[CV] END .....................C=300.0, gamma=3.0, kernel=rbf; total time=   7.4s\n",
      "[CV] END ...................C=1000.0, gamma=0.01, kernel=rbf; total time=   7.7s\n",
      "[CV] END ...................C=1000.0, gamma=0.01, kernel=rbf; total time=   7.7s\n",
      "[CV] END ...................C=1000.0, gamma=0.01, kernel=rbf; total time=   7.6s\n",
      "[CV] END ...................C=1000.0, gamma=0.01, kernel=rbf; total time=   7.7s\n",
      "[CV] END ...................C=1000.0, gamma=0.01, kernel=rbf; total time=   7.5s\n",
      "[CV] END ...................C=1000.0, gamma=0.03, kernel=rbf; total time=   7.6s\n",
      "[CV] END ...................C=1000.0, gamma=0.03, kernel=rbf; total time=   7.9s\n",
      "[CV] END ...................C=1000.0, gamma=0.03, kernel=rbf; total time=   7.7s\n",
      "[CV] END ...................C=1000.0, gamma=0.03, kernel=rbf; total time=   7.8s\n",
      "[CV] END ...................C=1000.0, gamma=0.03, kernel=rbf; total time=   7.6s\n",
      "[CV] END ....................C=1000.0, gamma=0.1, kernel=rbf; total time=   7.6s\n",
      "[CV] END ....................C=1000.0, gamma=0.1, kernel=rbf; total time=   7.5s\n",
      "[CV] END ....................C=1000.0, gamma=0.1, kernel=rbf; total time=   7.4s\n",
      "[CV] END ....................C=1000.0, gamma=0.1, kernel=rbf; total time=   7.5s\n",
      "[CV] END ....................C=1000.0, gamma=0.1, kernel=rbf; total time=   7.4s\n",
      "[CV] END ....................C=1000.0, gamma=0.3, kernel=rbf; total time=   7.5s\n",
      "[CV] END ....................C=1000.0, gamma=0.3, kernel=rbf; total time=   7.5s\n",
      "[CV] END ....................C=1000.0, gamma=0.3, kernel=rbf; total time=   7.5s\n",
      "[CV] END ....................C=1000.0, gamma=0.3, kernel=rbf; total time=   7.5s\n",
      "[CV] END ....................C=1000.0, gamma=0.3, kernel=rbf; total time=   7.4s\n",
      "[CV] END ....................C=1000.0, gamma=1.0, kernel=rbf; total time=   7.5s\n",
      "[CV] END ....................C=1000.0, gamma=1.0, kernel=rbf; total time=   7.9s\n",
      "[CV] END ....................C=1000.0, gamma=1.0, kernel=rbf; total time=   8.5s\n",
      "[CV] END ....................C=1000.0, gamma=1.0, kernel=rbf; total time=   8.8s\n",
      "[CV] END ....................C=1000.0, gamma=1.0, kernel=rbf; total time=   8.6s\n",
      "[CV] END ....................C=1000.0, gamma=3.0, kernel=rbf; total time=   7.9s\n",
      "[CV] END ....................C=1000.0, gamma=3.0, kernel=rbf; total time=   7.7s\n",
      "[CV] END ....................C=1000.0, gamma=3.0, kernel=rbf; total time=   8.5s\n",
      "[CV] END ....................C=1000.0, gamma=3.0, kernel=rbf; total time=   7.7s\n",
      "[CV] END ....................C=1000.0, gamma=3.0, kernel=rbf; total time=   7.6s\n"
     ]
    },
    {
     "data": {
      "text/html": [
       "<style>#sk-container-id-1 {color: black;}#sk-container-id-1 pre{padding: 0;}#sk-container-id-1 div.sk-toggleable {background-color: white;}#sk-container-id-1 label.sk-toggleable__label {cursor: pointer;display: block;width: 100%;margin-bottom: 0;padding: 0.3em;box-sizing: border-box;text-align: center;}#sk-container-id-1 label.sk-toggleable__label-arrow:before {content: \"▸\";float: left;margin-right: 0.25em;color: #696969;}#sk-container-id-1 label.sk-toggleable__label-arrow:hover:before {color: black;}#sk-container-id-1 div.sk-estimator:hover label.sk-toggleable__label-arrow:before {color: black;}#sk-container-id-1 div.sk-toggleable__content {max-height: 0;max-width: 0;overflow: hidden;text-align: left;background-color: #f0f8ff;}#sk-container-id-1 div.sk-toggleable__content pre {margin: 0.2em;color: black;border-radius: 0.25em;background-color: #f0f8ff;}#sk-container-id-1 input.sk-toggleable__control:checked~div.sk-toggleable__content {max-height: 200px;max-width: 100%;overflow: auto;}#sk-container-id-1 input.sk-toggleable__control:checked~label.sk-toggleable__label-arrow:before {content: \"▾\";}#sk-container-id-1 div.sk-estimator input.sk-toggleable__control:checked~label.sk-toggleable__label {background-color: #d4ebff;}#sk-container-id-1 div.sk-label input.sk-toggleable__control:checked~label.sk-toggleable__label {background-color: #d4ebff;}#sk-container-id-1 input.sk-hidden--visually {border: 0;clip: rect(1px 1px 1px 1px);clip: rect(1px, 1px, 1px, 1px);height: 1px;margin: -1px;overflow: hidden;padding: 0;position: absolute;width: 1px;}#sk-container-id-1 div.sk-estimator {font-family: monospace;background-color: #f0f8ff;border: 1px dotted black;border-radius: 0.25em;box-sizing: border-box;margin-bottom: 0.5em;}#sk-container-id-1 div.sk-estimator:hover {background-color: #d4ebff;}#sk-container-id-1 div.sk-parallel-item::after {content: \"\";width: 100%;border-bottom: 1px solid gray;flex-grow: 1;}#sk-container-id-1 div.sk-label:hover label.sk-toggleable__label {background-color: #d4ebff;}#sk-container-id-1 div.sk-serial::before {content: \"\";position: absolute;border-left: 1px solid gray;box-sizing: border-box;top: 0;bottom: 0;left: 50%;z-index: 0;}#sk-container-id-1 div.sk-serial {display: flex;flex-direction: column;align-items: center;background-color: white;padding-right: 0.2em;padding-left: 0.2em;position: relative;}#sk-container-id-1 div.sk-item {position: relative;z-index: 1;}#sk-container-id-1 div.sk-parallel {display: flex;align-items: stretch;justify-content: center;background-color: white;position: relative;}#sk-container-id-1 div.sk-item::before, #sk-container-id-1 div.sk-parallel-item::before {content: \"\";position: absolute;border-left: 1px solid gray;box-sizing: border-box;top: 0;bottom: 0;left: 50%;z-index: -1;}#sk-container-id-1 div.sk-parallel-item {display: flex;flex-direction: column;z-index: 1;position: relative;background-color: white;}#sk-container-id-1 div.sk-parallel-item:first-child::after {align-self: flex-end;width: 50%;}#sk-container-id-1 div.sk-parallel-item:last-child::after {align-self: flex-start;width: 50%;}#sk-container-id-1 div.sk-parallel-item:only-child::after {width: 0;}#sk-container-id-1 div.sk-dashed-wrapped {border: 1px dashed gray;margin: 0 0.4em 0.5em 0.4em;box-sizing: border-box;padding-bottom: 0.4em;background-color: white;}#sk-container-id-1 div.sk-label label {font-family: monospace;font-weight: bold;display: inline-block;line-height: 1.2em;}#sk-container-id-1 div.sk-label-container {text-align: center;}#sk-container-id-1 div.sk-container {/* jupyter's `normalize.less` sets `[hidden] { display: none; }` but bootstrap.min.css set `[hidden] { display: none !important; }` so we also need the `!important` here to be able to override the default hidden behavior on the sphinx rendered scikit-learn.org. See: https://github.com/scikit-learn/scikit-learn/issues/21755 */display: inline-block !important;position: relative;}#sk-container-id-1 div.sk-text-repr-fallback {display: none;}</style><div id=\"sk-container-id-1\" class=\"sk-top-container\"><div class=\"sk-text-repr-fallback\"><pre>GridSearchCV(cv=5, estimator=SVR(),\n",
       "             param_grid=[{&#x27;C&#x27;: [10.0, 30.0, 100.0, 300.0, 1000.0, 3000.0,\n",
       "                                10000.0, 30000.0],\n",
       "                          &#x27;kernel&#x27;: [&#x27;linear&#x27;]},\n",
       "                         {&#x27;C&#x27;: [1.0, 3.0, 10.0, 30.0, 100.0, 300.0, 1000.0],\n",
       "                          &#x27;gamma&#x27;: [0.01, 0.03, 0.1, 0.3, 1.0, 3.0],\n",
       "                          &#x27;kernel&#x27;: [&#x27;rbf&#x27;]}],\n",
       "             scoring=&#x27;neg_mean_squared_error&#x27;, verbose=2)</pre><b>In a Jupyter environment, please rerun this cell to show the HTML representation or trust the notebook. <br />On GitHub, the HTML representation is unable to render, please try loading this page with nbviewer.org.</b></div><div class=\"sk-container\" hidden><div class=\"sk-item sk-dashed-wrapped\"><div class=\"sk-label-container\"><div class=\"sk-label sk-toggleable\"><input class=\"sk-toggleable__control sk-hidden--visually\" id=\"sk-estimator-id-1\" type=\"checkbox\" ><label for=\"sk-estimator-id-1\" class=\"sk-toggleable__label sk-toggleable__label-arrow\">GridSearchCV</label><div class=\"sk-toggleable__content\"><pre>GridSearchCV(cv=5, estimator=SVR(),\n",
       "             param_grid=[{&#x27;C&#x27;: [10.0, 30.0, 100.0, 300.0, 1000.0, 3000.0,\n",
       "                                10000.0, 30000.0],\n",
       "                          &#x27;kernel&#x27;: [&#x27;linear&#x27;]},\n",
       "                         {&#x27;C&#x27;: [1.0, 3.0, 10.0, 30.0, 100.0, 300.0, 1000.0],\n",
       "                          &#x27;gamma&#x27;: [0.01, 0.03, 0.1, 0.3, 1.0, 3.0],\n",
       "                          &#x27;kernel&#x27;: [&#x27;rbf&#x27;]}],\n",
       "             scoring=&#x27;neg_mean_squared_error&#x27;, verbose=2)</pre></div></div></div><div class=\"sk-parallel\"><div class=\"sk-parallel-item\"><div class=\"sk-item\"><div class=\"sk-label-container\"><div class=\"sk-label sk-toggleable\"><input class=\"sk-toggleable__control sk-hidden--visually\" id=\"sk-estimator-id-2\" type=\"checkbox\" ><label for=\"sk-estimator-id-2\" class=\"sk-toggleable__label sk-toggleable__label-arrow\">estimator: SVR</label><div class=\"sk-toggleable__content\"><pre>SVR()</pre></div></div></div><div class=\"sk-serial\"><div class=\"sk-item\"><div class=\"sk-estimator sk-toggleable\"><input class=\"sk-toggleable__control sk-hidden--visually\" id=\"sk-estimator-id-3\" type=\"checkbox\" ><label for=\"sk-estimator-id-3\" class=\"sk-toggleable__label sk-toggleable__label-arrow\">SVR</label><div class=\"sk-toggleable__content\"><pre>SVR()</pre></div></div></div></div></div></div></div></div></div></div>"
      ],
      "text/plain": [
       "GridSearchCV(cv=5, estimator=SVR(),\n",
       "             param_grid=[{'C': [10.0, 30.0, 100.0, 300.0, 1000.0, 3000.0,\n",
       "                                10000.0, 30000.0],\n",
       "                          'kernel': ['linear']},\n",
       "                         {'C': [1.0, 3.0, 10.0, 30.0, 100.0, 300.0, 1000.0],\n",
       "                          'gamma': [0.01, 0.03, 0.1, 0.3, 1.0, 3.0],\n",
       "                          'kernel': ['rbf']}],\n",
       "             scoring='neg_mean_squared_error', verbose=2)"
      ]
     },
     "execution_count": 13,
     "metadata": {},
     "output_type": "execute_result"
    }
   ],
   "source": [
    "from sklearn.model_selection import GridSearchCV\n",
    "from sklearn.svm import SVR\n",
    "\n",
    "param_grid = [\n",
    "        {'kernel': ['linear'], 'C': [10., 30., 100., 300., 1000., 3000., 10000., 30000.0]},\n",
    "        {'kernel': ['rbf'], 'C': [1.0, 3.0, 10., 30., 100., 300., 1000.0],\n",
    "         'gamma': [0.01, 0.03, 0.1, 0.3, 1.0, 3.0]},\n",
    "    ]\n",
    "\n",
    "svm_reg = SVR()\n",
    "grid_search = GridSearchCV(svm_reg, param_grid, cv=5, scoring='neg_mean_squared_error', verbose=2)\n",
    "grid_search.fit(housing_prepared, housing_labels)"
   ]
  },
  {
   "cell_type": "code",
   "execution_count": 14,
   "metadata": {},
   "outputs": [
    {
     "data": {
      "text/plain": [
       "70286.61835383571"
      ]
     },
     "execution_count": 14,
     "metadata": {},
     "output_type": "execute_result"
    }
   ],
   "source": [
    "negative_mse = grid_search.best_score_\n",
    "rmse = np.sqrt(-negative_mse)\n",
    "rmse"
   ]
  },
  {
   "cell_type": "code",
   "execution_count": 15,
   "metadata": {},
   "outputs": [
    {
     "data": {
      "text/plain": [
       "{'C': 30000.0, 'kernel': 'linear'}"
      ]
     },
     "execution_count": 15,
     "metadata": {},
     "output_type": "execute_result"
    }
   ],
   "source": [
    "grid_search.best_params_"
   ]
  },
  {
   "cell_type": "markdown",
   "metadata": {},
   "source": [
    "## 2.\n",
    "\n",
    "Question: Try replacing `GridSearchCV` with `RandomizedSearchCV`."
   ]
  },
  {
   "cell_type": "markdown",
   "metadata": {},
   "source": [
    "**Warning**: the following cell may take close to 45 minutes to run, or more depending on your hardware."
   ]
  },
  {
   "cell_type": "code",
   "execution_count": 22,
   "metadata": {},
   "outputs": [
    {
     "name": "stdout",
     "output_type": "stream",
     "text": [
      "Fitting 5 folds for each of 50 candidates, totalling 250 fits\n",
      "[CV] END C=629.7823295913721, gamma=3.010121430917521, kernel=linear; total time=   4.1s\n",
      "[CV] END C=629.7823295913721, gamma=3.010121430917521, kernel=linear; total time=   4.1s\n",
      "[CV] END C=629.7823295913721, gamma=3.010121430917521, kernel=linear; total time=   4.1s\n",
      "[CV] END C=629.7823295913721, gamma=3.010121430917521, kernel=linear; total time=   4.1s\n",
      "[CV] END C=629.7823295913721, gamma=3.010121430917521, kernel=linear; total time=   4.2s\n",
      "[CV] END C=26290.20646430022, gamma=0.9084469696321253, kernel=rbf; total time=   9.2s\n",
      "[CV] END C=26290.20646430022, gamma=0.9084469696321253, kernel=rbf; total time=   9.1s\n",
      "[CV] END C=26290.20646430022, gamma=0.9084469696321253, kernel=rbf; total time=   9.3s\n",
      "[CV] END C=26290.20646430022, gamma=0.9084469696321253, kernel=rbf; total time=   9.4s\n",
      "[CV] END C=26290.20646430022, gamma=0.9084469696321253, kernel=rbf; total time=   9.1s\n",
      "[CV] END C=84.14107900575871, gamma=0.059838768608680676, kernel=rbf; total time=   7.7s\n",
      "[CV] END C=84.14107900575871, gamma=0.059838768608680676, kernel=rbf; total time=   7.8s\n",
      "[CV] END C=84.14107900575871, gamma=0.059838768608680676, kernel=rbf; total time=   7.8s\n",
      "[CV] END C=84.14107900575871, gamma=0.059838768608680676, kernel=rbf; total time=   7.8s\n",
      "[CV] END C=84.14107900575871, gamma=0.059838768608680676, kernel=rbf; total time=   7.8s\n",
      "[CV] END C=432.37884813148844, gamma=0.15416196746656105, kernel=linear; total time=   4.1s\n",
      "[CV] END C=432.37884813148844, gamma=0.15416196746656105, kernel=linear; total time=   4.0s\n",
      "[CV] END C=432.37884813148844, gamma=0.15416196746656105, kernel=linear; total time=   4.0s\n",
      "[CV] END C=432.37884813148844, gamma=0.15416196746656105, kernel=linear; total time=   4.1s\n",
      "[CV] END C=432.37884813148844, gamma=0.15416196746656105, kernel=linear; total time=   4.1s\n",
      "[CV] END C=24.175082946113903, gamma=3.503557475158312, kernel=rbf; total time=   7.4s\n",
      "[CV] END C=24.175082946113903, gamma=3.503557475158312, kernel=rbf; total time=   7.4s\n",
      "[CV] END C=24.175082946113903, gamma=3.503557475158312, kernel=rbf; total time=   7.4s\n",
      "[CV] END C=24.175082946113903, gamma=3.503557475158312, kernel=rbf; total time=   7.4s\n",
      "[CV] END C=24.175082946113903, gamma=3.503557475158312, kernel=rbf; total time=   7.4s\n",
      "[CV] END C=113564.03940586244, gamma=0.0007790692366582295, kernel=rbf; total time=   7.6s\n",
      "[CV] END C=113564.03940586244, gamma=0.0007790692366582295, kernel=rbf; total time=   7.6s\n",
      "[CV] END C=113564.03940586244, gamma=0.0007790692366582295, kernel=rbf; total time=   7.6s\n",
      "[CV] END C=113564.03940586244, gamma=0.0007790692366582295, kernel=rbf; total time=   7.6s\n",
      "[CV] END C=113564.03940586244, gamma=0.0007790692366582295, kernel=rbf; total time=   7.6s\n",
      "[CV] END C=108.30488238805071, gamma=0.3627537294604771, kernel=rbf; total time=   7.6s\n",
      "[CV] END C=108.30488238805071, gamma=0.3627537294604771, kernel=rbf; total time=   7.6s\n",
      "[CV] END C=108.30488238805071, gamma=0.3627537294604771, kernel=rbf; total time=   7.6s\n",
      "[CV] END C=108.30488238805071, gamma=0.3627537294604771, kernel=rbf; total time=   7.5s\n",
      "[CV] END C=108.30488238805071, gamma=0.3627537294604771, kernel=rbf; total time=   7.5s\n",
      "[CV] END C=21.34495367264743, gamma=0.023332523598323388, kernel=linear; total time=   4.0s\n",
      "[CV] END C=21.34495367264743, gamma=0.023332523598323388, kernel=linear; total time=   4.0s\n",
      "[CV] END C=21.34495367264743, gamma=0.023332523598323388, kernel=linear; total time=   4.2s\n",
      "[CV] END C=21.34495367264743, gamma=0.023332523598323388, kernel=linear; total time=   4.0s\n",
      "[CV] END C=21.34495367264743, gamma=0.023332523598323388, kernel=linear; total time=   4.2s\n",
      "[CV] END C=5603.270317432522, gamma=0.15023452872733867, kernel=rbf; total time=   7.6s\n",
      "[CV] END C=5603.270317432522, gamma=0.15023452872733867, kernel=rbf; total time=   7.6s\n",
      "[CV] END C=5603.270317432522, gamma=0.15023452872733867, kernel=rbf; total time=   7.5s\n",
      "[CV] END C=5603.270317432522, gamma=0.15023452872733867, kernel=rbf; total time=   7.4s\n",
      "[CV] END C=5603.270317432522, gamma=0.15023452872733867, kernel=rbf; total time=   7.4s\n",
      "[CV] END C=157055.10989448498, gamma=0.26497040005002437, kernel=rbf; total time=  19.5s\n",
      "[CV] END C=157055.10989448498, gamma=0.26497040005002437, kernel=rbf; total time=  20.0s\n",
      "[CV] END C=157055.10989448498, gamma=0.26497040005002437, kernel=rbf; total time=  20.7s\n",
      "[CV] END C=157055.10989448498, gamma=0.26497040005002437, kernel=rbf; total time=  18.3s\n",
      "[CV] END C=157055.10989448498, gamma=0.26497040005002437, kernel=rbf; total time=  20.8s\n",
      "[CV] END C=27652.46435873972, gamma=0.2227358621286903, kernel=linear; total time=   8.1s\n",
      "[CV] END C=27652.46435873972, gamma=0.2227358621286903, kernel=linear; total time=   7.4s\n",
      "[CV] END C=27652.46435873972, gamma=0.2227358621286903, kernel=linear; total time=   7.2s\n",
      "[CV] END C=27652.46435873972, gamma=0.2227358621286903, kernel=linear; total time=   8.0s\n",
      "[CV] END C=27652.46435873972, gamma=0.2227358621286903, kernel=linear; total time=   8.1s\n",
      "[CV] END C=171377.39570377997, gamma=0.628789100540856, kernel=linear; total time=  24.2s\n",
      "[CV] END C=171377.39570377997, gamma=0.628789100540856, kernel=linear; total time=  25.2s\n",
      "[CV] END C=171377.39570377997, gamma=0.628789100540856, kernel=linear; total time=  19.6s\n",
      "[CV] END C=171377.39570377997, gamma=0.628789100540856, kernel=linear; total time=  25.8s\n",
      "[CV] END C=171377.39570377997, gamma=0.628789100540856, kernel=linear; total time=  27.2s\n",
      "[CV] END C=5385.293820172355, gamma=0.18696125197741642, kernel=linear; total time=   5.3s\n",
      "[CV] END C=5385.293820172355, gamma=0.18696125197741642, kernel=linear; total time=   5.0s\n",
      "[CV] END C=5385.293820172355, gamma=0.18696125197741642, kernel=linear; total time=   4.9s\n",
      "[CV] END C=5385.293820172355, gamma=0.18696125197741642, kernel=linear; total time=   5.2s\n",
      "[CV] END C=5385.293820172355, gamma=0.18696125197741642, kernel=linear; total time=   4.9s\n",
      "[CV] END C=22.599032166213227, gamma=2.850796878935603, kernel=rbf; total time=   7.7s\n",
      "[CV] END C=22.599032166213227, gamma=2.850796878935603, kernel=rbf; total time=   7.6s\n",
      "[CV] END C=22.599032166213227, gamma=2.850796878935603, kernel=rbf; total time=   7.7s\n",
      "[CV] END C=22.599032166213227, gamma=2.850796878935603, kernel=rbf; total time=   7.7s\n",
      "[CV] END C=22.599032166213227, gamma=2.850796878935603, kernel=rbf; total time=210.6min\n",
      "[CV] END C=34246.751946327975, gamma=0.3632878599687583, kernel=linear; total time=   9.4s\n",
      "[CV] END C=34246.751946327975, gamma=0.3632878599687583, kernel=linear; total time=   9.8s\n",
      "[CV] END C=34246.751946327975, gamma=0.3632878599687583, kernel=linear; total time=   8.3s\n",
      "[CV] END C=34246.751946327975, gamma=0.3632878599687583, kernel=linear; total time=   8.8s\n",
      "[CV] END C=34246.751946327975, gamma=0.3632878599687583, kernel=linear; total time=   9.8s\n",
      "[CV] END C=167.7278956080511, gamma=0.2757870542258224, kernel=rbf; total time=   7.8s\n",
      "[CV] END C=167.7278956080511, gamma=0.2757870542258224, kernel=rbf; total time=   8.0s\n",
      "[CV] END C=167.7278956080511, gamma=0.2757870542258224, kernel=rbf; total time=   7.7s\n",
      "[CV] END C=167.7278956080511, gamma=0.2757870542258224, kernel=rbf; total time=   7.6s\n",
      "[CV] END C=167.7278956080511, gamma=0.2757870542258224, kernel=rbf; total time=   7.6s\n",
      "[CV] END C=61.54360542501372, gamma=0.6835472281341501, kernel=linear; total time=   4.1s\n",
      "[CV] END C=61.54360542501372, gamma=0.6835472281341501, kernel=linear; total time=   4.2s\n",
      "[CV] END C=61.54360542501372, gamma=0.6835472281341501, kernel=linear; total time=   4.1s\n",
      "[CV] END C=61.54360542501372, gamma=0.6835472281341501, kernel=linear; total time=   4.0s\n",
      "[CV] END C=61.54360542501372, gamma=0.6835472281341501, kernel=linear; total time=   4.0s\n",
      "[CV] END C=98.73897389920917, gamma=0.4960365360493639, kernel=rbf; total time=   7.7s\n",
      "[CV] END C=98.73897389920917, gamma=0.4960365360493639, kernel=rbf; total time=   7.6s\n",
      "[CV] END C=98.73897389920917, gamma=0.4960365360493639, kernel=rbf; total time=   7.8s\n",
      "[CV] END C=98.73897389920917, gamma=0.4960365360493639, kernel=rbf; total time=   8.6s\n",
      "[CV] END C=98.73897389920917, gamma=0.4960365360493639, kernel=rbf; total time=   8.5s\n",
      "[CV] END C=8935.505635947806, gamma=0.37354658165762367, kernel=rbf; total time=   7.7s\n",
      "[CV] END C=8935.505635947806, gamma=0.37354658165762367, kernel=rbf; total time=   7.5s\n",
      "[CV] END C=8935.505635947806, gamma=0.37354658165762367, kernel=rbf; total time=   7.6s\n",
      "[CV] END C=8935.505635947806, gamma=0.37354658165762367, kernel=rbf; total time=   7.5s\n",
      "[CV] END C=8935.505635947806, gamma=0.37354658165762367, kernel=rbf; total time=   7.6s\n",
      "[CV] END C=135.7677582484244, gamma=0.838636245624803, kernel=linear; total time=   4.0s\n",
      "[CV] END C=135.7677582484244, gamma=0.838636245624803, kernel=linear; total time=   4.0s\n",
      "[CV] END C=135.7677582484244, gamma=0.838636245624803, kernel=linear; total time=   4.0s\n",
      "[CV] END C=135.7677582484244, gamma=0.838636245624803, kernel=linear; total time=   4.0s\n",
      "[CV] END C=135.7677582484244, gamma=0.838636245624803, kernel=linear; total time=   4.0s\n",
      "[CV] END C=151136.20282548846, gamma=1.4922453771381408, kernel=rbf; total time= 1.3min\n",
      "[CV] END C=151136.20282548846, gamma=1.4922453771381408, kernel=rbf; total time= 1.3min\n",
      "[CV] END C=151136.20282548846, gamma=1.4922453771381408, kernel=rbf; total time= 1.4min\n",
      "[CV] END C=151136.20282548846, gamma=1.4922453771381408, kernel=rbf; total time= 1.3min\n",
      "[CV] END C=151136.20282548846, gamma=1.4922453771381408, kernel=rbf; total time= 1.2min\n",
      "[CV] END C=761.4316758498787, gamma=2.6126336514161914, kernel=linear; total time=   4.5s\n",
      "[CV] END C=761.4316758498787, gamma=2.6126336514161914, kernel=linear; total time=   4.4s\n",
      "[CV] END C=761.4316758498787, gamma=2.6126336514161914, kernel=linear; total time=   4.2s\n",
      "[CV] END C=761.4316758498787, gamma=2.6126336514161914, kernel=linear; total time=   4.2s\n",
      "[CV] END C=761.4316758498787, gamma=2.6126336514161914, kernel=linear; total time=   4.5s\n",
      "[CV] END C=97392.8188304179, gamma=0.09265545895311562, kernel=linear; total time=  16.0s\n",
      "[CV] END C=97392.8188304179, gamma=0.09265545895311562, kernel=linear; total time=  17.0s\n",
      "[CV] END C=97392.8188304179, gamma=0.09265545895311562, kernel=linear; total time=  15.4s\n",
      "[CV] END C=97392.8188304179, gamma=0.09265545895311562, kernel=linear; total time=  17.5s\n",
      "[CV] END C=97392.8188304179, gamma=0.09265545895311562, kernel=linear; total time=  14.3s\n",
      "[CV] END C=2423.0759984939154, gamma=3.248614270240346, kernel=linear; total time=   4.4s\n",
      "[CV] END C=2423.0759984939154, gamma=3.248614270240346, kernel=linear; total time=   4.6s\n",
      "[CV] END C=2423.0759984939154, gamma=3.248614270240346, kernel=linear; total time=   4.4s\n",
      "[CV] END C=2423.0759984939154, gamma=3.248614270240346, kernel=linear; total time=   4.7s\n",
      "[CV] END C=2423.0759984939154, gamma=3.248614270240346, kernel=linear; total time=   4.6s\n",
      "[CV] END C=717.3632997255093, gamma=0.3165604432088257, kernel=linear; total time=   4.2s\n",
      "[CV] END C=717.3632997255093, gamma=0.3165604432088257, kernel=linear; total time=   4.2s\n",
      "[CV] END C=717.3632997255093, gamma=0.3165604432088257, kernel=linear; total time=   4.2s\n",
      "[CV] END C=717.3632997255093, gamma=0.3165604432088257, kernel=linear; total time=   4.3s\n",
      "[CV] END C=717.3632997255093, gamma=0.3165604432088257, kernel=linear; total time=   4.3s\n",
      "[CV] END C=4446.66752118407, gamma=3.3597284456608496, kernel=rbf; total time=   7.9s\n",
      "[CV] END C=4446.66752118407, gamma=3.3597284456608496, kernel=rbf; total time=73.5min\n",
      "[CV] END C=4446.66752118407, gamma=3.3597284456608496, kernel=rbf; total time=   8.9s\n",
      "[CV] END C=4446.66752118407, gamma=3.3597284456608496, kernel=rbf; total time=   9.1s\n",
      "[CV] END C=4446.66752118407, gamma=3.3597284456608496, kernel=rbf; total time=   8.8s\n",
      "[CV] END C=2963.564121207816, gamma=0.15189814782062885, kernel=linear; total time=   4.9s\n",
      "[CV] END C=2963.564121207816, gamma=0.15189814782062885, kernel=linear; total time=   5.3s\n",
      "[CV] END C=2963.564121207816, gamma=0.15189814782062885, kernel=linear; total time=   5.8s\n",
      "[CV] END C=2963.564121207816, gamma=0.15189814782062885, kernel=linear; total time=   5.6s\n",
      "[CV] END C=2963.564121207816, gamma=0.15189814782062885, kernel=linear; total time=   5.1s\n",
      "[CV] END C=91.64267381686706, gamma=0.01575994483585621, kernel=linear; total time=   5.0s\n",
      "[CV] END C=91.64267381686706, gamma=0.01575994483585621, kernel=linear; total time=   4.5s\n",
      "[CV] END C=91.64267381686706, gamma=0.01575994483585621, kernel=linear; total time=   4.7s\n",
      "[CV] END C=91.64267381686706, gamma=0.01575994483585621, kernel=linear; total time=   4.6s\n",
      "[CV] END C=91.64267381686706, gamma=0.01575994483585621, kernel=linear; total time=   4.4s\n",
      "[CV] END C=24547.601975705937, gamma=0.22153944050588595, kernel=rbf; total time=   9.4s\n",
      "[CV] END C=24547.601975705937, gamma=0.22153944050588595, kernel=rbf; total time=   8.6s\n",
      "[CV] END C=24547.601975705937, gamma=0.22153944050588595, kernel=rbf; total time=   8.9s\n",
      "[CV] END C=24547.601975705937, gamma=0.22153944050588595, kernel=rbf; total time=   8.9s\n",
      "[CV] END C=24547.601975705937, gamma=0.22153944050588595, kernel=rbf; total time=   8.9s\n",
      "[CV] END C=22.76927941060928, gamma=0.22169760231351215, kernel=rbf; total time=   8.8s\n",
      "[CV] END C=22.76927941060928, gamma=0.22169760231351215, kernel=rbf; total time=   9.3s\n",
      "[CV] END C=22.76927941060928, gamma=0.22169760231351215, kernel=rbf; total time=   8.8s\n",
      "[CV] END C=22.76927941060928, gamma=0.22169760231351215, kernel=rbf; total time=   8.1s\n",
      "[CV] END C=22.76927941060928, gamma=0.22169760231351215, kernel=rbf; total time=   8.3s\n",
      "[CV] END C=16483.85052975289, gamma=1.4752145260435134, kernel=linear; total time=   6.9s\n",
      "[CV] END C=16483.85052975289, gamma=1.4752145260435134, kernel=linear; total time=   6.4s\n",
      "[CV] END C=16483.85052975289, gamma=1.4752145260435134, kernel=linear; total time=   6.3s\n",
      "[CV] END C=16483.85052975289, gamma=1.4752145260435134, kernel=linear; total time=   7.1s\n",
      "[CV] END C=16483.85052975289, gamma=1.4752145260435134, kernel=linear; total time=   6.7s\n",
      "[CV] END C=101445.66881340076, gamma=1.052904084582266, kernel=rbf; total time=  33.0s\n",
      "[CV] END C=101445.66881340076, gamma=1.052904084582266, kernel=rbf; total time=  36.6s\n",
      "[CV] END C=101445.66881340076, gamma=1.052904084582266, kernel=rbf; total time=  31.7s\n",
      "[CV] END C=101445.66881340076, gamma=1.052904084582266, kernel=rbf; total time=  34.4s\n",
      "[CV] END C=101445.66881340076, gamma=1.052904084582266, kernel=rbf; total time=  39.6s\n",
      "[CV] END C=56681.8085902955, gamma=0.9763011917123741, kernel=rbf; total time=  13.7s\n",
      "[CV] END C=56681.8085902955, gamma=0.9763011917123741, kernel=rbf; total time=  14.3s\n",
      "[CV] END C=56681.8085902955, gamma=0.9763011917123741, kernel=rbf; total time=  13.7s\n",
      "[CV] END C=56681.8085902955, gamma=0.9763011917123741, kernel=rbf; total time=  16.2s\n",
      "[CV] END C=56681.8085902955, gamma=0.9763011917123741, kernel=rbf; total time=  14.8s\n",
      "[CV] END C=48.15822390928913, gamma=0.4633351167983427, kernel=rbf; total time=   8.5s\n",
      "[CV] END C=48.15822390928913, gamma=0.4633351167983427, kernel=rbf; total time=   7.7s\n",
      "[CV] END C=48.15822390928913, gamma=0.4633351167983427, kernel=rbf; total time=   7.5s\n",
      "[CV] END C=48.15822390928913, gamma=0.4633351167983427, kernel=rbf; total time=   7.6s\n",
      "[CV] END C=48.15822390928913, gamma=0.4633351167983427, kernel=rbf; total time=   7.5s\n",
      "[CV] END C=399.7268155705776, gamma=1.3078757839577408, kernel=rbf; total time=   7.3s\n",
      "[CV] END C=399.7268155705776, gamma=1.3078757839577408, kernel=rbf; total time=   7.3s\n",
      "[CV] END C=399.7268155705776, gamma=1.3078757839577408, kernel=rbf; total time=   7.4s\n",
      "[CV] END C=399.7268155705776, gamma=1.3078757839577408, kernel=rbf; total time=   7.3s\n",
      "[CV] END C=399.7268155705776, gamma=1.3078757839577408, kernel=rbf; total time=   7.3s\n",
      "[CV] END C=251.1407388628136, gamma=0.8238105204914145, kernel=linear; total time=   4.0s\n",
      "[CV] END C=251.1407388628136, gamma=0.8238105204914145, kernel=linear; total time=   4.0s\n",
      "[CV] END C=251.1407388628136, gamma=0.8238105204914145, kernel=linear; total time=   4.0s\n",
      "[CV] END C=251.1407388628136, gamma=0.8238105204914145, kernel=linear; total time=   4.0s\n",
      "[CV] END C=251.1407388628136, gamma=0.8238105204914145, kernel=linear; total time=   4.1s\n",
      "[CV] END C=60.17373642891686, gamma=1.2491263443165994, kernel=linear; total time=   4.0s\n",
      "[CV] END C=60.17373642891686, gamma=1.2491263443165994, kernel=linear; total time=   4.0s\n",
      "[CV] END C=60.17373642891686, gamma=1.2491263443165994, kernel=linear; total time=   3.9s\n",
      "[CV] END C=60.17373642891686, gamma=1.2491263443165994, kernel=linear; total time=   4.0s\n",
      "[CV] END C=60.17373642891686, gamma=1.2491263443165994, kernel=linear; total time=   4.1s\n",
      "[CV] END C=15415.161544891862, gamma=0.2691677514619319, kernel=rbf; total time=   7.6s\n",
      "[CV] END C=15415.161544891862, gamma=0.2691677514619319, kernel=rbf; total time=   7.8s\n",
      "[CV] END C=15415.161544891862, gamma=0.2691677514619319, kernel=rbf; total time=   7.7s\n",
      "[CV] END C=15415.161544891862, gamma=0.2691677514619319, kernel=rbf; total time=   7.7s\n",
      "[CV] END C=15415.161544891862, gamma=0.2691677514619319, kernel=rbf; total time=   7.7s\n",
      "[CV] END C=1888.9148509967115, gamma=0.739678838777267, kernel=linear; total time=   4.2s\n",
      "[CV] END C=1888.9148509967115, gamma=0.739678838777267, kernel=linear; total time=   4.3s\n",
      "[CV] END C=1888.9148509967115, gamma=0.739678838777267, kernel=linear; total time=   4.2s\n",
      "[CV] END C=1888.9148509967115, gamma=0.739678838777267, kernel=linear; total time=   4.2s\n",
      "[CV] END C=1888.9148509967115, gamma=0.739678838777267, kernel=linear; total time=   4.2s\n",
      "[CV] END C=55.53838911232771, gamma=0.578634378499143, kernel=linear; total time=   4.1s\n",
      "[CV] END C=55.53838911232771, gamma=0.578634378499143, kernel=linear; total time=   4.0s\n",
      "[CV] END C=55.53838911232771, gamma=0.578634378499143, kernel=linear; total time=   4.0s\n",
      "[CV] END C=55.53838911232771, gamma=0.578634378499143, kernel=linear; total time=   4.1s\n",
      "[CV] END C=55.53838911232771, gamma=0.578634378499143, kernel=linear; total time=   4.0s\n",
      "[CV] END C=26.714480823948186, gamma=1.0117295509275495, kernel=rbf; total time=   7.7s\n",
      "[CV] END C=26.714480823948186, gamma=1.0117295509275495, kernel=rbf; total time=   7.4s\n",
      "[CV] END C=26.714480823948186, gamma=1.0117295509275495, kernel=rbf; total time=   7.5s\n",
      "[CV] END C=26.714480823948186, gamma=1.0117295509275495, kernel=rbf; total time=   7.5s\n",
      "[CV] END C=26.714480823948186, gamma=1.0117295509275495, kernel=rbf; total time=   7.4s\n",
      "[CV] END C=3582.05527804896, gamma=1.1891370222133257, kernel=linear; total time=   4.5s\n",
      "[CV] END C=3582.05527804896, gamma=1.1891370222133257, kernel=linear; total time=   4.5s\n",
      "[CV] END C=3582.05527804896, gamma=1.1891370222133257, kernel=linear; total time=   4.4s\n",
      "[CV] END C=3582.05527804896, gamma=1.1891370222133257, kernel=linear; total time=   5.1s\n",
      "[CV] END C=3582.05527804896, gamma=1.1891370222133257, kernel=linear; total time=   4.5s\n",
      "[CV] END C=198.70047818127367, gamma=0.5282819748826726, kernel=linear; total time=   4.1s\n",
      "[CV] END C=198.70047818127367, gamma=0.5282819748826726, kernel=linear; total time=   4.0s\n",
      "[CV] END C=198.70047818127367, gamma=0.5282819748826726, kernel=linear; total time=   4.0s\n",
      "[CV] END C=198.70047818127367, gamma=0.5282819748826726, kernel=linear; total time=   4.0s\n",
      "[CV] END C=198.70047818127367, gamma=0.5282819748826726, kernel=linear; total time=   4.0s\n",
      "[CV] END C=129.80006041433077, gamma=2.8621383676481322, kernel=linear; total time=   4.1s\n",
      "[CV] END C=129.80006041433077, gamma=2.8621383676481322, kernel=linear; total time=   4.1s\n",
      "[CV] END C=129.80006041433077, gamma=2.8621383676481322, kernel=linear; total time=   4.1s\n",
      "[CV] END C=129.80006041433077, gamma=2.8621383676481322, kernel=linear; total time=   4.0s\n",
      "[CV] END C=129.80006041433077, gamma=2.8621383676481322, kernel=linear; total time=   4.1s\n",
      "[CV] END C=288.4269299593897, gamma=0.17580835850006285, kernel=rbf; total time=   7.6s\n",
      "[CV] END C=288.4269299593897, gamma=0.17580835850006285, kernel=rbf; total time=   7.6s\n",
      "[CV] END C=288.4269299593897, gamma=0.17580835850006285, kernel=rbf; total time=   7.6s\n",
      "[CV] END C=288.4269299593897, gamma=0.17580835850006285, kernel=rbf; total time=   7.5s\n",
      "[CV] END C=288.4269299593897, gamma=0.17580835850006285, kernel=rbf; total time=   7.6s\n",
      "[CV] END C=6287.039489427173, gamma=0.3504567255332862, kernel=linear; total time=   4.9s\n",
      "[CV] END C=6287.039489427173, gamma=0.3504567255332862, kernel=linear; total time=   4.9s\n",
      "[CV] END C=6287.039489427173, gamma=0.3504567255332862, kernel=linear; total time=   4.7s\n",
      "[CV] END C=6287.039489427173, gamma=0.3504567255332862, kernel=linear; total time=   4.9s\n",
      "[CV] END C=6287.039489427173, gamma=0.3504567255332862, kernel=linear; total time=   4.9s\n",
      "[CV] END C=61217.04421344495, gamma=1.6279689407405564, kernel=rbf; total time=  24.3s\n",
      "[CV] END C=61217.04421344495, gamma=1.6279689407405564, kernel=rbf; total time=  28.8s\n",
      "[CV] END C=61217.04421344495, gamma=1.6279689407405564, kernel=rbf; total time=  20.2s\n",
      "[CV] END C=61217.04421344495, gamma=1.6279689407405564, kernel=rbf; total time=  20.9s\n",
      "[CV] END C=61217.04421344495, gamma=1.6279689407405564, kernel=rbf; total time=  25.3s\n",
      "[CV] END C=926.9787684096652, gamma=2.147979593060577, kernel=rbf; total time=   7.8s\n",
      "[CV] END C=926.9787684096652, gamma=2.147979593060577, kernel=rbf; total time=   8.1s\n",
      "[CV] END C=926.9787684096652, gamma=2.147979593060577, kernel=rbf; total time=   7.7s\n",
      "[CV] END C=926.9787684096652, gamma=2.147979593060577, kernel=rbf; total time=   7.5s\n",
      "[CV] END C=926.9787684096652, gamma=2.147979593060577, kernel=rbf; total time=   7.3s\n",
      "[CV] END C=33946.15706493403, gamma=2.2642426492862313, kernel=linear; total time=   8.2s\n",
      "[CV] END C=33946.15706493403, gamma=2.2642426492862313, kernel=linear; total time=   9.0s\n",
      "[CV] END C=33946.15706493403, gamma=2.2642426492862313, kernel=linear; total time=   8.1s\n",
      "[CV] END C=33946.15706493403, gamma=2.2642426492862313, kernel=linear; total time=   8.6s\n",
      "[CV] END C=33946.15706493403, gamma=2.2642426492862313, kernel=linear; total time=   9.3s\n",
      "[CV] END C=84789.82947739528, gamma=0.3176359085304841, kernel=linear; total time=  14.7s\n",
      "[CV] END C=84789.82947739528, gamma=0.3176359085304841, kernel=linear; total time=  15.6s\n",
      "[CV] END C=84789.82947739528, gamma=0.3176359085304841, kernel=linear; total time=  13.5s\n",
      "[CV] END C=84789.82947739528, gamma=0.3176359085304841, kernel=linear; total time=  15.9s\n",
      "[CV] END C=84789.82947739528, gamma=0.3176359085304841, kernel=linear; total time=  16.5s\n"
     ]
    },
    {
     "data": {
      "text/html": [
       "<style>#sk-container-id-2 {color: black;}#sk-container-id-2 pre{padding: 0;}#sk-container-id-2 div.sk-toggleable {background-color: white;}#sk-container-id-2 label.sk-toggleable__label {cursor: pointer;display: block;width: 100%;margin-bottom: 0;padding: 0.3em;box-sizing: border-box;text-align: center;}#sk-container-id-2 label.sk-toggleable__label-arrow:before {content: \"▸\";float: left;margin-right: 0.25em;color: #696969;}#sk-container-id-2 label.sk-toggleable__label-arrow:hover:before {color: black;}#sk-container-id-2 div.sk-estimator:hover label.sk-toggleable__label-arrow:before {color: black;}#sk-container-id-2 div.sk-toggleable__content {max-height: 0;max-width: 0;overflow: hidden;text-align: left;background-color: #f0f8ff;}#sk-container-id-2 div.sk-toggleable__content pre {margin: 0.2em;color: black;border-radius: 0.25em;background-color: #f0f8ff;}#sk-container-id-2 input.sk-toggleable__control:checked~div.sk-toggleable__content {max-height: 200px;max-width: 100%;overflow: auto;}#sk-container-id-2 input.sk-toggleable__control:checked~label.sk-toggleable__label-arrow:before {content: \"▾\";}#sk-container-id-2 div.sk-estimator input.sk-toggleable__control:checked~label.sk-toggleable__label {background-color: #d4ebff;}#sk-container-id-2 div.sk-label input.sk-toggleable__control:checked~label.sk-toggleable__label {background-color: #d4ebff;}#sk-container-id-2 input.sk-hidden--visually {border: 0;clip: rect(1px 1px 1px 1px);clip: rect(1px, 1px, 1px, 1px);height: 1px;margin: -1px;overflow: hidden;padding: 0;position: absolute;width: 1px;}#sk-container-id-2 div.sk-estimator {font-family: monospace;background-color: #f0f8ff;border: 1px dotted black;border-radius: 0.25em;box-sizing: border-box;margin-bottom: 0.5em;}#sk-container-id-2 div.sk-estimator:hover {background-color: #d4ebff;}#sk-container-id-2 div.sk-parallel-item::after {content: \"\";width: 100%;border-bottom: 1px solid gray;flex-grow: 1;}#sk-container-id-2 div.sk-label:hover label.sk-toggleable__label {background-color: #d4ebff;}#sk-container-id-2 div.sk-serial::before {content: \"\";position: absolute;border-left: 1px solid gray;box-sizing: border-box;top: 0;bottom: 0;left: 50%;z-index: 0;}#sk-container-id-2 div.sk-serial {display: flex;flex-direction: column;align-items: center;background-color: white;padding-right: 0.2em;padding-left: 0.2em;position: relative;}#sk-container-id-2 div.sk-item {position: relative;z-index: 1;}#sk-container-id-2 div.sk-parallel {display: flex;align-items: stretch;justify-content: center;background-color: white;position: relative;}#sk-container-id-2 div.sk-item::before, #sk-container-id-2 div.sk-parallel-item::before {content: \"\";position: absolute;border-left: 1px solid gray;box-sizing: border-box;top: 0;bottom: 0;left: 50%;z-index: -1;}#sk-container-id-2 div.sk-parallel-item {display: flex;flex-direction: column;z-index: 1;position: relative;background-color: white;}#sk-container-id-2 div.sk-parallel-item:first-child::after {align-self: flex-end;width: 50%;}#sk-container-id-2 div.sk-parallel-item:last-child::after {align-self: flex-start;width: 50%;}#sk-container-id-2 div.sk-parallel-item:only-child::after {width: 0;}#sk-container-id-2 div.sk-dashed-wrapped {border: 1px dashed gray;margin: 0 0.4em 0.5em 0.4em;box-sizing: border-box;padding-bottom: 0.4em;background-color: white;}#sk-container-id-2 div.sk-label label {font-family: monospace;font-weight: bold;display: inline-block;line-height: 1.2em;}#sk-container-id-2 div.sk-label-container {text-align: center;}#sk-container-id-2 div.sk-container {/* jupyter's `normalize.less` sets `[hidden] { display: none; }` but bootstrap.min.css set `[hidden] { display: none !important; }` so we also need the `!important` here to be able to override the default hidden behavior on the sphinx rendered scikit-learn.org. See: https://github.com/scikit-learn/scikit-learn/issues/21755 */display: inline-block !important;position: relative;}#sk-container-id-2 div.sk-text-repr-fallback {display: none;}</style><div id=\"sk-container-id-2\" class=\"sk-top-container\"><div class=\"sk-text-repr-fallback\"><pre>RandomizedSearchCV(cv=5, estimator=SVR(), n_iter=50,\n",
       "                   param_distributions={&#x27;C&#x27;: &lt;scipy.stats._distn_infrastructure.rv_continuous_frozen object at 0x000001AB09E832E0&gt;,\n",
       "                                        &#x27;gamma&#x27;: &lt;scipy.stats._distn_infrastructure.rv_continuous_frozen object at 0x000001AB16931D50&gt;,\n",
       "                                        &#x27;kernel&#x27;: [&#x27;linear&#x27;, &#x27;rbf&#x27;]},\n",
       "                   random_state=42, scoring=&#x27;neg_mean_squared_error&#x27;,\n",
       "                   verbose=2)</pre><b>In a Jupyter environment, please rerun this cell to show the HTML representation or trust the notebook. <br />On GitHub, the HTML representation is unable to render, please try loading this page with nbviewer.org.</b></div><div class=\"sk-container\" hidden><div class=\"sk-item sk-dashed-wrapped\"><div class=\"sk-label-container\"><div class=\"sk-label sk-toggleable\"><input class=\"sk-toggleable__control sk-hidden--visually\" id=\"sk-estimator-id-4\" type=\"checkbox\" ><label for=\"sk-estimator-id-4\" class=\"sk-toggleable__label sk-toggleable__label-arrow\">RandomizedSearchCV</label><div class=\"sk-toggleable__content\"><pre>RandomizedSearchCV(cv=5, estimator=SVR(), n_iter=50,\n",
       "                   param_distributions={&#x27;C&#x27;: &lt;scipy.stats._distn_infrastructure.rv_continuous_frozen object at 0x000001AB09E832E0&gt;,\n",
       "                                        &#x27;gamma&#x27;: &lt;scipy.stats._distn_infrastructure.rv_continuous_frozen object at 0x000001AB16931D50&gt;,\n",
       "                                        &#x27;kernel&#x27;: [&#x27;linear&#x27;, &#x27;rbf&#x27;]},\n",
       "                   random_state=42, scoring=&#x27;neg_mean_squared_error&#x27;,\n",
       "                   verbose=2)</pre></div></div></div><div class=\"sk-parallel\"><div class=\"sk-parallel-item\"><div class=\"sk-item\"><div class=\"sk-label-container\"><div class=\"sk-label sk-toggleable\"><input class=\"sk-toggleable__control sk-hidden--visually\" id=\"sk-estimator-id-5\" type=\"checkbox\" ><label for=\"sk-estimator-id-5\" class=\"sk-toggleable__label sk-toggleable__label-arrow\">estimator: SVR</label><div class=\"sk-toggleable__content\"><pre>SVR()</pre></div></div></div><div class=\"sk-serial\"><div class=\"sk-item\"><div class=\"sk-estimator sk-toggleable\"><input class=\"sk-toggleable__control sk-hidden--visually\" id=\"sk-estimator-id-6\" type=\"checkbox\" ><label for=\"sk-estimator-id-6\" class=\"sk-toggleable__label sk-toggleable__label-arrow\">SVR</label><div class=\"sk-toggleable__content\"><pre>SVR()</pre></div></div></div></div></div></div></div></div></div></div>"
      ],
      "text/plain": [
       "RandomizedSearchCV(cv=5, estimator=SVR(), n_iter=50,\n",
       "                   param_distributions={'C': <scipy.stats._distn_infrastructure.rv_continuous_frozen object at 0x000001AB09E832E0>,\n",
       "                                        'gamma': <scipy.stats._distn_infrastructure.rv_continuous_frozen object at 0x000001AB16931D50>,\n",
       "                                        'kernel': ['linear', 'rbf']},\n",
       "                   random_state=42, scoring='neg_mean_squared_error',\n",
       "                   verbose=2)"
      ]
     },
     "execution_count": 22,
     "metadata": {},
     "output_type": "execute_result"
    }
   ],
   "source": [
    "from sklearn.model_selection import RandomizedSearchCV\n",
    "from scipy.stats import expon, reciprocal\n",
    "\n",
    "# Note: gamma is ignored when kernel is \"linear\"\n",
    "param_distribs = {\n",
    "        'kernel': ['linear', 'rbf'],\n",
    "        'C': reciprocal(20, 200000),\n",
    "        'gamma': expon(scale=1.0),\n",
    "    }\n",
    "\n",
    "svm_reg = SVR()\n",
    "rnd_search = RandomizedSearchCV(svm_reg, param_distributions=param_distribs,\n",
    "                                n_iter=50, cv=5, scoring='neg_mean_squared_error',\n",
    "                                verbose=2, random_state=42)\n",
    "rnd_search.fit(housing_prepared, housing_labels)"
   ]
  },
  {
   "cell_type": "code",
   "execution_count": 23,
   "metadata": {},
   "outputs": [
    {
     "data": {
      "text/plain": [
       "54751.69009488048"
      ]
     },
     "execution_count": 23,
     "metadata": {},
     "output_type": "execute_result"
    }
   ],
   "source": [
    "negative_mse = rnd_search.best_score_\n",
    "rmse = np.sqrt(-negative_mse)\n",
    "rmse"
   ]
  },
  {
   "cell_type": "code",
   "execution_count": 24,
   "metadata": {},
   "outputs": [
    {
     "data": {
      "text/plain": [
       "{'C': 157055.10989448498, 'gamma': 0.26497040005002437, 'kernel': 'rbf'}"
      ]
     },
     "execution_count": 24,
     "metadata": {},
     "output_type": "execute_result"
    }
   ],
   "source": [
    "rnd_search.best_params_"
   ]
  },
  {
   "cell_type": "markdown",
   "metadata": {},
   "source": [
    "## 3.\n",
    "\n",
    "Question: Try adding a transformer in the preparation pipeline to select only the most important attributes."
   ]
  },
  {
   "cell_type": "code",
   "execution_count": 33,
   "metadata": {},
   "outputs": [],
   "source": [
    "from sklearn.base import BaseEstimator, TransformerMixin\n",
    "\n",
    "def indices_of_top_k(arr, k):\n",
    "    return np.sort(np.argpartition(np.array(arr), -k)[-k:])\n",
    "\n",
    "class TopFeatureSelector(BaseEstimator, TransformerMixin):\n",
    "    def __init__(self, feature_importances, k):\n",
    "        self.feature_importances = feature_importances\n",
    "        self.k = k\n",
    "    def fit(self, X, y=None):\n",
    "        self.feature_indices_ = indices_of_top_k(self.feature_importances, self.k)\n",
    "        return self\n",
    "    def transform(self, X):\n",
    "        return X[:, self.feature_indices_]"
   ]
  },
  {
   "cell_type": "code",
   "execution_count": 37,
   "metadata": {},
   "outputs": [],
   "source": [
    "k = 5\n",
    "preparation_and_feature_selection_pipeline = Pipeline([\n",
    "    ('preparation', full_pipeline),\n",
    "    ('feature_selection', TopFeatureSelector(feature_importances, k))\n",
    "])"
   ]
  },
  {
   "cell_type": "code",
   "execution_count": 38,
   "metadata": {},
   "outputs": [],
   "source": [
    "housing_prepared_top_k_features = preparation_and_feature_selection_pipeline.fit_transform(housing)"
   ]
  },
  {
   "cell_type": "code",
   "execution_count": 39,
   "metadata": {},
   "outputs": [
    {
     "data": {
      "text/plain": [
       "array([[-0.94135046,  1.34743822, -0.8936472 ,  0.00622264,  1.        ],\n",
       "       [ 1.17178212, -1.19243966,  1.292168  , -0.04081077,  0.        ],\n",
       "       [ 0.26758118, -0.1259716 , -0.52543365, -0.07537122,  1.        ]])"
      ]
     },
     "execution_count": 39,
     "metadata": {},
     "output_type": "execute_result"
    }
   ],
   "source": [
    "housing_prepared_top_k_features[0:3]"
   ]
  },
  {
   "cell_type": "markdown",
   "metadata": {},
   "source": [
    "## 4.\n",
    "Question: Try creating a single pipeline that does the full data preparation plus the final prediction."
   ]
  },
  {
   "cell_type": "code",
   "execution_count": 41,
   "metadata": {},
   "outputs": [],
   "source": [
    "prepare_select_and_predict_pipeline = Pipeline([\n",
    "    ('preparation', full_pipeline),\n",
    "    ('feature_selection', TopFeatureSelector(feature_importances, k)),\n",
    "    ('svm_reg', SVR(**rnd_search.best_params_))\n",
    "])"
   ]
  },
  {
   "cell_type": "code",
   "execution_count": 42,
   "metadata": {},
   "outputs": [
    {
     "data": {
      "text/html": [
       "<style>#sk-container-id-5 {color: black;}#sk-container-id-5 pre{padding: 0;}#sk-container-id-5 div.sk-toggleable {background-color: white;}#sk-container-id-5 label.sk-toggleable__label {cursor: pointer;display: block;width: 100%;margin-bottom: 0;padding: 0.3em;box-sizing: border-box;text-align: center;}#sk-container-id-5 label.sk-toggleable__label-arrow:before {content: \"▸\";float: left;margin-right: 0.25em;color: #696969;}#sk-container-id-5 label.sk-toggleable__label-arrow:hover:before {color: black;}#sk-container-id-5 div.sk-estimator:hover label.sk-toggleable__label-arrow:before {color: black;}#sk-container-id-5 div.sk-toggleable__content {max-height: 0;max-width: 0;overflow: hidden;text-align: left;background-color: #f0f8ff;}#sk-container-id-5 div.sk-toggleable__content pre {margin: 0.2em;color: black;border-radius: 0.25em;background-color: #f0f8ff;}#sk-container-id-5 input.sk-toggleable__control:checked~div.sk-toggleable__content {max-height: 200px;max-width: 100%;overflow: auto;}#sk-container-id-5 input.sk-toggleable__control:checked~label.sk-toggleable__label-arrow:before {content: \"▾\";}#sk-container-id-5 div.sk-estimator input.sk-toggleable__control:checked~label.sk-toggleable__label {background-color: #d4ebff;}#sk-container-id-5 div.sk-label input.sk-toggleable__control:checked~label.sk-toggleable__label {background-color: #d4ebff;}#sk-container-id-5 input.sk-hidden--visually {border: 0;clip: rect(1px 1px 1px 1px);clip: rect(1px, 1px, 1px, 1px);height: 1px;margin: -1px;overflow: hidden;padding: 0;position: absolute;width: 1px;}#sk-container-id-5 div.sk-estimator {font-family: monospace;background-color: #f0f8ff;border: 1px dotted black;border-radius: 0.25em;box-sizing: border-box;margin-bottom: 0.5em;}#sk-container-id-5 div.sk-estimator:hover {background-color: #d4ebff;}#sk-container-id-5 div.sk-parallel-item::after {content: \"\";width: 100%;border-bottom: 1px solid gray;flex-grow: 1;}#sk-container-id-5 div.sk-label:hover label.sk-toggleable__label {background-color: #d4ebff;}#sk-container-id-5 div.sk-serial::before {content: \"\";position: absolute;border-left: 1px solid gray;box-sizing: border-box;top: 0;bottom: 0;left: 50%;z-index: 0;}#sk-container-id-5 div.sk-serial {display: flex;flex-direction: column;align-items: center;background-color: white;padding-right: 0.2em;padding-left: 0.2em;position: relative;}#sk-container-id-5 div.sk-item {position: relative;z-index: 1;}#sk-container-id-5 div.sk-parallel {display: flex;align-items: stretch;justify-content: center;background-color: white;position: relative;}#sk-container-id-5 div.sk-item::before, #sk-container-id-5 div.sk-parallel-item::before {content: \"\";position: absolute;border-left: 1px solid gray;box-sizing: border-box;top: 0;bottom: 0;left: 50%;z-index: -1;}#sk-container-id-5 div.sk-parallel-item {display: flex;flex-direction: column;z-index: 1;position: relative;background-color: white;}#sk-container-id-5 div.sk-parallel-item:first-child::after {align-self: flex-end;width: 50%;}#sk-container-id-5 div.sk-parallel-item:last-child::after {align-self: flex-start;width: 50%;}#sk-container-id-5 div.sk-parallel-item:only-child::after {width: 0;}#sk-container-id-5 div.sk-dashed-wrapped {border: 1px dashed gray;margin: 0 0.4em 0.5em 0.4em;box-sizing: border-box;padding-bottom: 0.4em;background-color: white;}#sk-container-id-5 div.sk-label label {font-family: monospace;font-weight: bold;display: inline-block;line-height: 1.2em;}#sk-container-id-5 div.sk-label-container {text-align: center;}#sk-container-id-5 div.sk-container {/* jupyter's `normalize.less` sets `[hidden] { display: none; }` but bootstrap.min.css set `[hidden] { display: none !important; }` so we also need the `!important` here to be able to override the default hidden behavior on the sphinx rendered scikit-learn.org. See: https://github.com/scikit-learn/scikit-learn/issues/21755 */display: inline-block !important;position: relative;}#sk-container-id-5 div.sk-text-repr-fallback {display: none;}</style><div id=\"sk-container-id-5\" class=\"sk-top-container\"><div class=\"sk-text-repr-fallback\"><pre>Pipeline(steps=[(&#x27;preparation&#x27;,\n",
       "                 ColumnTransformer(transformers=[(&#x27;num&#x27;,\n",
       "                                                  Pipeline(steps=[(&#x27;imputer&#x27;,\n",
       "                                                                   SimpleImputer(strategy=&#x27;median&#x27;)),\n",
       "                                                                  (&#x27;attribs_adder&#x27;,\n",
       "                                                                   CombinedAttributesAdder()),\n",
       "                                                                  (&#x27;std_scaler&#x27;,\n",
       "                                                                   StandardScaler())]),\n",
       "                                                  [&#x27;longitude&#x27;, &#x27;latitude&#x27;,\n",
       "                                                   &#x27;housing_median_age&#x27;,\n",
       "                                                   &#x27;total_rooms&#x27;,\n",
       "                                                   &#x27;total_bedrooms&#x27;,\n",
       "                                                   &#x27;population&#x27;, &#x27;households&#x27;,\n",
       "                                                   &#x27;median_income&#x27;]),\n",
       "                                                 (&#x27;cat&#x27;, OneHotEncoder(...\n",
       "                 TopFeatureSelector(feature_importances=array([6.96542523e-02, 6.04213840e-02, 4.21882202e-02, 1.52450557e-02,\n",
       "       1.55545295e-02, 1.58491147e-02, 1.49346552e-02, 3.79009225e-01,\n",
       "       5.47789150e-02, 1.07031322e-01, 4.82031213e-02, 6.79266007e-03,\n",
       "       1.65706303e-01, 7.83480660e-05, 1.52473276e-03, 3.02816106e-03]),\n",
       "                                    k=5)),\n",
       "                (&#x27;svm_reg&#x27;,\n",
       "                 SVR(C=157055.10989448498, gamma=0.26497040005002437))])</pre><b>In a Jupyter environment, please rerun this cell to show the HTML representation or trust the notebook. <br />On GitHub, the HTML representation is unable to render, please try loading this page with nbviewer.org.</b></div><div class=\"sk-container\" hidden><div class=\"sk-item sk-dashed-wrapped\"><div class=\"sk-label-container\"><div class=\"sk-label sk-toggleable\"><input class=\"sk-toggleable__control sk-hidden--visually\" id=\"sk-estimator-id-11\" type=\"checkbox\" ><label for=\"sk-estimator-id-11\" class=\"sk-toggleable__label sk-toggleable__label-arrow\">Pipeline</label><div class=\"sk-toggleable__content\"><pre>Pipeline(steps=[(&#x27;preparation&#x27;,\n",
       "                 ColumnTransformer(transformers=[(&#x27;num&#x27;,\n",
       "                                                  Pipeline(steps=[(&#x27;imputer&#x27;,\n",
       "                                                                   SimpleImputer(strategy=&#x27;median&#x27;)),\n",
       "                                                                  (&#x27;attribs_adder&#x27;,\n",
       "                                                                   CombinedAttributesAdder()),\n",
       "                                                                  (&#x27;std_scaler&#x27;,\n",
       "                                                                   StandardScaler())]),\n",
       "                                                  [&#x27;longitude&#x27;, &#x27;latitude&#x27;,\n",
       "                                                   &#x27;housing_median_age&#x27;,\n",
       "                                                   &#x27;total_rooms&#x27;,\n",
       "                                                   &#x27;total_bedrooms&#x27;,\n",
       "                                                   &#x27;population&#x27;, &#x27;households&#x27;,\n",
       "                                                   &#x27;median_income&#x27;]),\n",
       "                                                 (&#x27;cat&#x27;, OneHotEncoder(...\n",
       "                 TopFeatureSelector(feature_importances=array([6.96542523e-02, 6.04213840e-02, 4.21882202e-02, 1.52450557e-02,\n",
       "       1.55545295e-02, 1.58491147e-02, 1.49346552e-02, 3.79009225e-01,\n",
       "       5.47789150e-02, 1.07031322e-01, 4.82031213e-02, 6.79266007e-03,\n",
       "       1.65706303e-01, 7.83480660e-05, 1.52473276e-03, 3.02816106e-03]),\n",
       "                                    k=5)),\n",
       "                (&#x27;svm_reg&#x27;,\n",
       "                 SVR(C=157055.10989448498, gamma=0.26497040005002437))])</pre></div></div></div><div class=\"sk-serial\"><div class=\"sk-item sk-dashed-wrapped\"><div class=\"sk-label-container\"><div class=\"sk-label sk-toggleable\"><input class=\"sk-toggleable__control sk-hidden--visually\" id=\"sk-estimator-id-12\" type=\"checkbox\" ><label for=\"sk-estimator-id-12\" class=\"sk-toggleable__label sk-toggleable__label-arrow\">preparation: ColumnTransformer</label><div class=\"sk-toggleable__content\"><pre>ColumnTransformer(transformers=[(&#x27;num&#x27;,\n",
       "                                 Pipeline(steps=[(&#x27;imputer&#x27;,\n",
       "                                                  SimpleImputer(strategy=&#x27;median&#x27;)),\n",
       "                                                 (&#x27;attribs_adder&#x27;,\n",
       "                                                  CombinedAttributesAdder()),\n",
       "                                                 (&#x27;std_scaler&#x27;,\n",
       "                                                  StandardScaler())]),\n",
       "                                 [&#x27;longitude&#x27;, &#x27;latitude&#x27;, &#x27;housing_median_age&#x27;,\n",
       "                                  &#x27;total_rooms&#x27;, &#x27;total_bedrooms&#x27;, &#x27;population&#x27;,\n",
       "                                  &#x27;households&#x27;, &#x27;median_income&#x27;]),\n",
       "                                (&#x27;cat&#x27;, OneHotEncoder(), [&#x27;ocean_proximity&#x27;])])</pre></div></div></div><div class=\"sk-parallel\"><div class=\"sk-parallel-item\"><div class=\"sk-item\"><div class=\"sk-label-container\"><div class=\"sk-label sk-toggleable\"><input class=\"sk-toggleable__control sk-hidden--visually\" id=\"sk-estimator-id-13\" type=\"checkbox\" ><label for=\"sk-estimator-id-13\" class=\"sk-toggleable__label sk-toggleable__label-arrow\">num</label><div class=\"sk-toggleable__content\"><pre>[&#x27;longitude&#x27;, &#x27;latitude&#x27;, &#x27;housing_median_age&#x27;, &#x27;total_rooms&#x27;, &#x27;total_bedrooms&#x27;, &#x27;population&#x27;, &#x27;households&#x27;, &#x27;median_income&#x27;]</pre></div></div></div><div class=\"sk-serial\"><div class=\"sk-item\"><div class=\"sk-serial\"><div class=\"sk-item\"><div class=\"sk-estimator sk-toggleable\"><input class=\"sk-toggleable__control sk-hidden--visually\" id=\"sk-estimator-id-14\" type=\"checkbox\" ><label for=\"sk-estimator-id-14\" class=\"sk-toggleable__label sk-toggleable__label-arrow\">SimpleImputer</label><div class=\"sk-toggleable__content\"><pre>SimpleImputer(strategy=&#x27;median&#x27;)</pre></div></div></div><div class=\"sk-item\"><div class=\"sk-estimator sk-toggleable\"><input class=\"sk-toggleable__control sk-hidden--visually\" id=\"sk-estimator-id-15\" type=\"checkbox\" ><label for=\"sk-estimator-id-15\" class=\"sk-toggleable__label sk-toggleable__label-arrow\">CombinedAttributesAdder</label><div class=\"sk-toggleable__content\"><pre>CombinedAttributesAdder()</pre></div></div></div><div class=\"sk-item\"><div class=\"sk-estimator sk-toggleable\"><input class=\"sk-toggleable__control sk-hidden--visually\" id=\"sk-estimator-id-16\" type=\"checkbox\" ><label for=\"sk-estimator-id-16\" class=\"sk-toggleable__label sk-toggleable__label-arrow\">StandardScaler</label><div class=\"sk-toggleable__content\"><pre>StandardScaler()</pre></div></div></div></div></div></div></div></div><div class=\"sk-parallel-item\"><div class=\"sk-item\"><div class=\"sk-label-container\"><div class=\"sk-label sk-toggleable\"><input class=\"sk-toggleable__control sk-hidden--visually\" id=\"sk-estimator-id-17\" type=\"checkbox\" ><label for=\"sk-estimator-id-17\" class=\"sk-toggleable__label sk-toggleable__label-arrow\">cat</label><div class=\"sk-toggleable__content\"><pre>[&#x27;ocean_proximity&#x27;]</pre></div></div></div><div class=\"sk-serial\"><div class=\"sk-item\"><div class=\"sk-estimator sk-toggleable\"><input class=\"sk-toggleable__control sk-hidden--visually\" id=\"sk-estimator-id-18\" type=\"checkbox\" ><label for=\"sk-estimator-id-18\" class=\"sk-toggleable__label sk-toggleable__label-arrow\">OneHotEncoder</label><div class=\"sk-toggleable__content\"><pre>OneHotEncoder()</pre></div></div></div></div></div></div></div></div><div class=\"sk-item\"><div class=\"sk-estimator sk-toggleable\"><input class=\"sk-toggleable__control sk-hidden--visually\" id=\"sk-estimator-id-19\" type=\"checkbox\" ><label for=\"sk-estimator-id-19\" class=\"sk-toggleable__label sk-toggleable__label-arrow\">TopFeatureSelector</label><div class=\"sk-toggleable__content\"><pre>TopFeatureSelector(feature_importances=array([6.96542523e-02, 6.04213840e-02, 4.21882202e-02, 1.52450557e-02,\n",
       "       1.55545295e-02, 1.58491147e-02, 1.49346552e-02, 3.79009225e-01,\n",
       "       5.47789150e-02, 1.07031322e-01, 4.82031213e-02, 6.79266007e-03,\n",
       "       1.65706303e-01, 7.83480660e-05, 1.52473276e-03, 3.02816106e-03]),\n",
       "                   k=5)</pre></div></div></div><div class=\"sk-item\"><div class=\"sk-estimator sk-toggleable\"><input class=\"sk-toggleable__control sk-hidden--visually\" id=\"sk-estimator-id-20\" type=\"checkbox\" ><label for=\"sk-estimator-id-20\" class=\"sk-toggleable__label sk-toggleable__label-arrow\">SVR</label><div class=\"sk-toggleable__content\"><pre>SVR(C=157055.10989448498, gamma=0.26497040005002437)</pre></div></div></div></div></div></div></div>"
      ],
      "text/plain": [
       "Pipeline(steps=[('preparation',\n",
       "                 ColumnTransformer(transformers=[('num',\n",
       "                                                  Pipeline(steps=[('imputer',\n",
       "                                                                   SimpleImputer(strategy='median')),\n",
       "                                                                  ('attribs_adder',\n",
       "                                                                   CombinedAttributesAdder()),\n",
       "                                                                  ('std_scaler',\n",
       "                                                                   StandardScaler())]),\n",
       "                                                  ['longitude', 'latitude',\n",
       "                                                   'housing_median_age',\n",
       "                                                   'total_rooms',\n",
       "                                                   'total_bedrooms',\n",
       "                                                   'population', 'households',\n",
       "                                                   'median_income']),\n",
       "                                                 ('cat', OneHotEncoder(...\n",
       "                 TopFeatureSelector(feature_importances=array([6.96542523e-02, 6.04213840e-02, 4.21882202e-02, 1.52450557e-02,\n",
       "       1.55545295e-02, 1.58491147e-02, 1.49346552e-02, 3.79009225e-01,\n",
       "       5.47789150e-02, 1.07031322e-01, 4.82031213e-02, 6.79266007e-03,\n",
       "       1.65706303e-01, 7.83480660e-05, 1.52473276e-03, 3.02816106e-03]),\n",
       "                                    k=5)),\n",
       "                ('svm_reg',\n",
       "                 SVR(C=157055.10989448498, gamma=0.26497040005002437))])"
      ]
     },
     "execution_count": 42,
     "metadata": {},
     "output_type": "execute_result"
    }
   ],
   "source": [
    "prepare_select_and_predict_pipeline.fit(housing, housing_labels)"
   ]
  },
  {
   "cell_type": "code",
   "execution_count": 43,
   "metadata": {},
   "outputs": [
    {
     "name": "stdout",
     "output_type": "stream",
     "text": [
      "Predictions:\t [ 83384.49158095 299407.90439234  92272.03345144 150173.16199041]\n",
      "Labels:\t\t [72100.0, 279600.0, 82700.0, 112500.0]\n"
     ]
    }
   ],
   "source": [
    "some_data = housing.iloc[:4]\n",
    "some_labels = housing_labels.iloc[:4]\n",
    "\n",
    "print(\"Predictions:\\t\", prepare_select_and_predict_pipeline.predict(some_data))\n",
    "print(\"Labels:\\t\\t\", list(some_labels))"
   ]
  },
  {
   "cell_type": "markdown",
   "metadata": {},
   "source": [
    "## 5.\n",
    "\n",
    "Question: Automatically explore some preparation options using `GridSearchCV`."
   ]
  },
  {
   "cell_type": "markdown",
   "metadata": {},
   "source": [
    "**Warning**: the following cell may take close to 45 minutes to run, or more depending on your hardware."
   ]
  },
  {
   "cell_type": "code",
   "execution_count": null,
   "metadata": {},
   "outputs": [],
   "source": [
    "full_pipeline.named_transformers_[\"cat\"].handle_unknown = 'ignore'\n",
    "\n",
    "param_grid = [{\n",
    "    'preparation__num__imputer__strategy': ['mean', 'median', 'most_frequent'],\n",
    "    'feature_selection__k': list(range(1, len(feature_importances) + 1))\n",
    "}]\n",
    "\n",
    "grid_search_prep = GridSearchCV(prepare_select_and_predict_pipeline, param_grid, cv=5,\n",
    "                                scoring='neg_mean_squared_error', verbose=2)\n",
    "grid_search_prep.fit(housing, housing_labels)"
   ]
  },
  {
   "cell_type": "code",
   "execution_count": null,
   "metadata": {},
   "outputs": [],
   "source": [
    "grid_search_prep.best_params_"
   ]
  }
 ],
 "metadata": {
  "kernelspec": {
   "display_name": "venv",
   "language": "python",
   "name": "python3"
  },
  "language_info": {
   "codemirror_mode": {
    "name": "ipython",
    "version": 3
   },
   "file_extension": ".py",
   "mimetype": "text/x-python",
   "name": "python",
   "nbconvert_exporter": "python",
   "pygments_lexer": "ipython3",
   "version": "3.10.11"
  }
 },
 "nbformat": 4,
 "nbformat_minor": 2
}
