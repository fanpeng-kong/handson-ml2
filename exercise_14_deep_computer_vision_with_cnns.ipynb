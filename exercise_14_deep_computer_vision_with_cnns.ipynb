{
 "cells": [
  {
   "cell_type": "markdown",
   "metadata": {},
   "source": [
    "# Setup"
   ]
  },
  {
   "cell_type": "code",
   "execution_count": 1,
   "metadata": {},
   "outputs": [
    {
     "name": "stderr",
     "output_type": "stream",
     "text": [
      "/home/fanpeng/miniconda3/envs/tf2/lib/python3.8/site-packages/scipy/__init__.py:146: UserWarning: A NumPy version >=1.16.5 and <1.23.0 is required for this version of SciPy (detected version 1.23.5\n",
      "  warnings.warn(f\"A NumPy version >={np_minversion} and <{np_maxversion}\"\n",
      "2024-03-18 15:41:16.365490: I tensorflow/stream_executor/cuda/cuda_gpu_executor.cc:936] successful NUMA node read from SysFS had negative value (-1), but there must be at least one NUMA node, so returning NUMA node zero\n",
      "2024-03-18 15:41:16.449199: I tensorflow/stream_executor/cuda/cuda_gpu_executor.cc:936] successful NUMA node read from SysFS had negative value (-1), but there must be at least one NUMA node, so returning NUMA node zero\n",
      "2024-03-18 15:41:16.449528: I tensorflow/stream_executor/cuda/cuda_gpu_executor.cc:936] successful NUMA node read from SysFS had negative value (-1), but there must be at least one NUMA node, so returning NUMA node zero\n"
     ]
    }
   ],
   "source": [
    "# Python ≥3.5 is required\n",
    "import sys\n",
    "assert sys.version_info >= (3, 5)\n",
    "\n",
    "# Is this notebook running on Colab or Kaggle?\n",
    "IS_COLAB = \"google.colab\" in sys.modules\n",
    "IS_KAGGLE = \"kaggle_secrets\" in sys.modules\n",
    "\n",
    "# Scikit-Learn ≥0.20 is required\n",
    "import sklearn\n",
    "assert sklearn.__version__ >= \"0.20\"\n",
    "\n",
    "# TensorFlow ≥2.0 is required\n",
    "import tensorflow as tf\n",
    "from tensorflow import keras\n",
    "assert tf.__version__ >= \"2.0\"\n",
    "\n",
    "if not tf.config.list_physical_devices('GPU'):\n",
    "    print(\"No GPU was detected. CNNs can be very slow without a GPU.\")\n",
    "    if IS_COLAB:\n",
    "        print(\"Go to Runtime > Change runtime and select a GPU hardware accelerator.\")\n",
    "    if IS_KAGGLE:\n",
    "        print(\"Go to Settings > Accelerator and select GPU.\")\n",
    "\n",
    "# Common imports\n",
    "import numpy as np\n",
    "import os\n",
    "\n",
    "# to make this notebook's output stable across runs\n",
    "np.random.seed(42)\n",
    "tf.random.set_seed(42)\n",
    "\n",
    "# To plot pretty figures\n",
    "%matplotlib inline\n",
    "import matplotlib as mpl\n",
    "import matplotlib.pyplot as plt\n",
    "mpl.rc('axes', labelsize=14)\n",
    "mpl.rc('xtick', labelsize=12)\n",
    "mpl.rc('ytick', labelsize=12)\n",
    "\n",
    "# Where to save the figures\n",
    "PROJECT_ROOT_DIR = \".\"\n",
    "CHAPTER_ID = \"cnn\"\n",
    "IMAGES_PATH = os.path.join(PROJECT_ROOT_DIR, \"images\", CHAPTER_ID)\n",
    "os.makedirs(IMAGES_PATH, exist_ok=True)\n",
    "\n",
    "def save_fig(fig_id, tight_layout=True, fig_extension=\"png\", resolution=300):\n",
    "    path = os.path.join(IMAGES_PATH, fig_id + \".\" + fig_extension)\n",
    "    print(\"Saving figure\", fig_id)\n",
    "    if tight_layout:\n",
    "        plt.tight_layout()\n",
    "    plt.savefig(path, format=fig_extension, dpi=resolution)"
   ]
  },
  {
   "cell_type": "markdown",
   "metadata": {},
   "source": [
    "# Questions"
   ]
  },
  {
   "cell_type": "markdown",
   "metadata": {},
   "source": [
    "## 1. \n",
    "What are the advantages of a CNN over a fully connected DNN for image classi‐ fication?\n"
   ]
  },
  {
   "cell_type": "markdown",
   "metadata": {},
   "source": [
    "These are the main advantages of a CNN over a fully connected DNN for image classification:\n",
    "\n",
    "- Because consecutive layers are only partially connected and because it heavily\n",
    "reuses its weights, a CNN has many fewer parameters than a fully connected\n",
    "DNN, which makes it much faster to train, reduces the risk of overfitting, and\n",
    "requires much less training data.\n",
    "\n",
    "- When a CNN has learned a kernel that can detect a particular feature, it can\n",
    "detect that feature anywhere in the image. In contrast, when a DNN learns a\n",
    "feature in one location, it can detect it only in that particular location. Since\n",
    "images typically have very repetitive features, CNNs are able to generalize\n",
    "much better than DNNs for image processing tasks such as classification, using\n",
    "fewer training examples.\n",
    "\n",
    "- Finally, a DNN has no prior knowledge of how pixels are organized; it does not\n",
    "know that nearby pixels are close. A CNN’s architecture embeds this prior\n",
    "knowledge. Lower layers typically identify features in small areas of the images,\n",
    "while higher layers combine the lower-level features into larger features. This\n",
    "works well with most natural images, giving CNNs a decisive head start com‐\n",
    "pared to DNNs."
   ]
  },
  {
   "cell_type": "markdown",
   "metadata": {},
   "source": [
    "## 2. \n",
    "Consider a CNN composed of three convolutional layers, each with 3 × 3 kernels, a stride of 2, and \"same\" padding. The lowest layer outputs 100 feature maps, the middle one outputs 200, and the top one outputs 400. The input images are RGB images of 200 × 300 pixels. What is the total number of parameters in the CNN? If we are using 32-bit floats, at least how much RAM will this network require when making a prediction for a single instance? What about when training on a mini-batch of 50 images?\n"
   ]
  },
  {
   "cell_type": "markdown",
   "metadata": {},
   "source": [
    "Let’s compute how many parameters the CNN has. Since its first convolutional\n",
    "layer has 3 × 3 kernels, and the input has three channels (red, green, and blue),\n",
    "each feature map has 3 × 3 × 3 weights, plus a bias term. That’s 28 parameters per\n",
    "739feature map. Since this first convolutional layer has 100 feature maps, it has a\n",
    "total of 2,800 parameters. The second convolutional layer has 3 × 3 kernels and\n",
    "its input is the set of 100 feature maps of the previous layer, so each feature map\n",
    "has 3 × 3 × 100 = 900 weights, plus a bias term. Since it has 200 feature maps, this\n",
    "layer has 901 × 200 = 180,200 parameters. Finally, the third and last convolu‐\n",
    "tional layer also has 3 × 3 kernels, and its input is the set of 200 feature maps of\n",
    "the previous layers, so each feature map has 3 × 3 × 200 = 1,800 weights, plus a\n",
    "bias term. Since it has 400 feature maps, this layer has a total of 1,801 × 400 =\n",
    "720,400 parameters. All in all, the CNN has 2,800 + 180,200 + 720,400 = 903,400\n",
    "parameters.\n",
    "\n",
    "Now let’s compute how much RAM this neural network will require (at least)\n",
    "when making a prediction for a single instance. First let’s compute the feature\n",
    "map size for each layer. Since we are using a stride of 2 and \"same\" padding, the\n",
    "horizontal and vertical dimensions of the feature maps are divided by 2 at each\n",
    "layer (rounding up if necessary). So, as the input channels are 200 × 300 pixels,\n",
    "the first layer’s feature maps are 100 × 150, the second layer’s feature maps are 50\n",
    "× 75, and the third layer’s feature maps are 25 × 38. Since 32 bits is 4 bytes and\n",
    "the first convolutional layer has 100 feature maps, this first layer takes up 4 × 100\n",
    "× 150 × 100 = 6 million bytes (6 MB). The second layer takes up 4 × 50 × 75 ×\n",
    "200 = 3 million bytes (3 MB). Finally, the third layer takes up 4 × 25 × 38 × 400 =\n",
    "1,520,000 bytes (about 1.5 MB). However, once a layer has been computed, the\n",
    "memory occupied by the previous layer can be released, so if everything is well\n",
    "optimized, only 6 + 3 = 9 million bytes (9 MB) of RAM will be required (when\n",
    "the second layer has just been computed, but the memory occupied by the first\n",
    "layer has not been released yet). But wait, you also need to add the memory occu‐\n",
    "pied by the CNN’s parameters! We computed earlier that it has 903,400 parame‐\n",
    "ters, each using up 4 bytes, so this adds 3,613,600 bytes (about 3.6 MB). The total\n",
    "RAM required is therefore (at least) 12,613,600 bytes (about 12.6 MB).\n",
    "\n",
    "Lastly, let’s compute the minimum amount of RAM required when training the\n",
    "CNN on a mini-batch of 50 images. During training TensorFlow uses backpropa‐\n",
    "gation, which requires keeping all values computed during the forward pass until\n",
    "the reverse pass begins. So we must compute the total RAM required by all layers\n",
    "for a single instance and multiply that by 50. At this point, let’s start counting in\n",
    "megabytes rather than bytes. We computed before that the three layers require\n",
    "respectively 6, 3, and 1.5 MB for each instance. That’s a total of 10.5 MB per\n",
    "instance, so for 50 instances the total RAM required is 525 MB. Add to that the\n",
    "RAM required by the input images, which is 50 × 4 × 200 × 300 × 3 = 36 million\n",
    "bytes (36 MB), plus the RAM required for the model parameters, which is about\n",
    "3.6 MB (computed earlier), plus some RAM for the gradients (we will neglect this\n",
    "since it can be released gradually as backpropagation goes down the layers during\n",
    "the reverse pass). We are up to a total of roughly 525 + 36 + 3.6 = 564.6 MB, and\n",
    "that’s really an optimistic bare minimum."
   ]
  },
  {
   "cell_type": "markdown",
   "metadata": {},
   "source": [
    "## 3. \n",
    "If your GPU runs out of memory while training a CNN, what are five things you could try to solve the problem?\n"
   ]
  },
  {
   "cell_type": "markdown",
   "metadata": {},
   "source": [
    "If your GPU runs out of memory while training a CNN, here are five things you\n",
    "could try to solve the problem (other than purchasing a GPU with more RAM):\n",
    "\n",
    "- Reduce the mini-batch size.\n",
    "- Reduce dimensionality using a larger stride in one or more layers.\n",
    "- Remove one or more layers.\n",
    "- Use 16-bit floats instead of 32-bit floats.\n",
    "- Distribute the CNN across multiple devices."
   ]
  },
  {
   "cell_type": "markdown",
   "metadata": {},
   "source": [
    "## 4. \n",
    "Why would you want to add a max pooling layer rather than a convolutional layer with the same stride?\n"
   ]
  },
  {
   "cell_type": "markdown",
   "metadata": {},
   "source": [
    "A max pooling layer has no parameters at all, whereas a convolutional layer has\n",
    "quite a few (see the previous questions)."
   ]
  },
  {
   "cell_type": "markdown",
   "metadata": {},
   "source": [
    "## 5. \n",
    "When would you want to add a local response normalization layer?\n"
   ]
  },
  {
   "cell_type": "markdown",
   "metadata": {},
   "source": [
    "A local response normalization layer makes the neurons that most strongly acti‐\n",
    "vate inhibit neurons at the same location but in neighboring feature maps, which\n",
    "encourages different feature maps to specialize and pushes them apart, forcing\n",
    "them to explore a wider range of features. It is typically used in the lower layers to\n",
    "have a larger pool of low-level features that the upper layers can build upon."
   ]
  },
  {
   "cell_type": "markdown",
   "metadata": {},
   "source": [
    "## 6. \n",
    "Can you name the main innovations in AlexNet, compared to LeNet-5? What about the main innovations in GoogLeNet, ResNet, SENet, and Xception?\n"
   ]
  },
  {
   "cell_type": "markdown",
   "metadata": {},
   "source": [
    "The main innovations in AlexNet compared to LeNet-5 are that it is much larger\n",
    "and deeper, and it stacks convolutional layers directly on top of each other,\n",
    "instead of stacking a pooling layer on top of each convolutional layer. The main\n",
    "innovation in GoogLeNet is the introduction of inception modules, which make it\n",
    "possible to have a much deeper net than previous CNN architectures, with fewer\n",
    "parameters. ResNet’s main innovation is the introduction of skip connections,\n",
    "which make it possible to go well beyond 100 layers. Arguably, its simplicity and\n",
    "consistency are also rather innovative. SENet’s main innovation was the idea of\n",
    "using an SE block (a two-layer dense network) after every inception module in\n",
    "an inception network or every residual unit in a ResNet to recalibrate the relative\n",
    "importance of feature maps. Finally, Xception’s main innovation was the use of\n",
    "depthwise separable convolutional layers, which look at spatial patterns and\n",
    "depthwise patterns separately."
   ]
  },
  {
   "cell_type": "markdown",
   "metadata": {},
   "source": [
    "## 7. \n",
    "What is a fully convolutional network? How can you convert a dense layer into a convolutional layer?\n"
   ]
  },
  {
   "cell_type": "markdown",
   "metadata": {},
   "source": [
    "Fully convolutional networks are neural networks composed exclusively of con‐\n",
    "volutional and pooling layers. FCNs can efficiently process images of any width\n",
    "and height (at least above the minimum size). They are most useful for object\n",
    "detection and semantic segmentation because they only need to look at the image\n",
    "once (instead of having to run a CNN multiple times on different parts of the\n",
    "image). If you have a CNN with some dense layers on top, you can convert these\n",
    "dense layers to convolutional layers to create an FCN: just replace the lowest\n",
    "dense layer with a convolutional layer with a kernel size equal to the layer’s input\n",
    "size, with one filter per neuron in the dense layer, and using \"valid\" padding.\n",
    "Generally the stride should be 1, but you can set it to a higher value if you want.\n",
    "The activation function should be the same as the dense layer’s. The other dense\n",
    "layers should be converted the same way, but using 1 × 1 filters. It is actually pos‐\n",
    "sible to convert a trained CNN this way by appropriately reshaping the dense lay‐\n",
    "ers’ weight matrices."
   ]
  },
  {
   "cell_type": "markdown",
   "metadata": {},
   "source": [
    "## 8. \n",
    "What is the main technical difficulty of semantic segmentation?\n"
   ]
  },
  {
   "cell_type": "markdown",
   "metadata": {},
   "source": [
    "The main technical difficulty of semantic segmentation is the fact that a lot of the\n",
    "spatial information gets lost in a CNN as the signal flows through each layer,\n",
    "especially in pooling layers and layers with a stride greater than 1. This spatial\n",
    "information needs to be restored somehow to accurately predict the class of each\n",
    "pixel."
   ]
  },
  {
   "cell_type": "markdown",
   "metadata": {},
   "source": [
    "## 9. \n",
    "Build your own CNN from scratch and try to achieve the highest possible accu‐ racy on MNIST."
   ]
  },
  {
   "cell_type": "markdown",
   "metadata": {},
   "source": [
    "The following model uses 2 convolutional layers, followed by 1 pooling layer, then dropout 25%, then a dense layer, another dropout layer but with 50% dropout, and finally the output layer. It reaches about 99.2% accuracy on the test set. This places this model roughly in the top 20% in the [MNIST Kaggle competition](https://www.kaggle.com/c/digit-recognizer/) (if we ignore the models with an accuracy greater than 99.79% which were most likely trained on the test set, as explained by Chris Deotte in [this post](https://www.kaggle.com/c/digit-recognizer/discussion/61480)). Can you do better? To reach 99.5 to 99.7% accuracy on the test set, you need to add image augmentation, batch norm, use a learning schedule such as 1-cycle, and possibly create an ensemble."
   ]
  },
  {
   "cell_type": "code",
   "execution_count": 2,
   "metadata": {},
   "outputs": [],
   "source": [
    "(X_train_full, y_train_full), (X_test, y_test) = keras.datasets.mnist.load_data()\n",
    "X_train_full = X_train_full / 255.\n",
    "X_test = X_test / 255.\n",
    "X_train, X_valid = X_train_full[:-5000], X_train_full[-5000:]\n",
    "y_train, y_valid = y_train_full[:-5000], y_train_full[-5000:]\n",
    "\n",
    "X_train = X_train[..., np.newaxis]\n",
    "X_valid = X_valid[..., np.newaxis]\n",
    "X_test = X_test[..., np.newaxis]"
   ]
  },
  {
   "cell_type": "code",
   "execution_count": 3,
   "metadata": {},
   "outputs": [
    {
     "name": "stderr",
     "output_type": "stream",
     "text": [
      "2024-03-18 17:08:10.610928: I tensorflow/core/platform/cpu_feature_guard.cc:151] This TensorFlow binary is optimized with oneAPI Deep Neural Network Library (oneDNN) to use the following CPU instructions in performance-critical operations:  AVX2 FMA\n",
      "To enable them in other operations, rebuild TensorFlow with the appropriate compiler flags.\n",
      "2024-03-18 17:08:10.612434: I tensorflow/stream_executor/cuda/cuda_gpu_executor.cc:936] successful NUMA node read from SysFS had negative value (-1), but there must be at least one NUMA node, so returning NUMA node zero\n",
      "2024-03-18 17:08:10.612911: I tensorflow/stream_executor/cuda/cuda_gpu_executor.cc:936] successful NUMA node read from SysFS had negative value (-1), but there must be at least one NUMA node, so returning NUMA node zero\n",
      "2024-03-18 17:08:10.613234: I tensorflow/stream_executor/cuda/cuda_gpu_executor.cc:936] successful NUMA node read from SysFS had negative value (-1), but there must be at least one NUMA node, so returning NUMA node zero\n",
      "2024-03-18 17:08:11.660111: I tensorflow/stream_executor/cuda/cuda_gpu_executor.cc:936] successful NUMA node read from SysFS had negative value (-1), but there must be at least one NUMA node, so returning NUMA node zero\n",
      "2024-03-18 17:08:11.660413: I tensorflow/stream_executor/cuda/cuda_gpu_executor.cc:936] successful NUMA node read from SysFS had negative value (-1), but there must be at least one NUMA node, so returning NUMA node zero\n",
      "2024-03-18 17:08:11.660667: I tensorflow/stream_executor/cuda/cuda_gpu_executor.cc:936] successful NUMA node read from SysFS had negative value (-1), but there must be at least one NUMA node, so returning NUMA node zero\n",
      "2024-03-18 17:08:11.661112: I tensorflow/core/common_runtime/gpu/gpu_device.cc:1525] Created device /job:localhost/replica:0/task:0/device:GPU:0 with 1772 MB memory:  -> device: 0, name: NVIDIA GeForce GTX 1050 Ti with Max-Q Design, pci bus id: 0000:01:00.0, compute capability: 6.1\n"
     ]
    },
    {
     "name": "stdout",
     "output_type": "stream",
     "text": [
      "Epoch 1/10\n"
     ]
    },
    {
     "name": "stderr",
     "output_type": "stream",
     "text": [
      "2024-03-18 17:08:14.693479: I tensorflow/stream_executor/cuda/cuda_dnn.cc:368] Loaded cuDNN version 8401\n"
     ]
    },
    {
     "name": "stdout",
     "output_type": "stream",
     "text": [
      "1719/1719 [==============================] - 32s 17ms/step - loss: 0.1968 - accuracy: 0.9396 - val_loss: 0.0443 - val_accuracy: 0.9868\n",
      "Epoch 2/10\n",
      "1719/1719 [==============================] - 30s 18ms/step - loss: 0.0790 - accuracy: 0.9761 - val_loss: 0.0465 - val_accuracy: 0.9880\n",
      "Epoch 3/10\n",
      "1719/1719 [==============================] - 31s 18ms/step - loss: 0.0618 - accuracy: 0.9809 - val_loss: 0.0368 - val_accuracy: 0.9900\n",
      "Epoch 4/10\n",
      "1719/1719 [==============================] - 31s 18ms/step - loss: 0.0504 - accuracy: 0.9849 - val_loss: 0.0385 - val_accuracy: 0.9904\n",
      "Epoch 5/10\n",
      "1719/1719 [==============================] - 31s 18ms/step - loss: 0.0416 - accuracy: 0.9865 - val_loss: 0.0322 - val_accuracy: 0.9930\n",
      "Epoch 6/10\n",
      "1719/1719 [==============================] - 32s 19ms/step - loss: 0.0361 - accuracy: 0.9883 - val_loss: 0.0440 - val_accuracy: 0.9892\n",
      "Epoch 7/10\n",
      "1719/1719 [==============================] - 34s 20ms/step - loss: 0.0337 - accuracy: 0.9891 - val_loss: 0.0354 - val_accuracy: 0.9918\n",
      "Epoch 8/10\n",
      "1719/1719 [==============================] - 36s 21ms/step - loss: 0.0295 - accuracy: 0.9909 - val_loss: 0.0361 - val_accuracy: 0.9926\n",
      "Epoch 9/10\n",
      "1719/1719 [==============================] - 35s 20ms/step - loss: 0.0277 - accuracy: 0.9908 - val_loss: 0.0415 - val_accuracy: 0.9912\n",
      "Epoch 10/10\n",
      "1719/1719 [==============================] - 34s 20ms/step - loss: 0.0237 - accuracy: 0.9924 - val_loss: 0.0416 - val_accuracy: 0.9912\n",
      "313/313 [==============================] - 3s 10ms/step - loss: 0.0268 - accuracy: 0.9925\n"
     ]
    },
    {
     "data": {
      "text/plain": [
       "[0.026768291369080544, 0.9925000071525574]"
      ]
     },
     "execution_count": 3,
     "metadata": {},
     "output_type": "execute_result"
    }
   ],
   "source": [
    "keras.backend.clear_session()\n",
    "tf.random.set_seed(42)\n",
    "np.random.seed(42)\n",
    "\n",
    "model = keras.models.Sequential([\n",
    "    keras.layers.Conv2D(32, kernel_size=3, padding=\"same\", activation=\"relu\"),\n",
    "    keras.layers.Conv2D(64, kernel_size=3, padding=\"same\", activation=\"relu\"),\n",
    "    keras.layers.MaxPool2D(),\n",
    "    keras.layers.Flatten(),\n",
    "    keras.layers.Dropout(0.25),\n",
    "    keras.layers.Dense(128, activation=\"relu\"),\n",
    "    keras.layers.Dropout(0.5),\n",
    "    keras.layers.Dense(10, activation=\"softmax\")\n",
    "])\n",
    "model.compile(loss=\"sparse_categorical_crossentropy\", optimizer=\"nadam\",\n",
    "              metrics=[\"accuracy\"])\n",
    "\n",
    "model.fit(X_train, y_train, epochs=10, validation_data=(X_valid, y_valid))\n",
    "model.evaluate(X_test, y_test)"
   ]
  },
  {
   "cell_type": "markdown",
   "metadata": {},
   "source": [
    "## 10. \n",
    "Use transfer learning for large image classification, going through these steps:\n",
    "\n",
    "a. Create a training set containing at least 100 images per class. For example, you\n",
    "could classify your own pictures based on the location (beach, mountain, city,\n",
    "etc.), or alternatively you can use an existing dataset (e.g., from TensorFlow\n",
    "Datasets).\n",
    "\n",
    "b. Split it into a training set, a validation set, and a test set.\n",
    "\n",
    "c. Build the input pipeline, including the appropriate preprocessing operations,\n",
    "and optionally add data augmentation.\n",
    "\n",
    "d. Fine-tune a pretrained model on this dataset.\n"
   ]
  },
  {
   "cell_type": "markdown",
   "metadata": {},
   "source": [
    "## 11. \n",
    "Go through TensorFlow’s Style Transfer tutorial. It is a fun way to generate art using Deep Learning."
   ]
  }
 ],
 "metadata": {
  "interpreter": {
   "hash": "4c01faa304b067634e6649e845c90d29a28bbb084674f774f8c946c047d774b2"
  },
  "kernelspec": {
   "display_name": "Python 3.8.15 ('tf2')",
   "language": "python",
   "name": "python3"
  },
  "language_info": {
   "codemirror_mode": {
    "name": "ipython",
    "version": 3
   },
   "file_extension": ".py",
   "mimetype": "text/x-python",
   "name": "python",
   "nbconvert_exporter": "python",
   "pygments_lexer": "ipython3",
   "version": "3.8.15"
  },
  "orig_nbformat": 4
 },
 "nbformat": 4,
 "nbformat_minor": 2
}
